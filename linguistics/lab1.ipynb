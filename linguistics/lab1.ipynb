{
 "cells": [
  {
   "cell_type": "markdown",
   "source": [
    "Libs:\n",
    "1. razdel\n",
    "2. mystem\n",
    "3. pymorphy"
   ],
   "metadata": {
    "collapsed": false
   },
   "id": "b7a6bc98de953e88"
  },
  {
   "cell_type": "code",
   "execution_count": 91,
   "id": "initial_id",
   "metadata": {
    "collapsed": true,
    "ExecuteTime": {
     "end_time": "2024-02-29T15:07:45.321702Z",
     "start_time": "2024-02-29T15:07:45.103894Z"
    }
   },
   "outputs": [],
   "source": [
    "from razdel import sentenize, tokenize\n",
    "from pymystem3 import Mystem\n",
    "from pymorphy3 import MorphAnalyzer"
   ]
  },
  {
   "cell_type": "markdown",
   "source": [
    "1 Задание:\n",
    "Использовать функцию razdel.sentenize\n",
    "Найти такое предложение, которое будет некорректно разобрано, но при этом будет грамматически верным"
   ],
   "metadata": {
    "collapsed": false
   },
   "id": "d125d8fd4e245ba3"
  },
  {
   "cell_type": "code",
   "outputs": [],
   "source": [
    "sentence = 'Светает!.. Ах! как скоро ночь минула! '  # спорный момент насчет \"Ах\", как мне кажется, оставляет в одном предложении с продолжением"
   ],
   "metadata": {
    "collapsed": false,
    "ExecuteTime": {
     "end_time": "2024-02-29T12:43:22.637126Z",
     "start_time": "2024-02-29T12:43:22.632471Z"
    }
   },
   "id": "764ccfcbb16228b6",
   "execution_count": 43
  },
  {
   "cell_type": "code",
   "outputs": [
    {
     "data": {
      "text/plain": "[Substring(0, 10, 'Светает!..'),\n Substring(11, 37, 'Ах! как скоро ночь минула!')]"
     },
     "execution_count": 44,
     "metadata": {},
     "output_type": "execute_result"
    }
   ],
   "source": [
    "list(sentenize(sentence))"
   ],
   "metadata": {
    "collapsed": false,
    "ExecuteTime": {
     "end_time": "2024-02-29T12:43:22.952618Z",
     "start_time": "2024-02-29T12:43:22.943868Z"
    }
   },
   "id": "1eacfc9f13574654",
   "execution_count": 44
  },
  {
   "cell_type": "code",
   "outputs": [],
   "source": [
    "sentence = 'Светает!.. Ах! Как скоро ночь минула! '  # если \"как\" написать с большой буквы, то разделит на два предложения"
   ],
   "metadata": {
    "collapsed": false
   },
   "id": "28107dab4d8ed407",
   "execution_count": 103
  },
  {
   "cell_type": "code",
   "outputs": [
    {
     "data": {
      "text/plain": "[Substring(0, 10, 'Светает!..'),\n Substring(11, 14, 'Ах!'),\n Substring(15, 37, 'Как скоро ночь минула!')]"
     },
     "execution_count": 104,
     "metadata": {},
     "output_type": "execute_result"
    }
   ],
   "source": [
    "list(sentenize(sentence))"
   ],
   "metadata": {
    "collapsed": false,
    "ExecuteTime": {
     "end_time": "2024-02-29T15:42:30.023058Z",
     "start_time": "2024-02-29T15:42:29.945150Z"
    }
   },
   "id": "3c315186c0c40c9a",
   "execution_count": 104
  },
  {
   "cell_type": "code",
   "outputs": [],
   "source": [
    "sentence = 'Дубровский молчал… Вдруг он поднял голову, глаза его засверкали, он топнул ногою, оттолкнул секретаря…'  # многоточие разбирает корректно"
   ],
   "metadata": {
    "collapsed": false,
    "ExecuteTime": {
     "end_time": "2024-02-29T12:38:02.880662Z",
     "start_time": "2024-02-29T12:38:02.875030Z"
    }
   },
   "id": "4dfc90ec4625ba78",
   "execution_count": 14
  },
  {
   "cell_type": "code",
   "outputs": [
    {
     "data": {
      "text/plain": "[Substring(0, 18, 'Дубровский молчал…'),\n Substring(19,\n           102,\n           'Вдруг он поднял голову, глаза его засверкали, он топнул ногою, оттолкнул секретаря…')]"
     },
     "execution_count": 15,
     "metadata": {},
     "output_type": "execute_result"
    }
   ],
   "source": [
    "list(sentenize(sentence))"
   ],
   "metadata": {
    "collapsed": false,
    "ExecuteTime": {
     "end_time": "2024-02-29T12:38:03.400307Z",
     "start_time": "2024-02-29T12:38:03.391683Z"
    }
   },
   "id": "4f2e08a84836b81b",
   "execution_count": 15
  },
  {
   "cell_type": "code",
   "outputs": [],
   "source": [
    "sentence = 'Дубровский молчал... Вдруг он поднял голову, глаза его засверкали, он топнул ногою, оттолкнул секретаря...'  # даже если в другой форме записать"
   ],
   "metadata": {
    "collapsed": false,
    "ExecuteTime": {
     "end_time": "2024-02-29T12:38:04.305678Z",
     "start_time": "2024-02-29T12:38:04.298884Z"
    }
   },
   "id": "a46af696d7f89056",
   "execution_count": 16
  },
  {
   "cell_type": "code",
   "outputs": [
    {
     "data": {
      "text/plain": "[Substring(0, 20, 'Дубровский молчал...'),\n Substring(21,\n           106,\n           'Вдруг он поднял голову, глаза его засверкали, он топнул ногою, оттолкнул секретаря...')]"
     },
     "execution_count": 17,
     "metadata": {},
     "output_type": "execute_result"
    }
   ],
   "source": [
    "list(sentenize(sentence))"
   ],
   "metadata": {
    "collapsed": false,
    "ExecuteTime": {
     "end_time": "2024-02-29T12:38:04.889805Z",
     "start_time": "2024-02-29T12:38:04.877824Z"
    }
   },
   "id": "ad3079c04bc7eb9f",
   "execution_count": 17
  },
  {
   "cell_type": "code",
   "outputs": [],
   "source": [
    "sentence = '«Как же так?! Захар...» — воскликнут Пронин.'  # подсмотрел в документации"
   ],
   "metadata": {
    "collapsed": false,
    "ExecuteTime": {
     "end_time": "2024-02-29T13:45:47.006693Z",
     "start_time": "2024-02-29T13:45:46.987144Z"
    }
   },
   "id": "ab164b658a0f9d18",
   "execution_count": 49
  },
  {
   "cell_type": "code",
   "outputs": [
    {
     "data": {
      "text/plain": "[Substring(0, 13, '«Как же так?!'),\n Substring(14, 44, 'Захар...» — воскликнут Пронин.')]"
     },
     "execution_count": 50,
     "metadata": {},
     "output_type": "execute_result"
    }
   ],
   "source": [
    "list(sentenize(sentence))"
   ],
   "metadata": {
    "collapsed": false,
    "ExecuteTime": {
     "end_time": "2024-02-29T13:45:47.374539Z",
     "start_time": "2024-02-29T13:45:47.350962Z"
    }
   },
   "id": "a095d7105b871dfa",
   "execution_count": 50
  },
  {
   "cell_type": "markdown",
   "source": [
    "2 Задание:\n",
    "Токенизируйте текст с помощью razdel и с помощью Mystem. \n",
    "Найдите различия в токенизациях. \n",
    "Что, по вашему мнению, работает лучше на этом тексте?"
   ],
   "metadata": {
    "collapsed": false
   },
   "id": "4fce0e67f15d5989"
  },
  {
   "cell_type": "code",
   "outputs": [],
   "source": [
    "text = \"\"\"\n",
    "Несколько лет тому назад в одном из своих поместий жил старинный русский барин, Кирила Петрович Троекуров. Его богатство, знатный род и связи давали ему большой вес в губерниях, где находилось его имение. Соседи рады были угождать малейшим его прихотям; губернские чиновники трепетали при его имени; Кирила Петрович принимал знаки подобострастия как надлежащую дань; дом его всегда был полон гостями, готовыми тешить его барскую праздность, разделяя шумные, а иногда и буйные его увеселения.\n",
    "\"\"\""
   ],
   "metadata": {
    "collapsed": false,
    "ExecuteTime": {
     "end_time": "2024-02-29T13:54:58.067329Z",
     "start_time": "2024-02-29T13:54:58.057844Z"
    }
   },
   "id": "eab1babbb504f46f",
   "execution_count": 57
  },
  {
   "cell_type": "code",
   "outputs": [],
   "source": [
    "razdel_tokenization = [token.text for token in tokenize(text)]"
   ],
   "metadata": {
    "collapsed": false,
    "ExecuteTime": {
     "end_time": "2024-02-29T13:56:02.817347Z",
     "start_time": "2024-02-29T13:56:02.809546Z"
    }
   },
   "id": "39e9df272a9aa18",
   "execution_count": 59
  },
  {
   "cell_type": "code",
   "outputs": [
    {
     "name": "stdout",
     "output_type": "stream",
     "text": [
      "84 токенов\n"
     ]
    }
   ],
   "source": [
    "print(f'{len(razdel_tokenization)} токенов')"
   ],
   "metadata": {
    "collapsed": false,
    "ExecuteTime": {
     "end_time": "2024-02-29T13:56:36.385851Z",
     "start_time": "2024-02-29T13:56:36.375267Z"
    }
   },
   "id": "7d882697d40e19d3",
   "execution_count": 62
  },
  {
   "cell_type": "code",
   "outputs": [
    {
     "data": {
      "text/plain": "['Несколько',\n 'лет',\n 'тому',\n 'назад',\n 'в',\n 'одном',\n 'из',\n 'своих',\n 'поместий',\n 'жил',\n 'старинный',\n 'русский',\n 'барин',\n ',',\n 'Кирила',\n 'Петрович',\n 'Троекуров',\n '.',\n 'Его',\n 'богатство',\n ',',\n 'знатный',\n 'род',\n 'и',\n 'связи',\n 'давали',\n 'ему',\n 'большой',\n 'вес',\n 'в',\n 'губерниях',\n ',',\n 'где',\n 'находилось',\n 'его',\n 'имение',\n '.',\n 'Соседи',\n 'рады',\n 'были',\n 'угождать',\n 'малейшим',\n 'его',\n 'прихотям',\n ';',\n 'губернские',\n 'чиновники',\n 'трепетали',\n 'при',\n 'его',\n 'имени',\n ';',\n 'Кирила',\n 'Петрович',\n 'принимал',\n 'знаки',\n 'подобострастия',\n 'как',\n 'надлежащую',\n 'дань',\n ';',\n 'дом',\n 'его',\n 'всегда',\n 'был',\n 'полон',\n 'гостями',\n ',',\n 'готовыми',\n 'тешить',\n 'его',\n 'барскую',\n 'праздность',\n ',',\n 'разделяя',\n 'шумные',\n ',',\n 'а',\n 'иногда',\n 'и',\n 'буйные',\n 'его',\n 'увеселения',\n '.']"
     },
     "execution_count": 63,
     "metadata": {},
     "output_type": "execute_result"
    }
   ],
   "source": [
    "razdel_tokenization"
   ],
   "metadata": {
    "collapsed": false,
    "ExecuteTime": {
     "end_time": "2024-02-29T13:56:37.463134Z",
     "start_time": "2024-02-29T13:56:37.444502Z"
    }
   },
   "id": "41901c31f34f0cb8",
   "execution_count": 63
  },
  {
   "cell_type": "code",
   "outputs": [
    {
     "name": "stderr",
     "output_type": "stream",
     "text": [
      "Installing mystem to C:\\Users\\ipuzanov/.local/bin\\mystem.exe from http://download.cdn.yandex.net/mystem/mystem-3.1-win-64bit.zip\n"
     ]
    }
   ],
   "source": [
    "m = Mystem()"
   ],
   "metadata": {
    "collapsed": false,
    "ExecuteTime": {
     "end_time": "2024-02-29T13:59:28.355030Z",
     "start_time": "2024-02-29T13:59:19.045203Z"
    }
   },
   "id": "d58b82a99fa9bd3",
   "execution_count": 64
  },
  {
   "cell_type": "code",
   "outputs": [],
   "source": [
    "mystem_tokenization = [token['text'] for token in m.analyze(text)]"
   ],
   "metadata": {
    "collapsed": false,
    "ExecuteTime": {
     "end_time": "2024-02-29T14:09:12.765748Z",
     "start_time": "2024-02-29T14:09:07.860384Z"
    }
   },
   "id": "83bec7a376cc0c56",
   "execution_count": 74
  },
  {
   "cell_type": "code",
   "outputs": [
    {
     "name": "stdout",
     "output_type": "stream",
     "text": [
      "146 токенов\n"
     ]
    }
   ],
   "source": [
    "print(f'{len(mystem_tokenization)} токенов')"
   ],
   "metadata": {
    "collapsed": false,
    "ExecuteTime": {
     "end_time": "2024-02-29T14:09:36.360967Z",
     "start_time": "2024-02-29T14:09:36.353024Z"
    }
   },
   "id": "7ab1c8278cf1cd79",
   "execution_count": 76
  },
  {
   "cell_type": "code",
   "outputs": [
    {
     "data": {
      "text/plain": "['\\n',\n 'Несколько',\n ' ',\n 'лет',\n ' ',\n 'тому',\n ' ',\n 'назад',\n ' ',\n 'в',\n ' ',\n 'одном',\n ' ',\n 'из',\n ' ',\n 'своих',\n ' ',\n 'поместий',\n ' ',\n 'жил',\n ' ',\n 'старинный',\n ' ',\n 'русский',\n ' ',\n 'барин',\n ', ',\n 'Кирила',\n ' ',\n 'Петрович',\n ' ',\n 'Троекуров',\n '. ',\n 'Его',\n ' ',\n 'богатство',\n ', ',\n 'знатный',\n ' ',\n 'род',\n ' ',\n 'и',\n ' ',\n 'связи',\n ' ',\n 'давали',\n ' ',\n 'ему',\n ' ',\n 'большой',\n ' ',\n 'вес',\n ' ',\n 'в',\n ' ',\n 'губерниях',\n ', ',\n 'где',\n ' ',\n 'находилось',\n ' ',\n 'его',\n ' ',\n 'имение',\n '. ',\n 'Соседи',\n ' ',\n 'рады',\n ' ',\n 'были',\n ' ',\n 'угождать',\n ' ',\n 'малейшим',\n ' ',\n 'его',\n ' ',\n 'прихотям',\n '; ',\n 'губернские',\n ' ',\n 'чиновники',\n ' ',\n 'трепетали',\n ' ',\n 'при',\n ' ',\n 'его',\n ' ',\n 'имени',\n '; ',\n 'Кирила',\n ' ',\n 'Петрович',\n ' ',\n 'принимал',\n ' ',\n 'знаки',\n ' ',\n 'подобострастия',\n ' ',\n 'как',\n ' ',\n 'надлежащую',\n ' ',\n 'дань',\n '; ',\n 'дом',\n ' ',\n 'его',\n ' ',\n 'всегда',\n ' ',\n 'был',\n ' ',\n 'полон',\n ' ',\n 'гостями',\n ', ',\n 'готовыми',\n ' ',\n 'тешить',\n ' ',\n 'его',\n ' ',\n 'барскую',\n ' ',\n 'праздность',\n ', ',\n 'разделяя',\n ' ',\n 'шумные',\n ', ',\n 'а',\n ' ',\n 'иногда',\n ' ',\n 'и',\n ' ',\n 'буйные',\n ' ',\n 'его',\n ' ',\n 'увеселения',\n '.',\n '\\n']"
     },
     "execution_count": 77,
     "metadata": {},
     "output_type": "execute_result"
    }
   ],
   "source": [
    "mystem_tokenization"
   ],
   "metadata": {
    "collapsed": false,
    "ExecuteTime": {
     "end_time": "2024-02-29T14:09:36.584793Z",
     "start_time": "2024-02-29T14:09:36.568056Z"
    }
   },
   "id": "b51fb58eaff5c831",
   "execution_count": 77
  },
  {
   "cell_type": "code",
   "outputs": [
    {
     "name": "stdout",
     "output_type": "stream",
     "text": [
      "Несколько Несколько\n",
      "лет лет\n",
      "тому тому\n",
      "назад назад\n",
      "в в\n",
      "одном одном\n",
      "из из\n",
      "своих своих\n",
      "поместий поместий\n",
      "жил жил\n",
      "старинный старинный\n",
      "русский русский\n",
      "барин барин\n",
      ", , \n",
      "Кирила Кирила\n",
      "Петрович Петрович\n",
      "Троекуров Троекуров\n",
      ". . \n",
      "Его Его\n",
      "богатство богатство\n",
      ", , \n",
      "знатный знатный\n",
      "род род\n",
      "и и\n",
      "связи связи\n",
      "давали давали\n",
      "ему ему\n",
      "большой большой\n",
      "вес вес\n",
      "в в\n",
      "губерниях губерниях\n",
      ", , \n",
      "где где\n",
      "находилось находилось\n",
      "его его\n",
      "имение имение\n",
      ". . \n",
      "Соседи Соседи\n",
      "рады рады\n",
      "были были\n",
      "угождать угождать\n",
      "малейшим малейшим\n",
      "его его\n",
      "прихотям прихотям\n",
      "; ; \n",
      "губернские губернские\n",
      "чиновники чиновники\n",
      "трепетали трепетали\n",
      "при при\n",
      "его его\n",
      "имени имени\n",
      "; ; \n",
      "Кирила Кирила\n",
      "Петрович Петрович\n",
      "принимал принимал\n",
      "знаки знаки\n",
      "подобострастия подобострастия\n",
      "как как\n",
      "надлежащую надлежащую\n",
      "дань дань\n",
      "; ; \n",
      "дом дом\n",
      "его его\n",
      "всегда всегда\n",
      "был был\n",
      "полон полон\n",
      "гостями гостями\n",
      ", , \n",
      "готовыми готовыми\n",
      "тешить тешить\n",
      "его его\n",
      "барскую барскую\n",
      "праздность праздность\n",
      ", , \n",
      "разделяя разделяя\n",
      "шумные шумные\n",
      ", , \n",
      "а а\n",
      "иногда иногда\n",
      "и и\n",
      "буйные буйные\n",
      "его его\n",
      "увеселения увеселения\n",
      ". .\n",
      "84 True 146 True\n",
      "Токенизация совпадает\n",
      "Количество лишних токенов у mystem 62\n"
     ]
    }
   ],
   "source": [
    "i = j = 0\n",
    "comparing_tokens = []\n",
    "unnecessary_tokens = 0\n",
    "\n",
    "while i < len(razdel_tokenization) or j < len(mystem_tokenization):\n",
    "    if mystem_tokenization[j] in (' ', '\\n'):\n",
    "        j += 1\n",
    "        unnecessary_tokens += 1\n",
    "        continue\n",
    "    \n",
    "    print(razdel_tokenization[i], mystem_tokenization[j])\n",
    "    comparing_tokens.append(razdel_tokenization[i] == mystem_tokenization[j].strip())\n",
    "    i += 1\n",
    "    j += 1\n",
    "\n",
    "print(i, i == len(razdel_tokenization), j, j == len(mystem_tokenization))\n",
    "print(f'Токенизация{\" \" if all(comparing_tokens) else \" не \"}совпадает')\n",
    "print(f'Количество лишних токенов у mystem {unnecessary_tokens}')"
   ],
   "metadata": {
    "collapsed": false,
    "ExecuteTime": {
     "end_time": "2024-02-29T14:18:03.534883Z",
     "start_time": "2024-02-29T14:18:03.514302Z"
    }
   },
   "id": "9a55ed4ffc2c921f",
   "execution_count": 81
  },
  {
   "cell_type": "markdown",
   "source": [
    "Выводы: у mystem нет явного метода токенизации, это скорее анализатор текста, который можно использовать как токенизатор. Поэтому он выделяет не только токены, но и служебные элементы предложения: пробелы и переносы строк. При нахождении знаков препинания, берет их вместе с пробелом. В остальном они идентичны. Поэтому для токенизации лучше razdel"
   ],
   "metadata": {
    "collapsed": false
   },
   "id": "d15c666e53ee593f"
  },
  {
   "cell_type": "markdown",
   "source": [
    "3 Задание:\n",
    "Лемматизируйте текст с помощью mystem и pymorphy. \n",
    "Найдите различия в лемматизации. \n",
    "Что, по вашему мнению, работает лучше на этом тексте?\n",
    "\n",
    "P.S. в pymorphy использовать токенизацию из mystem"
   ],
   "metadata": {
    "collapsed": false
   },
   "id": "e06f25f2f2fc2980"
  },
  {
   "cell_type": "code",
   "outputs": [],
   "source": [
    "m = Mystem()\n",
    "mystem_lemmas = m.lemmatize(text)"
   ],
   "metadata": {
    "collapsed": false,
    "ExecuteTime": {
     "end_time": "2024-02-29T14:47:07.424613Z",
     "start_time": "2024-02-29T14:46:57.984719Z"
    }
   },
   "id": "ee876dd711abbc3",
   "execution_count": 85
  },
  {
   "cell_type": "code",
   "outputs": [],
   "source": [
    "morph = MorphAnalyzer()"
   ],
   "metadata": {
    "collapsed": false,
    "ExecuteTime": {
     "end_time": "2024-02-29T15:07:57.166414Z",
     "start_time": "2024-02-29T15:07:55.449971Z"
    }
   },
   "id": "9c30946ab7ed4ad1",
   "execution_count": 92
  },
  {
   "cell_type": "code",
   "outputs": [],
   "source": [
    "morph_lemmas = []\n",
    "for mystem_token in mystem_tokenization:\n",
    "    if mystem_token in (' ', '\\n'):\n",
    "        continue\n",
    "    \n",
    "    morph_lemmas.append(morph.parse(mystem_token))"
   ],
   "metadata": {
    "collapsed": false
   },
   "id": "129dc6a04e9c3079",
   "execution_count": 93
  },
  {
   "cell_type": "code",
   "outputs": [
    {
     "data": {
      "text/plain": "['\\n',\n 'несколько',\n ' ',\n 'год',\n ' ',\n 'то',\n ' ',\n 'назад',\n ' ',\n 'в',\n ' ',\n 'один',\n ' ',\n 'из',\n ' ',\n 'свой',\n ' ',\n 'поместье',\n ' ',\n 'жить',\n ' ',\n 'старинный',\n ' ',\n 'русский',\n ' ',\n 'барин',\n ', ',\n 'кирила',\n ' ',\n 'петрович',\n ' ',\n 'троекур',\n '. ',\n 'его',\n ' ',\n 'богатство',\n ', ',\n 'знатный',\n ' ',\n 'род',\n ' ',\n 'и',\n ' ',\n 'связь',\n ' ',\n 'давать',\n ' ',\n 'он',\n ' ',\n 'большой',\n ' ',\n 'вес',\n ' ',\n 'в',\n ' ',\n 'губерния',\n ', ',\n 'где',\n ' ',\n 'находиться',\n ' ',\n 'его',\n ' ',\n 'имение',\n '. ',\n 'сосед',\n ' ',\n 'рад',\n ' ',\n 'быть',\n ' ',\n 'угождать',\n ' ',\n 'малый',\n ' ',\n 'его',\n ' ',\n 'прихоть',\n '; ',\n 'губернский',\n ' ',\n 'чиновник',\n ' ',\n 'трепетать',\n ' ',\n 'при',\n ' ',\n 'его',\n ' ',\n 'имя',\n '; ',\n 'кирила',\n ' ',\n 'петрович',\n ' ',\n 'принимать',\n ' ',\n 'знак',\n ' ',\n 'подобострастие',\n ' ',\n 'как',\n ' ',\n 'надлежащий',\n ' ',\n 'дань',\n '; ',\n 'дом',\n ' ',\n 'его',\n ' ',\n 'всегда',\n ' ',\n 'быть',\n ' ',\n 'полный',\n ' ',\n 'гость',\n ', ',\n 'готовый',\n ' ',\n 'тешить',\n ' ',\n 'его',\n ' ',\n 'барский',\n ' ',\n 'праздность',\n ', ',\n 'разделять',\n ' ',\n 'шумный',\n ', ',\n 'а',\n ' ',\n 'иногда',\n ' ',\n 'и',\n ' ',\n 'буйный',\n ' ',\n 'его',\n ' ',\n 'увеселение',\n '.',\n '\\n']"
     },
     "execution_count": 96,
     "metadata": {},
     "output_type": "execute_result"
    }
   ],
   "source": [
    "mystem_lemmas"
   ],
   "metadata": {
    "collapsed": false,
    "ExecuteTime": {
     "end_time": "2024-02-29T15:17:13.395854Z",
     "start_time": "2024-02-29T15:17:13.380709Z"
    }
   },
   "id": "1a79f5aceedbdcf",
   "execution_count": 96
  },
  {
   "cell_type": "code",
   "outputs": [
    {
     "data": {
      "text/plain": "[[Parse(word='несколько', tag=OpencorporaTag('ADVB'), normal_form='несколько', score=0.915094, methods_stack=((DictionaryAnalyzer(), 'несколько', 3, 0),)),\n  Parse(word='несколько', tag=OpencorporaTag('NUMR anim,accs,Infr'), normal_form='несколько', score=0.047169, methods_stack=((DictionaryAnalyzer(), 'несколько', 2184, 8),)),\n  Parse(word='несколько', tag=OpencorporaTag('NUMR inan,accs'), normal_form='несколько', score=0.028301, methods_stack=((DictionaryAnalyzer(), 'несколько', 2184, 5),)),\n  Parse(word='несколько', tag=OpencorporaTag('NUMR nomn'), normal_form='несколько', score=0.009433, methods_stack=((DictionaryAnalyzer(), 'несколько', 2184, 0),))],\n [Parse(word='лет', tag=OpencorporaTag('NOUN,inan,masc plur,gent'), normal_form='год', score=0.998492, methods_stack=((DictionaryAnalyzer(), 'лет', 1221, 11),)),\n  Parse(word='лёт', tag=OpencorporaTag('NOUN,inan,masc sing,nomn'), normal_form='лёт', score=0.000753, methods_stack=((DictionaryAnalyzer(), 'лёт', 1917, 0),)),\n  Parse(word='лёт', tag=OpencorporaTag('NOUN,inan,masc sing,accs'), normal_form='лёт', score=0.000753, methods_stack=((DictionaryAnalyzer(), 'лёт', 1917, 4),))],\n [Parse(word='тому', tag=OpencorporaTag('ADJF,Subx,Apro,Anph neut,sing,datv'), normal_form='тот', score=0.862337, methods_stack=((DictionaryAnalyzer(), 'тому', 3027, 15),)),\n  Parse(word='тому', tag=OpencorporaTag('ADJF,Subx,Apro,Anph masc,sing,datv'), normal_form='тот', score=0.12987, methods_stack=((DictionaryAnalyzer(), 'тому', 3027, 2),)),\n  Parse(word='тому', tag=OpencorporaTag('NOUN,anim,masc,Name sing,datv'), normal_form='том', score=0.002597, methods_stack=((DictionaryAnalyzer(), 'тому', 27, 2),)),\n  Parse(word='тому', tag=OpencorporaTag('NOUN,anim,femn,Name sing,accs'), normal_form='тома', score=0.002597, methods_stack=((DictionaryAnalyzer(), 'тому', 69, 3),)),\n  Parse(word='тому', tag=OpencorporaTag('NOUN,inan,masc sing,datv'), normal_form='том', score=0.002597, methods_stack=((DictionaryAnalyzer(), 'тому', 147, 2),))],\n [Parse(word='назад', tag=OpencorporaTag('ADVB'), normal_form='назад', score=1.0, methods_stack=((DictionaryAnalyzer(), 'назад', 3, 0),))],\n [Parse(word='в', tag=OpencorporaTag('PREP'), normal_form='в', score=0.999327, methods_stack=((DictionaryAnalyzer(), 'в', 393, 0),)),\n  Parse(word='в', tag=OpencorporaTag('NOUN,inan,masc,Fixd,Abbr sing,gent'), normal_form='в', score=0.000249, methods_stack=((DictionaryAnalyzer(), 'в', 349, 1),)),\n  Parse(word='в', tag=OpencorporaTag('NOUN,inan,masc,Fixd,Abbr sing,loct'), normal_form='в', score=5.7e-05, methods_stack=((DictionaryAnalyzer(), 'в', 349, 5),)),\n  Parse(word='в', tag=OpencorporaTag('NOUN,inan,masc,Fixd,Abbr sing,nomn'), normal_form='в', score=1.9e-05, methods_stack=((DictionaryAnalyzer(), 'в', 349, 0),)),\n  Parse(word='в', tag=OpencorporaTag('NOUN,inan,masc,Fixd,Abbr sing,datv'), normal_form='в', score=1.9e-05, methods_stack=((DictionaryAnalyzer(), 'в', 349, 2),)),\n  Parse(word='в', tag=OpencorporaTag('NOUN,inan,masc,Fixd,Abbr sing,accs'), normal_form='в', score=1.9e-05, methods_stack=((DictionaryAnalyzer(), 'в', 349, 3),)),\n  Parse(word='в', tag=OpencorporaTag('NOUN,inan,masc,Fixd,Abbr sing,ablt'), normal_form='в', score=1.9e-05, methods_stack=((DictionaryAnalyzer(), 'в', 349, 4),)),\n  Parse(word='в', tag=OpencorporaTag('NOUN,inan,masc,Fixd,Abbr plur,nomn'), normal_form='в', score=1.9e-05, methods_stack=((DictionaryAnalyzer(), 'в', 349, 6),)),\n  Parse(word='в', tag=OpencorporaTag('NOUN,inan,masc,Fixd,Abbr plur,gent'), normal_form='в', score=1.9e-05, methods_stack=((DictionaryAnalyzer(), 'в', 349, 7),)),\n  Parse(word='в', tag=OpencorporaTag('NOUN,inan,masc,Fixd,Abbr plur,datv'), normal_form='в', score=1.9e-05, methods_stack=((DictionaryAnalyzer(), 'в', 349, 8),)),\n  Parse(word='в', tag=OpencorporaTag('NOUN,inan,masc,Fixd,Abbr plur,accs'), normal_form='в', score=1.9e-05, methods_stack=((DictionaryAnalyzer(), 'в', 349, 9),)),\n  Parse(word='в', tag=OpencorporaTag('NOUN,inan,masc,Fixd,Abbr plur,ablt'), normal_form='в', score=1.9e-05, methods_stack=((DictionaryAnalyzer(), 'в', 349, 10),)),\n  Parse(word='в', tag=OpencorporaTag('NOUN,inan,masc,Fixd,Abbr plur,loct'), normal_form='в', score=1.9e-05, methods_stack=((DictionaryAnalyzer(), 'в', 349, 11),))],\n [Parse(word='одном', tag=OpencorporaTag('ADJF,Apro,Anum masc,sing,loct'), normal_form='один', score=0.61574, methods_stack=((DictionaryAnalyzer(), 'одном', 2292, 6),)),\n  Parse(word='одном', tag=OpencorporaTag('ADJF,Apro,Anum neut,sing,loct'), normal_form='один', score=0.384259, methods_stack=((DictionaryAnalyzer(), 'одном', 2292, 18),))],\n [Parse(word='из', tag=OpencorporaTag('PREP'), normal_form='из', score=0.999673, methods_stack=((DictionaryAnalyzer(), 'из', 393, 0),)),\n  Parse(word='из', tag=OpencorporaTag('NOUN,anim,femn,Name plur,gent'), normal_form='иза', score=0.000163, methods_stack=((DictionaryAnalyzer(), 'из', 69, 8),)),\n  Parse(word='из', tag=OpencorporaTag('NOUN,anim,femn,Name plur,accs'), normal_form='иза', score=0.000163, methods_stack=((DictionaryAnalyzer(), 'из', 69, 10),))],\n [Parse(word='своих', tag=OpencorporaTag('ADJF,Apro,Anph plur,gent'), normal_form='свой', score=0.604355, methods_stack=((DictionaryAnalyzer(), 'своих', 2850, 21),)),\n  Parse(word='своих', tag=OpencorporaTag('ADJF,Apro,Anph plur,loct'), normal_form='свой', score=0.23049, methods_stack=((DictionaryAnalyzer(), 'своих', 2850, 26),)),\n  Parse(word='своих', tag=OpencorporaTag('ADJF,Apro,Anph anim,plur,accs'), normal_form='свой', score=0.165154, methods_stack=((DictionaryAnalyzer(), 'своих', 2850, 24),))],\n [Parse(word='поместий', tag=OpencorporaTag('NOUN,inan,neut plur,gent'), normal_form='поместье', score=1.0, methods_stack=((DictionaryAnalyzer(), 'поместий', 207, 7),))],\n [Parse(word='жил', tag=OpencorporaTag('VERB,impf,intr masc,sing,past,indc'), normal_form='жить', score=0.963414, methods_stack=((DictionaryAnalyzer(), 'жил', 1491, 7),)),\n  Parse(word='жил', tag=OpencorporaTag('NOUN,inan,femn plur,gent'), normal_form='жила', score=0.012195, methods_stack=((DictionaryAnalyzer(), 'жил', 55, 8),)),\n  Parse(word='жил', tag=OpencorporaTag('NOUN,anim,ms-f plur,gent'), normal_form='жила', score=0.012195, methods_stack=((DictionaryAnalyzer(), 'жил', 344, 8),)),\n  Parse(word='жил', tag=OpencorporaTag('NOUN,anim,ms-f plur,accs'), normal_form='жила', score=0.012195, methods_stack=((DictionaryAnalyzer(), 'жил', 344, 10),))],\n [Parse(word='старинный', tag=OpencorporaTag('ADJF,Qual masc,sing,nomn'), normal_form='старинный', score=0.5, methods_stack=((DictionaryAnalyzer(), 'старинный', 87, 0),)),\n  Parse(word='старинный', tag=OpencorporaTag('ADJF,Qual inan,masc,sing,accs'), normal_form='старинный', score=0.5, methods_stack=((DictionaryAnalyzer(), 'старинный', 87, 4),))],\n [Parse(word='русский', tag=OpencorporaTag('ADJF,Subx masc,sing,nomn'), normal_form='русский', score=0.666666, methods_stack=((DictionaryAnalyzer(), 'русский', 2217, 0),)),\n  Parse(word='русский', tag=OpencorporaTag('ADJF,Subx inan,masc,sing,accs'), normal_form='русский', score=0.333333, methods_stack=((DictionaryAnalyzer(), 'русский', 2217, 4),))],\n [Parse(word='барин', tag=OpencorporaTag('NOUN,anim,masc sing,nomn'), normal_form='барин', score=1.0, methods_stack=((DictionaryAnalyzer(), 'барин', 362, 0),))],\n [Parse(word=', ', tag=OpencorporaTag('PNCT'), normal_form=', ', score=1.0, methods_stack=((PunctuationAnalyzer(score=0.9), ', '),))],\n [Parse(word='кирила', tag=OpencorporaTag('NOUN,anim,masc,Name sing,gent'), normal_form='кирил', score=0.5, methods_stack=((DictionaryAnalyzer(), 'кирила', 27, 1),)),\n  Parse(word='кирила', tag=OpencorporaTag('NOUN,anim,masc,Name sing,accs'), normal_form='кирил', score=0.5, methods_stack=((DictionaryAnalyzer(), 'кирила', 27, 3),))],\n [Parse(word='петрович', tag=OpencorporaTag('NOUN,anim,masc,Patr sing,nomn'), normal_form='петрович', score=1.0, methods_stack=((DictionaryAnalyzer(), 'петрович', 26, 0),))],\n [Parse(word='троекуров', tag=OpencorporaTag('NOUN,inan,masc plur,gent'), normal_form='троекур', score=1.0, methods_stack=((FakeDictionary(), 'троекуров', 34, 7), (KnownSuffixAnalyzer(min_word_length=4, score_multiplier=0.5), 'куров')))],\n [Parse(word='. ', tag=OpencorporaTag('PNCT'), normal_form='. ', score=1.0, methods_stack=((PunctuationAnalyzer(score=0.9), '. '),))],\n [Parse(word='его', tag=OpencorporaTag('NPRO,masc,3per,Anph sing,accs'), normal_form='он', score=0.23913, methods_stack=((DictionaryAnalyzer(), 'его', 2303, 5),)),\n  Parse(word='его', tag=OpencorporaTag('NPRO,neut,3per,Anph sing,accs'), normal_form='оно', score=0.065217, methods_stack=((DictionaryAnalyzer(), 'его', 2306, 5),)),\n  Parse(word='его', tag=OpencorporaTag('ADJF,Fixd,Apro,Anph femn,sing,gent'), normal_form='его', score=0.043478, methods_stack=((DictionaryAnalyzer(), 'его', 1440, 7),)),\n  Parse(word='его', tag=OpencorporaTag('ADJF,Fixd,Apro,Anph neut,sing,gent'), normal_form='его', score=0.043478, methods_stack=((DictionaryAnalyzer(), 'его', 1440, 13),)),\n  Parse(word='его', tag=OpencorporaTag('ADJF,Fixd,Apro,Anph plur,nomn'), normal_form='его', score=0.043478, methods_stack=((DictionaryAnalyzer(), 'его', 1440, 18),)),\n  Parse(word='его', tag=OpencorporaTag('ADJF,Fixd,Apro,Anph plur,datv'), normal_form='его', score=0.043478, methods_stack=((DictionaryAnalyzer(), 'его', 1440, 20),)),\n  Parse(word='его', tag=OpencorporaTag('NPRO,masc,3per,Anph sing,gent'), normal_form='он', score=0.043478, methods_stack=((DictionaryAnalyzer(), 'его', 2303, 1),)),\n  Parse(word='его', tag=OpencorporaTag('NPRO,neut,3per,Anph sing,gent'), normal_form='оно', score=0.043478, methods_stack=((DictionaryAnalyzer(), 'его', 2306, 1),)),\n  Parse(word='его', tag=OpencorporaTag('ADJF,Fixd,Apro,Anph masc,sing,nomn'), normal_form='его', score=0.021739, methods_stack=((DictionaryAnalyzer(), 'его', 1440, 0),)),\n  Parse(word='его', tag=OpencorporaTag('ADJF,Fixd,Apro,Anph masc,sing,gent'), normal_form='его', score=0.021739, methods_stack=((DictionaryAnalyzer(), 'его', 1440, 1),)),\n  Parse(word='его', tag=OpencorporaTag('ADJF,Fixd,Apro,Anph masc,sing,datv'), normal_form='его', score=0.021739, methods_stack=((DictionaryAnalyzer(), 'его', 1440, 2),)),\n  Parse(word='его', tag=OpencorporaTag('ADJF,Fixd,Apro,Anph masc,sing,accs'), normal_form='его', score=0.021739, methods_stack=((DictionaryAnalyzer(), 'его', 1440, 3),)),\n  Parse(word='его', tag=OpencorporaTag('ADJF,Fixd,Apro,Anph masc,sing,ablt'), normal_form='его', score=0.021739, methods_stack=((DictionaryAnalyzer(), 'его', 1440, 4),)),\n  Parse(word='его', tag=OpencorporaTag('ADJF,Fixd,Apro,Anph masc,sing,loct'), normal_form='его', score=0.021739, methods_stack=((DictionaryAnalyzer(), 'его', 1440, 5),)),\n  Parse(word='его', tag=OpencorporaTag('ADJF,Fixd,Apro,Anph femn,sing,nomn'), normal_form='его', score=0.021739, methods_stack=((DictionaryAnalyzer(), 'его', 1440, 6),)),\n  Parse(word='его', tag=OpencorporaTag('ADJF,Fixd,Apro,Anph femn,sing,datv'), normal_form='его', score=0.021739, methods_stack=((DictionaryAnalyzer(), 'его', 1440, 8),)),\n  Parse(word='его', tag=OpencorporaTag('ADJF,Fixd,Apro,Anph femn,sing,accs'), normal_form='его', score=0.021739, methods_stack=((DictionaryAnalyzer(), 'его', 1440, 9),)),\n  Parse(word='его', tag=OpencorporaTag('ADJF,Fixd,Apro,Anph femn,sing,ablt'), normal_form='его', score=0.021739, methods_stack=((DictionaryAnalyzer(), 'его', 1440, 10),)),\n  Parse(word='его', tag=OpencorporaTag('ADJF,Fixd,Apro,Anph femn,sing,loct'), normal_form='его', score=0.021739, methods_stack=((DictionaryAnalyzer(), 'его', 1440, 11),)),\n  Parse(word='его', tag=OpencorporaTag('ADJF,Fixd,Apro,Anph neut,sing,nomn'), normal_form='его', score=0.021739, methods_stack=((DictionaryAnalyzer(), 'его', 1440, 12),)),\n  Parse(word='его', tag=OpencorporaTag('ADJF,Fixd,Apro,Anph neut,sing,datv'), normal_form='его', score=0.021739, methods_stack=((DictionaryAnalyzer(), 'его', 1440, 14),)),\n  Parse(word='его', tag=OpencorporaTag('ADJF,Fixd,Apro,Anph neut,sing,accs'), normal_form='его', score=0.021739, methods_stack=((DictionaryAnalyzer(), 'его', 1440, 15),)),\n  Parse(word='его', tag=OpencorporaTag('ADJF,Fixd,Apro,Anph neut,sing,ablt'), normal_form='его', score=0.021739, methods_stack=((DictionaryAnalyzer(), 'его', 1440, 16),)),\n  Parse(word='его', tag=OpencorporaTag('ADJF,Fixd,Apro,Anph neut,sing,loct'), normal_form='его', score=0.021739, methods_stack=((DictionaryAnalyzer(), 'его', 1440, 17),)),\n  Parse(word='его', tag=OpencorporaTag('ADJF,Fixd,Apro,Anph plur,gent'), normal_form='его', score=0.021739, methods_stack=((DictionaryAnalyzer(), 'его', 1440, 19),)),\n  Parse(word='его', tag=OpencorporaTag('ADJF,Fixd,Apro,Anph plur,accs'), normal_form='его', score=0.021739, methods_stack=((DictionaryAnalyzer(), 'его', 1440, 21),)),\n  Parse(word='его', tag=OpencorporaTag('ADJF,Fixd,Apro,Anph plur,ablt'), normal_form='его', score=0.021739, methods_stack=((DictionaryAnalyzer(), 'его', 1440, 22),)),\n  Parse(word='его', tag=OpencorporaTag('ADJF,Fixd,Apro,Anph plur,loct'), normal_form='его', score=0.021739, methods_stack=((DictionaryAnalyzer(), 'его', 1440, 23),))],\n [Parse(word='богатство', tag=OpencorporaTag('NOUN,inan,neut sing,nomn'), normal_form='богатство', score=0.545454, methods_stack=((DictionaryAnalyzer(), 'богатство', 54, 0),)),\n  Parse(word='богатство', tag=OpencorporaTag('NOUN,inan,neut sing,accs'), normal_form='богатство', score=0.454545, methods_stack=((DictionaryAnalyzer(), 'богатство', 54, 3),))],\n [Parse(word=', ', tag=OpencorporaTag('PNCT'), normal_form=', ', score=1.0, methods_stack=((PunctuationAnalyzer(score=0.9), ', '),))],\n [Parse(word='знатный', tag=OpencorporaTag('ADJF,Qual masc,sing,nomn'), normal_form='знатный', score=0.5, methods_stack=((DictionaryAnalyzer(), 'знатный', 87, 0),)),\n  Parse(word='знатный', tag=OpencorporaTag('ADJF,Qual inan,masc,sing,accs'), normal_form='знатный', score=0.5, methods_stack=((DictionaryAnalyzer(), 'знатный', 87, 4),))],\n [Parse(word='род', tag=OpencorporaTag('VERB,impf,intr masc,sing,past,indc,Abbr'), normal_form='родиться', score=0.344827, methods_stack=((DictionaryAnalyzer(), 'род', 2801, 27),)),\n  Parse(word='род', tag=OpencorporaTag('VERB,impf,intr femn,sing,past,indc,Abbr'), normal_form='родиться', score=0.344827, methods_stack=((DictionaryAnalyzer(), 'род', 2801, 28),)),\n  Parse(word='род', tag=OpencorporaTag('NOUN,inan,masc sing,nomn'), normal_form='род', score=0.172413, methods_stack=((DictionaryAnalyzer(), 'род', 2799, 0),)),\n  Parse(word='род', tag=OpencorporaTag('NOUN,inan,masc sing,accs'), normal_form='род', score=0.137931, methods_stack=((DictionaryAnalyzer(), 'род', 2799, 3),))],\n [Parse(word='и', tag=OpencorporaTag('CONJ'), normal_form='и', score=0.998263, methods_stack=((DictionaryAnalyzer(), 'и', 20, 0),)),\n  Parse(word='и', tag=OpencorporaTag('PRCL'), normal_form='и', score=0.000306, methods_stack=((DictionaryAnalyzer(), 'и', 22, 0),)),\n  Parse(word='и', tag=OpencorporaTag('INTJ'), normal_form='и', score=0.000204, methods_stack=((DictionaryAnalyzer(), 'и', 21, 0),)),\n  Parse(word='и', tag=OpencorporaTag('NOUN,anim,masc,Fixd,Abbr sing,nomn'), normal_form='и', score=0.000102, methods_stack=((DictionaryAnalyzer(), 'и', 3289, 0),)),\n  Parse(word='и', tag=OpencorporaTag('NOUN,anim,masc,Fixd,Abbr sing,gent'), normal_form='и', score=0.000102, methods_stack=((DictionaryAnalyzer(), 'и', 3289, 1),)),\n  Parse(word='и', tag=OpencorporaTag('NOUN,anim,masc,Fixd,Abbr sing,datv'), normal_form='и', score=0.000102, methods_stack=((DictionaryAnalyzer(), 'и', 3289, 2),)),\n  Parse(word='и', tag=OpencorporaTag('NOUN,anim,masc,Fixd,Abbr sing,accs'), normal_form='и', score=0.000102, methods_stack=((DictionaryAnalyzer(), 'и', 3289, 3),)),\n  Parse(word='и', tag=OpencorporaTag('NOUN,anim,masc,Fixd,Abbr sing,ablt'), normal_form='и', score=0.000102, methods_stack=((DictionaryAnalyzer(), 'и', 3289, 4),)),\n  Parse(word='и', tag=OpencorporaTag('NOUN,anim,masc,Fixd,Abbr sing,loct'), normal_form='и', score=0.000102, methods_stack=((DictionaryAnalyzer(), 'и', 3289, 5),)),\n  Parse(word='и', tag=OpencorporaTag('NOUN,anim,masc,Fixd,Abbr plur,nomn'), normal_form='и', score=0.000102, methods_stack=((DictionaryAnalyzer(), 'и', 3289, 6),)),\n  Parse(word='и', tag=OpencorporaTag('NOUN,anim,masc,Fixd,Abbr plur,gent'), normal_form='и', score=0.000102, methods_stack=((DictionaryAnalyzer(), 'и', 3289, 7),)),\n  Parse(word='и', tag=OpencorporaTag('NOUN,anim,masc,Fixd,Abbr plur,datv'), normal_form='и', score=0.000102, methods_stack=((DictionaryAnalyzer(), 'и', 3289, 8),)),\n  Parse(word='и', tag=OpencorporaTag('NOUN,anim,masc,Fixd,Abbr plur,accs'), normal_form='и', score=0.000102, methods_stack=((DictionaryAnalyzer(), 'и', 3289, 9),)),\n  Parse(word='и', tag=OpencorporaTag('NOUN,anim,masc,Fixd,Abbr plur,ablt'), normal_form='и', score=0.000102, methods_stack=((DictionaryAnalyzer(), 'и', 3289, 10),)),\n  Parse(word='и', tag=OpencorporaTag('NOUN,anim,masc,Fixd,Abbr plur,loct'), normal_form='и', score=0.000102, methods_stack=((DictionaryAnalyzer(), 'и', 3289, 11),))],\n [Parse(word='связи', tag=OpencorporaTag('NOUN,inan,femn sing,gent'), normal_form='связь', score=0.759562, methods_stack=((DictionaryAnalyzer(), 'связи', 571, 1),)),\n  Parse(word='связи', tag=OpencorporaTag('NOUN,inan,femn plur,accs'), normal_form='связь', score=0.103825, methods_stack=((DictionaryAnalyzer(), 'связи', 571, 10),)),\n  Parse(word='связи', tag=OpencorporaTag('NOUN,inan,femn plur,nomn'), normal_form='связь', score=0.087431, methods_stack=((DictionaryAnalyzer(), 'связи', 571, 7),)),\n  Parse(word='связи', tag=OpencorporaTag('NOUN,inan,femn sing,datv'), normal_form='связь', score=0.032786, methods_stack=((DictionaryAnalyzer(), 'связи', 571, 2),)),\n  Parse(word='связи', tag=OpencorporaTag('NOUN,inan,femn sing,loc2'), normal_form='связь', score=0.010928, methods_stack=((DictionaryAnalyzer(), 'связи', 571, 6),)),\n  Parse(word='связи', tag=OpencorporaTag('NOUN,inan,femn sing,loct'), normal_form='связь', score=0.005464, methods_stack=((DictionaryAnalyzer(), 'связи', 571, 5),))],\n [Parse(word='давали', tag=OpencorporaTag('VERB,impf,tran plur,past,indc'), normal_form='давать', score=1.0, methods_stack=((DictionaryAnalyzer(), 'давали', 882, 10),))],\n [Parse(word='ему', tag=OpencorporaTag('NPRO,masc,3per,Anph sing,datv'), normal_form='он', score=0.857142, methods_stack=((DictionaryAnalyzer(), 'ему', 2303, 3),)),\n  Parse(word='ему', tag=OpencorporaTag('NPRO,neut,3per,Anph sing,datv'), normal_form='оно', score=0.142857, methods_stack=((DictionaryAnalyzer(), 'ему', 2306, 3),))],\n [Parse(word='большой', tag=OpencorporaTag('ADJF,Qual femn,sing,ablt'), normal_form='большой', score=0.327433, methods_stack=((DictionaryAnalyzer(), 'большой', 532, 11),)),\n  Parse(word='большой', tag=OpencorporaTag('ADJF,Qual femn,sing,gent'), normal_form='большой', score=0.292035, methods_stack=((DictionaryAnalyzer(), 'большой', 532, 8),)),\n  Parse(word='большой', tag=OpencorporaTag('ADJF,Qual femn,sing,loct'), normal_form='большой', score=0.176991, methods_stack=((DictionaryAnalyzer(), 'большой', 532, 13),)),\n  Parse(word='большой', tag=OpencorporaTag('ADJF,Qual masc,sing,nomn'), normal_form='большой', score=0.088495, methods_stack=((DictionaryAnalyzer(), 'большой', 532, 0),)),\n  Parse(word='большой', tag=OpencorporaTag('ADJF,Qual inan,masc,sing,accs'), normal_form='большой', score=0.070796, methods_stack=((DictionaryAnalyzer(), 'большой', 532, 4),)),\n  Parse(word='большой', tag=OpencorporaTag('ADJF,Qual femn,sing,datv'), normal_form='большой', score=0.044247, methods_stack=((DictionaryAnalyzer(), 'большой', 532, 9),))],\n [Parse(word='вес', tag=OpencorporaTag('NOUN,inan,masc sing,accs'), normal_form='вес', score=0.666666, methods_stack=((DictionaryAnalyzer(), 'вес', 724, 4),)),\n  Parse(word='вес', tag=OpencorporaTag('NOUN,inan,masc sing,nomn'), normal_form='вес', score=0.333333, methods_stack=((DictionaryAnalyzer(), 'вес', 724, 0),))],\n [Parse(word='в', tag=OpencorporaTag('PREP'), normal_form='в', score=0.999327, methods_stack=((DictionaryAnalyzer(), 'в', 393, 0),)),\n  Parse(word='в', tag=OpencorporaTag('NOUN,inan,masc,Fixd,Abbr sing,gent'), normal_form='в', score=0.000249, methods_stack=((DictionaryAnalyzer(), 'в', 349, 1),)),\n  Parse(word='в', tag=OpencorporaTag('NOUN,inan,masc,Fixd,Abbr sing,loct'), normal_form='в', score=5.7e-05, methods_stack=((DictionaryAnalyzer(), 'в', 349, 5),)),\n  Parse(word='в', tag=OpencorporaTag('NOUN,inan,masc,Fixd,Abbr sing,nomn'), normal_form='в', score=1.9e-05, methods_stack=((DictionaryAnalyzer(), 'в', 349, 0),)),\n  Parse(word='в', tag=OpencorporaTag('NOUN,inan,masc,Fixd,Abbr sing,datv'), normal_form='в', score=1.9e-05, methods_stack=((DictionaryAnalyzer(), 'в', 349, 2),)),\n  Parse(word='в', tag=OpencorporaTag('NOUN,inan,masc,Fixd,Abbr sing,accs'), normal_form='в', score=1.9e-05, methods_stack=((DictionaryAnalyzer(), 'в', 349, 3),)),\n  Parse(word='в', tag=OpencorporaTag('NOUN,inan,masc,Fixd,Abbr sing,ablt'), normal_form='в', score=1.9e-05, methods_stack=((DictionaryAnalyzer(), 'в', 349, 4),)),\n  Parse(word='в', tag=OpencorporaTag('NOUN,inan,masc,Fixd,Abbr plur,nomn'), normal_form='в', score=1.9e-05, methods_stack=((DictionaryAnalyzer(), 'в', 349, 6),)),\n  Parse(word='в', tag=OpencorporaTag('NOUN,inan,masc,Fixd,Abbr plur,gent'), normal_form='в', score=1.9e-05, methods_stack=((DictionaryAnalyzer(), 'в', 349, 7),)),\n  Parse(word='в', tag=OpencorporaTag('NOUN,inan,masc,Fixd,Abbr plur,datv'), normal_form='в', score=1.9e-05, methods_stack=((DictionaryAnalyzer(), 'в', 349, 8),)),\n  Parse(word='в', tag=OpencorporaTag('NOUN,inan,masc,Fixd,Abbr plur,accs'), normal_form='в', score=1.9e-05, methods_stack=((DictionaryAnalyzer(), 'в', 349, 9),)),\n  Parse(word='в', tag=OpencorporaTag('NOUN,inan,masc,Fixd,Abbr plur,ablt'), normal_form='в', score=1.9e-05, methods_stack=((DictionaryAnalyzer(), 'в', 349, 10),)),\n  Parse(word='в', tag=OpencorporaTag('NOUN,inan,masc,Fixd,Abbr plur,loct'), normal_form='в', score=1.9e-05, methods_stack=((DictionaryAnalyzer(), 'в', 349, 11),))],\n [Parse(word='губерниях', tag=OpencorporaTag('NOUN,inan,femn plur,loct'), normal_form='губерния', score=1.0, methods_stack=((DictionaryAnalyzer(), 'губерниях', 41, 12),))],\n [Parse(word=', ', tag=OpencorporaTag('PNCT'), normal_form=', ', score=1.0, methods_stack=((PunctuationAnalyzer(score=0.9), ', '),))],\n [Parse(word='где', tag=OpencorporaTag('ADVB,Ques'), normal_form='где', score=0.636363, methods_stack=((DictionaryAnalyzer(), 'где', 1181, 0),)),\n  Parse(word='где', tag=OpencorporaTag('CONJ'), normal_form='где', score=0.363636, methods_stack=((DictionaryAnalyzer(), 'где', 20, 0),))],\n [Parse(word='находилось', tag=OpencorporaTag('VERB,impf,intr neut,sing,past,indc'), normal_form='находиться', score=0.5, methods_stack=((DictionaryAnalyzer(), 'находилось', 428, 9),)),\n  Parse(word='находилось', tag=OpencorporaTag('VERB,perf,intr neut,sing,past,indc'), normal_form='находиться', score=0.5, methods_stack=((DictionaryAnalyzer(), 'находилось', 677, 3),))],\n [Parse(word='его', tag=OpencorporaTag('NPRO,masc,3per,Anph sing,accs'), normal_form='он', score=0.23913, methods_stack=((DictionaryAnalyzer(), 'его', 2303, 5),)),\n  Parse(word='его', tag=OpencorporaTag('NPRO,neut,3per,Anph sing,accs'), normal_form='оно', score=0.065217, methods_stack=((DictionaryAnalyzer(), 'его', 2306, 5),)),\n  Parse(word='его', tag=OpencorporaTag('ADJF,Fixd,Apro,Anph femn,sing,gent'), normal_form='его', score=0.043478, methods_stack=((DictionaryAnalyzer(), 'его', 1440, 7),)),\n  Parse(word='его', tag=OpencorporaTag('ADJF,Fixd,Apro,Anph neut,sing,gent'), normal_form='его', score=0.043478, methods_stack=((DictionaryAnalyzer(), 'его', 1440, 13),)),\n  Parse(word='его', tag=OpencorporaTag('ADJF,Fixd,Apro,Anph plur,nomn'), normal_form='его', score=0.043478, methods_stack=((DictionaryAnalyzer(), 'его', 1440, 18),)),\n  Parse(word='его', tag=OpencorporaTag('ADJF,Fixd,Apro,Anph plur,datv'), normal_form='его', score=0.043478, methods_stack=((DictionaryAnalyzer(), 'его', 1440, 20),)),\n  Parse(word='его', tag=OpencorporaTag('NPRO,masc,3per,Anph sing,gent'), normal_form='он', score=0.043478, methods_stack=((DictionaryAnalyzer(), 'его', 2303, 1),)),\n  Parse(word='его', tag=OpencorporaTag('NPRO,neut,3per,Anph sing,gent'), normal_form='оно', score=0.043478, methods_stack=((DictionaryAnalyzer(), 'его', 2306, 1),)),\n  Parse(word='его', tag=OpencorporaTag('ADJF,Fixd,Apro,Anph masc,sing,nomn'), normal_form='его', score=0.021739, methods_stack=((DictionaryAnalyzer(), 'его', 1440, 0),)),\n  Parse(word='его', tag=OpencorporaTag('ADJF,Fixd,Apro,Anph masc,sing,gent'), normal_form='его', score=0.021739, methods_stack=((DictionaryAnalyzer(), 'его', 1440, 1),)),\n  Parse(word='его', tag=OpencorporaTag('ADJF,Fixd,Apro,Anph masc,sing,datv'), normal_form='его', score=0.021739, methods_stack=((DictionaryAnalyzer(), 'его', 1440, 2),)),\n  Parse(word='его', tag=OpencorporaTag('ADJF,Fixd,Apro,Anph masc,sing,accs'), normal_form='его', score=0.021739, methods_stack=((DictionaryAnalyzer(), 'его', 1440, 3),)),\n  Parse(word='его', tag=OpencorporaTag('ADJF,Fixd,Apro,Anph masc,sing,ablt'), normal_form='его', score=0.021739, methods_stack=((DictionaryAnalyzer(), 'его', 1440, 4),)),\n  Parse(word='его', tag=OpencorporaTag('ADJF,Fixd,Apro,Anph masc,sing,loct'), normal_form='его', score=0.021739, methods_stack=((DictionaryAnalyzer(), 'его', 1440, 5),)),\n  Parse(word='его', tag=OpencorporaTag('ADJF,Fixd,Apro,Anph femn,sing,nomn'), normal_form='его', score=0.021739, methods_stack=((DictionaryAnalyzer(), 'его', 1440, 6),)),\n  Parse(word='его', tag=OpencorporaTag('ADJF,Fixd,Apro,Anph femn,sing,datv'), normal_form='его', score=0.021739, methods_stack=((DictionaryAnalyzer(), 'его', 1440, 8),)),\n  Parse(word='его', tag=OpencorporaTag('ADJF,Fixd,Apro,Anph femn,sing,accs'), normal_form='его', score=0.021739, methods_stack=((DictionaryAnalyzer(), 'его', 1440, 9),)),\n  Parse(word='его', tag=OpencorporaTag('ADJF,Fixd,Apro,Anph femn,sing,ablt'), normal_form='его', score=0.021739, methods_stack=((DictionaryAnalyzer(), 'его', 1440, 10),)),\n  Parse(word='его', tag=OpencorporaTag('ADJF,Fixd,Apro,Anph femn,sing,loct'), normal_form='его', score=0.021739, methods_stack=((DictionaryAnalyzer(), 'его', 1440, 11),)),\n  Parse(word='его', tag=OpencorporaTag('ADJF,Fixd,Apro,Anph neut,sing,nomn'), normal_form='его', score=0.021739, methods_stack=((DictionaryAnalyzer(), 'его', 1440, 12),)),\n  Parse(word='его', tag=OpencorporaTag('ADJF,Fixd,Apro,Anph neut,sing,datv'), normal_form='его', score=0.021739, methods_stack=((DictionaryAnalyzer(), 'его', 1440, 14),)),\n  Parse(word='его', tag=OpencorporaTag('ADJF,Fixd,Apro,Anph neut,sing,accs'), normal_form='его', score=0.021739, methods_stack=((DictionaryAnalyzer(), 'его', 1440, 15),)),\n  Parse(word='его', tag=OpencorporaTag('ADJF,Fixd,Apro,Anph neut,sing,ablt'), normal_form='его', score=0.021739, methods_stack=((DictionaryAnalyzer(), 'его', 1440, 16),)),\n  Parse(word='его', tag=OpencorporaTag('ADJF,Fixd,Apro,Anph neut,sing,loct'), normal_form='его', score=0.021739, methods_stack=((DictionaryAnalyzer(), 'его', 1440, 17),)),\n  Parse(word='его', tag=OpencorporaTag('ADJF,Fixd,Apro,Anph plur,gent'), normal_form='его', score=0.021739, methods_stack=((DictionaryAnalyzer(), 'его', 1440, 19),)),\n  Parse(word='его', tag=OpencorporaTag('ADJF,Fixd,Apro,Anph plur,accs'), normal_form='его', score=0.021739, methods_stack=((DictionaryAnalyzer(), 'его', 1440, 21),)),\n  Parse(word='его', tag=OpencorporaTag('ADJF,Fixd,Apro,Anph plur,ablt'), normal_form='его', score=0.021739, methods_stack=((DictionaryAnalyzer(), 'его', 1440, 22),)),\n  Parse(word='его', tag=OpencorporaTag('ADJF,Fixd,Apro,Anph plur,loct'), normal_form='его', score=0.021739, methods_stack=((DictionaryAnalyzer(), 'его', 1440, 23),))],\n [Parse(word='имение', tag=OpencorporaTag('NOUN,inan,neut sing,nomn'), normal_form='имение', score=0.5, methods_stack=((DictionaryAnalyzer(), 'имение', 77, 0),)),\n  Parse(word='имение', tag=OpencorporaTag('NOUN,inan,neut sing,accs'), normal_form='имение', score=0.5, methods_stack=((DictionaryAnalyzer(), 'имение', 77, 6),))],\n [Parse(word='. ', tag=OpencorporaTag('PNCT'), normal_form='. ', score=1.0, methods_stack=((PunctuationAnalyzer(score=0.9), '. '),))],\n [Parse(word='соседи', tag=OpencorporaTag('NOUN,anim,masc plur,nomn'), normal_form='сосед', score=1.0, methods_stack=((DictionaryAnalyzer(), 'соседи', 2922, 6),))],\n [Parse(word='рады', tag=OpencorporaTag('NOUN,inan,femn sing,gent'), normal_form='рада', score=0.666666, methods_stack=((DictionaryAnalyzer(), 'рады', 55, 1),)),\n  Parse(word='рады', tag=OpencorporaTag('ADJS plur'), normal_form='рад', score=0.285714, methods_stack=((DictionaryAnalyzer(), 'рады', 1236, 3),)),\n  Parse(word='рады', tag=OpencorporaTag('NOUN,inan,femn plur,nomn'), normal_form='рада', score=0.023809, methods_stack=((DictionaryAnalyzer(), 'рады', 55, 7),)),\n  Parse(word='рады', tag=OpencorporaTag('NOUN,inan,femn plur,accs'), normal_form='рада', score=0.023809, methods_stack=((DictionaryAnalyzer(), 'рады', 55, 10),))],\n [Parse(word='были', tag=OpencorporaTag('VERB,impf,intr plur,past,indc'), normal_form='быть', score=0.997032, methods_stack=((DictionaryAnalyzer(), 'были', 620, 7),)),\n  Parse(word='были', tag=OpencorporaTag('NOUN,inan,femn sing,gent'), normal_form='быль', score=0.000593, methods_stack=((DictionaryAnalyzer(), 'были', 13, 1),)),\n  Parse(word='были', tag=OpencorporaTag('NOUN,inan,femn sing,datv'), normal_form='быль', score=0.000593, methods_stack=((DictionaryAnalyzer(), 'были', 13, 2),)),\n  Parse(word='были', tag=OpencorporaTag('NOUN,inan,femn sing,loct'), normal_form='быль', score=0.000593, methods_stack=((DictionaryAnalyzer(), 'были', 13, 5),)),\n  Parse(word='были', tag=OpencorporaTag('NOUN,inan,femn plur,nomn'), normal_form='быль', score=0.000593, methods_stack=((DictionaryAnalyzer(), 'были', 13, 6),)),\n  Parse(word='были', tag=OpencorporaTag('NOUN,inan,femn plur,accs'), normal_form='быль', score=0.000593, methods_stack=((DictionaryAnalyzer(), 'были', 13, 9),))],\n [Parse(word='угождать', tag=OpencorporaTag('INFN,impf,intr'), normal_form='угождать', score=1.0, methods_stack=((DictionaryAnalyzer(), 'угождать', 15, 0),))],\n [Parse(word='малейшим', tag=OpencorporaTag('ADJF,Supr,Qual plur,datv'), normal_form='малый', score=0.5, methods_stack=((DictionaryAnalyzer(), 'малейшим', 1985, 49),)),\n  Parse(word='малейшим', tag=OpencorporaTag('ADJF,Supr,Qual masc,sing,ablt'), normal_form='малый', score=0.25, methods_stack=((DictionaryAnalyzer(), 'малейшим', 1985, 32),)),\n  Parse(word='малейшим', tag=OpencorporaTag('ADJF,Supr,Qual neut,sing,ablt'), normal_form='малый', score=0.25, methods_stack=((DictionaryAnalyzer(), 'малейшим', 1985, 45),))],\n [Parse(word='его', tag=OpencorporaTag('NPRO,masc,3per,Anph sing,accs'), normal_form='он', score=0.23913, methods_stack=((DictionaryAnalyzer(), 'его', 2303, 5),)),\n  Parse(word='его', tag=OpencorporaTag('NPRO,neut,3per,Anph sing,accs'), normal_form='оно', score=0.065217, methods_stack=((DictionaryAnalyzer(), 'его', 2306, 5),)),\n  Parse(word='его', tag=OpencorporaTag('ADJF,Fixd,Apro,Anph femn,sing,gent'), normal_form='его', score=0.043478, methods_stack=((DictionaryAnalyzer(), 'его', 1440, 7),)),\n  Parse(word='его', tag=OpencorporaTag('ADJF,Fixd,Apro,Anph neut,sing,gent'), normal_form='его', score=0.043478, methods_stack=((DictionaryAnalyzer(), 'его', 1440, 13),)),\n  Parse(word='его', tag=OpencorporaTag('ADJF,Fixd,Apro,Anph plur,nomn'), normal_form='его', score=0.043478, methods_stack=((DictionaryAnalyzer(), 'его', 1440, 18),)),\n  Parse(word='его', tag=OpencorporaTag('ADJF,Fixd,Apro,Anph plur,datv'), normal_form='его', score=0.043478, methods_stack=((DictionaryAnalyzer(), 'его', 1440, 20),)),\n  Parse(word='его', tag=OpencorporaTag('NPRO,masc,3per,Anph sing,gent'), normal_form='он', score=0.043478, methods_stack=((DictionaryAnalyzer(), 'его', 2303, 1),)),\n  Parse(word='его', tag=OpencorporaTag('NPRO,neut,3per,Anph sing,gent'), normal_form='оно', score=0.043478, methods_stack=((DictionaryAnalyzer(), 'его', 2306, 1),)),\n  Parse(word='его', tag=OpencorporaTag('ADJF,Fixd,Apro,Anph masc,sing,nomn'), normal_form='его', score=0.021739, methods_stack=((DictionaryAnalyzer(), 'его', 1440, 0),)),\n  Parse(word='его', tag=OpencorporaTag('ADJF,Fixd,Apro,Anph masc,sing,gent'), normal_form='его', score=0.021739, methods_stack=((DictionaryAnalyzer(), 'его', 1440, 1),)),\n  Parse(word='его', tag=OpencorporaTag('ADJF,Fixd,Apro,Anph masc,sing,datv'), normal_form='его', score=0.021739, methods_stack=((DictionaryAnalyzer(), 'его', 1440, 2),)),\n  Parse(word='его', tag=OpencorporaTag('ADJF,Fixd,Apro,Anph masc,sing,accs'), normal_form='его', score=0.021739, methods_stack=((DictionaryAnalyzer(), 'его', 1440, 3),)),\n  Parse(word='его', tag=OpencorporaTag('ADJF,Fixd,Apro,Anph masc,sing,ablt'), normal_form='его', score=0.021739, methods_stack=((DictionaryAnalyzer(), 'его', 1440, 4),)),\n  Parse(word='его', tag=OpencorporaTag('ADJF,Fixd,Apro,Anph masc,sing,loct'), normal_form='его', score=0.021739, methods_stack=((DictionaryAnalyzer(), 'его', 1440, 5),)),\n  Parse(word='его', tag=OpencorporaTag('ADJF,Fixd,Apro,Anph femn,sing,nomn'), normal_form='его', score=0.021739, methods_stack=((DictionaryAnalyzer(), 'его', 1440, 6),)),\n  Parse(word='его', tag=OpencorporaTag('ADJF,Fixd,Apro,Anph femn,sing,datv'), normal_form='его', score=0.021739, methods_stack=((DictionaryAnalyzer(), 'его', 1440, 8),)),\n  Parse(word='его', tag=OpencorporaTag('ADJF,Fixd,Apro,Anph femn,sing,accs'), normal_form='его', score=0.021739, methods_stack=((DictionaryAnalyzer(), 'его', 1440, 9),)),\n  Parse(word='его', tag=OpencorporaTag('ADJF,Fixd,Apro,Anph femn,sing,ablt'), normal_form='его', score=0.021739, methods_stack=((DictionaryAnalyzer(), 'его', 1440, 10),)),\n  Parse(word='его', tag=OpencorporaTag('ADJF,Fixd,Apro,Anph femn,sing,loct'), normal_form='его', score=0.021739, methods_stack=((DictionaryAnalyzer(), 'его', 1440, 11),)),\n  Parse(word='его', tag=OpencorporaTag('ADJF,Fixd,Apro,Anph neut,sing,nomn'), normal_form='его', score=0.021739, methods_stack=((DictionaryAnalyzer(), 'его', 1440, 12),)),\n  Parse(word='его', tag=OpencorporaTag('ADJF,Fixd,Apro,Anph neut,sing,datv'), normal_form='его', score=0.021739, methods_stack=((DictionaryAnalyzer(), 'его', 1440, 14),)),\n  Parse(word='его', tag=OpencorporaTag('ADJF,Fixd,Apro,Anph neut,sing,accs'), normal_form='его', score=0.021739, methods_stack=((DictionaryAnalyzer(), 'его', 1440, 15),)),\n  Parse(word='его', tag=OpencorporaTag('ADJF,Fixd,Apro,Anph neut,sing,ablt'), normal_form='его', score=0.021739, methods_stack=((DictionaryAnalyzer(), 'его', 1440, 16),)),\n  Parse(word='его', tag=OpencorporaTag('ADJF,Fixd,Apro,Anph neut,sing,loct'), normal_form='его', score=0.021739, methods_stack=((DictionaryAnalyzer(), 'его', 1440, 17),)),\n  Parse(word='его', tag=OpencorporaTag('ADJF,Fixd,Apro,Anph plur,gent'), normal_form='его', score=0.021739, methods_stack=((DictionaryAnalyzer(), 'его', 1440, 19),)),\n  Parse(word='его', tag=OpencorporaTag('ADJF,Fixd,Apro,Anph plur,accs'), normal_form='его', score=0.021739, methods_stack=((DictionaryAnalyzer(), 'его', 1440, 21),)),\n  Parse(word='его', tag=OpencorporaTag('ADJF,Fixd,Apro,Anph plur,ablt'), normal_form='его', score=0.021739, methods_stack=((DictionaryAnalyzer(), 'его', 1440, 22),)),\n  Parse(word='его', tag=OpencorporaTag('ADJF,Fixd,Apro,Anph plur,loct'), normal_form='его', score=0.021739, methods_stack=((DictionaryAnalyzer(), 'его', 1440, 23),))],\n [Parse(word='прихотям', tag=OpencorporaTag('NOUN,inan,femn plur,datv'), normal_form='прихоть', score=1.0, methods_stack=((DictionaryAnalyzer(), 'прихотям', 13, 8),))],\n [Parse(word='; ', tag=OpencorporaTag('PNCT'), normal_form='; ', score=1.0, methods_stack=((PunctuationAnalyzer(score=0.9), '; '),))],\n [Parse(word='губернские', tag=OpencorporaTag('ADJF plur,nomn'), normal_form='губернский', score=0.5, methods_stack=((DictionaryAnalyzer(), 'губернские', 16, 20),)),\n  Parse(word='губернские', tag=OpencorporaTag('ADJF inan,plur,accs'), normal_form='губернский', score=0.5, methods_stack=((DictionaryAnalyzer(), 'губернские', 16, 24),))],\n [Parse(word='чиновники', tag=OpencorporaTag('NOUN,anim,masc plur,nomn'), normal_form='чиновник', score=1.0, methods_stack=((DictionaryAnalyzer(), 'чиновники', 2, 6),))],\n [Parse(word='трепетали', tag=OpencorporaTag('VERB,impf,intr plur,past,indc'), normal_form='трепетать', score=1.0, methods_stack=((DictionaryAnalyzer(), 'трепетали', 1790, 10),))],\n [Parse(word='при', tag=OpencorporaTag('PREP'), normal_form='при', score=0.99933, methods_stack=((DictionaryAnalyzer(), 'при', 24, 0),)),\n  Parse(word='при', tag=OpencorporaTag('VERB,impf,tran sing,impr,excl'), normal_form='переть', score=0.000334, methods_stack=((DictionaryAnalyzer(), 'при', 2439, 11),)),\n  Parse(word='при', tag=OpencorporaTag('NOUN,inan,femn,Sgtm,Arch sing,gent'), normal_form='пря', score=0.000334, methods_stack=((DictionaryAnalyzer(), 'при', 2719, 1),))],\n [Parse(word='его', tag=OpencorporaTag('NPRO,masc,3per,Anph sing,accs'), normal_form='он', score=0.23913, methods_stack=((DictionaryAnalyzer(), 'его', 2303, 5),)),\n  Parse(word='его', tag=OpencorporaTag('NPRO,neut,3per,Anph sing,accs'), normal_form='оно', score=0.065217, methods_stack=((DictionaryAnalyzer(), 'его', 2306, 5),)),\n  Parse(word='его', tag=OpencorporaTag('ADJF,Fixd,Apro,Anph femn,sing,gent'), normal_form='его', score=0.043478, methods_stack=((DictionaryAnalyzer(), 'его', 1440, 7),)),\n  Parse(word='его', tag=OpencorporaTag('ADJF,Fixd,Apro,Anph neut,sing,gent'), normal_form='его', score=0.043478, methods_stack=((DictionaryAnalyzer(), 'его', 1440, 13),)),\n  Parse(word='его', tag=OpencorporaTag('ADJF,Fixd,Apro,Anph plur,nomn'), normal_form='его', score=0.043478, methods_stack=((DictionaryAnalyzer(), 'его', 1440, 18),)),\n  Parse(word='его', tag=OpencorporaTag('ADJF,Fixd,Apro,Anph plur,datv'), normal_form='его', score=0.043478, methods_stack=((DictionaryAnalyzer(), 'его', 1440, 20),)),\n  Parse(word='его', tag=OpencorporaTag('NPRO,masc,3per,Anph sing,gent'), normal_form='он', score=0.043478, methods_stack=((DictionaryAnalyzer(), 'его', 2303, 1),)),\n  Parse(word='его', tag=OpencorporaTag('NPRO,neut,3per,Anph sing,gent'), normal_form='оно', score=0.043478, methods_stack=((DictionaryAnalyzer(), 'его', 2306, 1),)),\n  Parse(word='его', tag=OpencorporaTag('ADJF,Fixd,Apro,Anph masc,sing,nomn'), normal_form='его', score=0.021739, methods_stack=((DictionaryAnalyzer(), 'его', 1440, 0),)),\n  Parse(word='его', tag=OpencorporaTag('ADJF,Fixd,Apro,Anph masc,sing,gent'), normal_form='его', score=0.021739, methods_stack=((DictionaryAnalyzer(), 'его', 1440, 1),)),\n  Parse(word='его', tag=OpencorporaTag('ADJF,Fixd,Apro,Anph masc,sing,datv'), normal_form='его', score=0.021739, methods_stack=((DictionaryAnalyzer(), 'его', 1440, 2),)),\n  Parse(word='его', tag=OpencorporaTag('ADJF,Fixd,Apro,Anph masc,sing,accs'), normal_form='его', score=0.021739, methods_stack=((DictionaryAnalyzer(), 'его', 1440, 3),)),\n  Parse(word='его', tag=OpencorporaTag('ADJF,Fixd,Apro,Anph masc,sing,ablt'), normal_form='его', score=0.021739, methods_stack=((DictionaryAnalyzer(), 'его', 1440, 4),)),\n  Parse(word='его', tag=OpencorporaTag('ADJF,Fixd,Apro,Anph masc,sing,loct'), normal_form='его', score=0.021739, methods_stack=((DictionaryAnalyzer(), 'его', 1440, 5),)),\n  Parse(word='его', tag=OpencorporaTag('ADJF,Fixd,Apro,Anph femn,sing,nomn'), normal_form='его', score=0.021739, methods_stack=((DictionaryAnalyzer(), 'его', 1440, 6),)),\n  Parse(word='его', tag=OpencorporaTag('ADJF,Fixd,Apro,Anph femn,sing,datv'), normal_form='его', score=0.021739, methods_stack=((DictionaryAnalyzer(), 'его', 1440, 8),)),\n  Parse(word='его', tag=OpencorporaTag('ADJF,Fixd,Apro,Anph femn,sing,accs'), normal_form='его', score=0.021739, methods_stack=((DictionaryAnalyzer(), 'его', 1440, 9),)),\n  Parse(word='его', tag=OpencorporaTag('ADJF,Fixd,Apro,Anph femn,sing,ablt'), normal_form='его', score=0.021739, methods_stack=((DictionaryAnalyzer(), 'его', 1440, 10),)),\n  Parse(word='его', tag=OpencorporaTag('ADJF,Fixd,Apro,Anph femn,sing,loct'), normal_form='его', score=0.021739, methods_stack=((DictionaryAnalyzer(), 'его', 1440, 11),)),\n  Parse(word='его', tag=OpencorporaTag('ADJF,Fixd,Apro,Anph neut,sing,nomn'), normal_form='его', score=0.021739, methods_stack=((DictionaryAnalyzer(), 'его', 1440, 12),)),\n  Parse(word='его', tag=OpencorporaTag('ADJF,Fixd,Apro,Anph neut,sing,datv'), normal_form='его', score=0.021739, methods_stack=((DictionaryAnalyzer(), 'его', 1440, 14),)),\n  Parse(word='его', tag=OpencorporaTag('ADJF,Fixd,Apro,Anph neut,sing,accs'), normal_form='его', score=0.021739, methods_stack=((DictionaryAnalyzer(), 'его', 1440, 15),)),\n  Parse(word='его', tag=OpencorporaTag('ADJF,Fixd,Apro,Anph neut,sing,ablt'), normal_form='его', score=0.021739, methods_stack=((DictionaryAnalyzer(), 'его', 1440, 16),)),\n  Parse(word='его', tag=OpencorporaTag('ADJF,Fixd,Apro,Anph neut,sing,loct'), normal_form='его', score=0.021739, methods_stack=((DictionaryAnalyzer(), 'его', 1440, 17),)),\n  Parse(word='его', tag=OpencorporaTag('ADJF,Fixd,Apro,Anph plur,gent'), normal_form='его', score=0.021739, methods_stack=((DictionaryAnalyzer(), 'его', 1440, 19),)),\n  Parse(word='его', tag=OpencorporaTag('ADJF,Fixd,Apro,Anph plur,accs'), normal_form='его', score=0.021739, methods_stack=((DictionaryAnalyzer(), 'его', 1440, 21),)),\n  Parse(word='его', tag=OpencorporaTag('ADJF,Fixd,Apro,Anph plur,ablt'), normal_form='его', score=0.021739, methods_stack=((DictionaryAnalyzer(), 'его', 1440, 22),)),\n  Parse(word='его', tag=OpencorporaTag('ADJF,Fixd,Apro,Anph plur,loct'), normal_form='его', score=0.021739, methods_stack=((DictionaryAnalyzer(), 'его', 1440, 23),))],\n [Parse(word='имени', tag=OpencorporaTag('NOUN,inan,neut sing,gent'), normal_form='имя', score=0.692737, methods_stack=((DictionaryAnalyzer(), 'имени', 1721, 1),)),\n  Parse(word='имени', tag=OpencorporaTag('NOUN,inan,neut sing,datv'), normal_form='имя', score=0.290502, methods_stack=((DictionaryAnalyzer(), 'имени', 1721, 2),)),\n  Parse(word='имени', tag=OpencorporaTag('NOUN,inan,neut sing,loct'), normal_form='имя', score=0.016759, methods_stack=((DictionaryAnalyzer(), 'имени', 1721, 5),))],\n [Parse(word='; ', tag=OpencorporaTag('PNCT'), normal_form='; ', score=1.0, methods_stack=((PunctuationAnalyzer(score=0.9), '; '),))],\n [Parse(word='кирила', tag=OpencorporaTag('NOUN,anim,masc,Name sing,gent'), normal_form='кирил', score=0.5, methods_stack=((DictionaryAnalyzer(), 'кирила', 27, 1),)),\n  Parse(word='кирила', tag=OpencorporaTag('NOUN,anim,masc,Name sing,accs'), normal_form='кирил', score=0.5, methods_stack=((DictionaryAnalyzer(), 'кирила', 27, 3),))],\n [Parse(word='петрович', tag=OpencorporaTag('NOUN,anim,masc,Patr sing,nomn'), normal_form='петрович', score=1.0, methods_stack=((DictionaryAnalyzer(), 'петрович', 26, 0),))],\n [Parse(word='принимал', tag=OpencorporaTag('VERB,impf,tran masc,sing,past,indc'), normal_form='принимать', score=1.0, methods_stack=((DictionaryAnalyzer(), 'принимал', 215, 7),))],\n [Parse(word='знаки', tag=OpencorporaTag('NOUN,inan,masc plur,nomn'), normal_form='знак', score=0.783783, methods_stack=((DictionaryAnalyzer(), 'знаки', 19, 6),)),\n  Parse(word='знаки', tag=OpencorporaTag('NOUN,inan,masc plur,accs'), normal_form='знак', score=0.216216, methods_stack=((DictionaryAnalyzer(), 'знаки', 19, 9),))],\n [Parse(word='подобострастия', tag=OpencorporaTag('NOUN,inan,neut sing,gent'), normal_form='подобострастие', score=0.3333333333333333, methods_stack=((DictionaryAnalyzer(), 'подобострастия', 77, 2),)),\n  Parse(word='подобострастия', tag=OpencorporaTag('NOUN,inan,neut plur,nomn'), normal_form='подобострастие', score=0.3333333333333333, methods_stack=((DictionaryAnalyzer(), 'подобострастия', 77, 13),)),\n  Parse(word='подобострастия', tag=OpencorporaTag('NOUN,inan,neut plur,accs'), normal_form='подобострастие', score=0.3333333333333333, methods_stack=((DictionaryAnalyzer(), 'подобострастия', 77, 18),))],\n [Parse(word='как', tag=OpencorporaTag('CONJ'), normal_form='как', score=0.827586, methods_stack=((DictionaryAnalyzer(), 'как', 1751, 0),)),\n  Parse(word='как', tag=OpencorporaTag('ADVB,Ques'), normal_form='как', score=0.103448, methods_stack=((DictionaryAnalyzer(), 'как', 1181, 0),)),\n  Parse(word='как', tag=OpencorporaTag('PRCL'), normal_form='как', score=0.068965, methods_stack=((DictionaryAnalyzer(), 'как', 22, 0),))],\n [Parse(word='надлежащую', tag=OpencorporaTag('ADJF femn,sing,accs'), normal_form='надлежащий', score=1.0, methods_stack=((DictionaryAnalyzer(), 'надлежащую', 213, 10),))],\n [Parse(word='дань', tag=OpencorporaTag('NOUN,inan,femn sing,nomn'), normal_form='дань', score=0.2, methods_stack=((DictionaryAnalyzer(), 'дань', 13, 0),)),\n  Parse(word='дань', tag=OpencorporaTag('NOUN,inan,femn sing,accs'), normal_form='дань', score=0.2, methods_stack=((DictionaryAnalyzer(), 'дань', 13, 3),)),\n  Parse(word='дань', tag=OpencorporaTag('NOUN,anim,masc,Name sing,voct,Infr'), normal_form='даня', score=0.2, methods_stack=((DictionaryAnalyzer(), 'дань', 424, 7),)),\n  Parse(word='дань', tag=OpencorporaTag('NOUN,anim,masc,Name plur,gent'), normal_form='даня', score=0.2, methods_stack=((DictionaryAnalyzer(), 'дань', 424, 9),)),\n  Parse(word='дань', tag=OpencorporaTag('NOUN,anim,masc,Name plur,accs'), normal_form='даня', score=0.2, methods_stack=((DictionaryAnalyzer(), 'дань', 424, 11),))],\n [Parse(word='; ', tag=OpencorporaTag('PNCT'), normal_form='; ', score=1.0, methods_stack=((PunctuationAnalyzer(score=0.9), '; '),))],\n [Parse(word='дом', tag=OpencorporaTag('NOUN,inan,masc sing,nomn'), normal_form='дом', score=0.570175, methods_stack=((DictionaryAnalyzer(), 'дом', 1375, 0),)),\n  Parse(word='дом', tag=OpencorporaTag('NOUN,inan,masc sing,accs'), normal_form='дом', score=0.429824, methods_stack=((DictionaryAnalyzer(), 'дом', 1375, 4),))],\n [Parse(word='его', tag=OpencorporaTag('NPRO,masc,3per,Anph sing,accs'), normal_form='он', score=0.23913, methods_stack=((DictionaryAnalyzer(), 'его', 2303, 5),)),\n  Parse(word='его', tag=OpencorporaTag('NPRO,neut,3per,Anph sing,accs'), normal_form='оно', score=0.065217, methods_stack=((DictionaryAnalyzer(), 'его', 2306, 5),)),\n  Parse(word='его', tag=OpencorporaTag('ADJF,Fixd,Apro,Anph femn,sing,gent'), normal_form='его', score=0.043478, methods_stack=((DictionaryAnalyzer(), 'его', 1440, 7),)),\n  Parse(word='его', tag=OpencorporaTag('ADJF,Fixd,Apro,Anph neut,sing,gent'), normal_form='его', score=0.043478, methods_stack=((DictionaryAnalyzer(), 'его', 1440, 13),)),\n  Parse(word='его', tag=OpencorporaTag('ADJF,Fixd,Apro,Anph plur,nomn'), normal_form='его', score=0.043478, methods_stack=((DictionaryAnalyzer(), 'его', 1440, 18),)),\n  Parse(word='его', tag=OpencorporaTag('ADJF,Fixd,Apro,Anph plur,datv'), normal_form='его', score=0.043478, methods_stack=((DictionaryAnalyzer(), 'его', 1440, 20),)),\n  Parse(word='его', tag=OpencorporaTag('NPRO,masc,3per,Anph sing,gent'), normal_form='он', score=0.043478, methods_stack=((DictionaryAnalyzer(), 'его', 2303, 1),)),\n  Parse(word='его', tag=OpencorporaTag('NPRO,neut,3per,Anph sing,gent'), normal_form='оно', score=0.043478, methods_stack=((DictionaryAnalyzer(), 'его', 2306, 1),)),\n  Parse(word='его', tag=OpencorporaTag('ADJF,Fixd,Apro,Anph masc,sing,nomn'), normal_form='его', score=0.021739, methods_stack=((DictionaryAnalyzer(), 'его', 1440, 0),)),\n  Parse(word='его', tag=OpencorporaTag('ADJF,Fixd,Apro,Anph masc,sing,gent'), normal_form='его', score=0.021739, methods_stack=((DictionaryAnalyzer(), 'его', 1440, 1),)),\n  Parse(word='его', tag=OpencorporaTag('ADJF,Fixd,Apro,Anph masc,sing,datv'), normal_form='его', score=0.021739, methods_stack=((DictionaryAnalyzer(), 'его', 1440, 2),)),\n  Parse(word='его', tag=OpencorporaTag('ADJF,Fixd,Apro,Anph masc,sing,accs'), normal_form='его', score=0.021739, methods_stack=((DictionaryAnalyzer(), 'его', 1440, 3),)),\n  Parse(word='его', tag=OpencorporaTag('ADJF,Fixd,Apro,Anph masc,sing,ablt'), normal_form='его', score=0.021739, methods_stack=((DictionaryAnalyzer(), 'его', 1440, 4),)),\n  Parse(word='его', tag=OpencorporaTag('ADJF,Fixd,Apro,Anph masc,sing,loct'), normal_form='его', score=0.021739, methods_stack=((DictionaryAnalyzer(), 'его', 1440, 5),)),\n  Parse(word='его', tag=OpencorporaTag('ADJF,Fixd,Apro,Anph femn,sing,nomn'), normal_form='его', score=0.021739, methods_stack=((DictionaryAnalyzer(), 'его', 1440, 6),)),\n  Parse(word='его', tag=OpencorporaTag('ADJF,Fixd,Apro,Anph femn,sing,datv'), normal_form='его', score=0.021739, methods_stack=((DictionaryAnalyzer(), 'его', 1440, 8),)),\n  Parse(word='его', tag=OpencorporaTag('ADJF,Fixd,Apro,Anph femn,sing,accs'), normal_form='его', score=0.021739, methods_stack=((DictionaryAnalyzer(), 'его', 1440, 9),)),\n  Parse(word='его', tag=OpencorporaTag('ADJF,Fixd,Apro,Anph femn,sing,ablt'), normal_form='его', score=0.021739, methods_stack=((DictionaryAnalyzer(), 'его', 1440, 10),)),\n  Parse(word='его', tag=OpencorporaTag('ADJF,Fixd,Apro,Anph femn,sing,loct'), normal_form='его', score=0.021739, methods_stack=((DictionaryAnalyzer(), 'его', 1440, 11),)),\n  Parse(word='его', tag=OpencorporaTag('ADJF,Fixd,Apro,Anph neut,sing,nomn'), normal_form='его', score=0.021739, methods_stack=((DictionaryAnalyzer(), 'его', 1440, 12),)),\n  Parse(word='его', tag=OpencorporaTag('ADJF,Fixd,Apro,Anph neut,sing,datv'), normal_form='его', score=0.021739, methods_stack=((DictionaryAnalyzer(), 'его', 1440, 14),)),\n  Parse(word='его', tag=OpencorporaTag('ADJF,Fixd,Apro,Anph neut,sing,accs'), normal_form='его', score=0.021739, methods_stack=((DictionaryAnalyzer(), 'его', 1440, 15),)),\n  Parse(word='его', tag=OpencorporaTag('ADJF,Fixd,Apro,Anph neut,sing,ablt'), normal_form='его', score=0.021739, methods_stack=((DictionaryAnalyzer(), 'его', 1440, 16),)),\n  Parse(word='его', tag=OpencorporaTag('ADJF,Fixd,Apro,Anph neut,sing,loct'), normal_form='его', score=0.021739, methods_stack=((DictionaryAnalyzer(), 'его', 1440, 17),)),\n  Parse(word='его', tag=OpencorporaTag('ADJF,Fixd,Apro,Anph plur,gent'), normal_form='его', score=0.021739, methods_stack=((DictionaryAnalyzer(), 'его', 1440, 19),)),\n  Parse(word='его', tag=OpencorporaTag('ADJF,Fixd,Apro,Anph plur,accs'), normal_form='его', score=0.021739, methods_stack=((DictionaryAnalyzer(), 'его', 1440, 21),)),\n  Parse(word='его', tag=OpencorporaTag('ADJF,Fixd,Apro,Anph plur,ablt'), normal_form='его', score=0.021739, methods_stack=((DictionaryAnalyzer(), 'его', 1440, 22),)),\n  Parse(word='его', tag=OpencorporaTag('ADJF,Fixd,Apro,Anph plur,loct'), normal_form='его', score=0.021739, methods_stack=((DictionaryAnalyzer(), 'его', 1440, 23),))],\n [Parse(word='всегда', tag=OpencorporaTag('ADVB'), normal_form='всегда', score=1.0, methods_stack=((DictionaryAnalyzer(), 'всегда', 3, 0),))],\n [Parse(word='был', tag=OpencorporaTag('VERB,impf,intr masc,sing,past,indc'), normal_form='быть', score=1.0, methods_stack=((DictionaryAnalyzer(), 'был', 620, 4),))],\n [Parse(word='полон', tag=OpencorporaTag('ADJS,Qual masc,sing'), normal_form='полный', score=0.8, methods_stack=((DictionaryAnalyzer(), 'полон', 2574, 54),)),\n  Parse(word='полон', tag=OpencorporaTag('NOUN,inan,masc sing,nomn'), normal_form='полон', score=0.1, methods_stack=((DictionaryAnalyzer(), 'полон', 34, 0),)),\n  Parse(word='полон', tag=OpencorporaTag('NOUN,inan,masc sing,accs'), normal_form='полон', score=0.1, methods_stack=((DictionaryAnalyzer(), 'полон', 34, 3),))],\n [Parse(word='гостями', tag=OpencorporaTag('NOUN,anim,masc plur,ablt'), normal_form='гость', score=1.0, methods_stack=((DictionaryAnalyzer(), 'гостями', 123, 10),))],\n [Parse(word=', ', tag=OpencorporaTag('PNCT'), normal_form=', ', score=1.0, methods_stack=((PunctuationAnalyzer(score=0.9), ', '),))],\n [Parse(word='готовыми', tag=OpencorporaTag('ADJF,Qual plur,ablt'), normal_form='готовый', score=1.0, methods_stack=((DictionaryAnalyzer(), 'готовыми', 4, 25),))],\n [Parse(word='тешить', tag=OpencorporaTag('INFN,impf,tran'), normal_form='тешить', score=1.0, methods_stack=((DictionaryAnalyzer(), 'тешить', 596, 0),))],\n [Parse(word='его', tag=OpencorporaTag('NPRO,masc,3per,Anph sing,accs'), normal_form='он', score=0.23913, methods_stack=((DictionaryAnalyzer(), 'его', 2303, 5),)),\n  Parse(word='его', tag=OpencorporaTag('NPRO,neut,3per,Anph sing,accs'), normal_form='оно', score=0.065217, methods_stack=((DictionaryAnalyzer(), 'его', 2306, 5),)),\n  Parse(word='его', tag=OpencorporaTag('ADJF,Fixd,Apro,Anph femn,sing,gent'), normal_form='его', score=0.043478, methods_stack=((DictionaryAnalyzer(), 'его', 1440, 7),)),\n  Parse(word='его', tag=OpencorporaTag('ADJF,Fixd,Apro,Anph neut,sing,gent'), normal_form='его', score=0.043478, methods_stack=((DictionaryAnalyzer(), 'его', 1440, 13),)),\n  Parse(word='его', tag=OpencorporaTag('ADJF,Fixd,Apro,Anph plur,nomn'), normal_form='его', score=0.043478, methods_stack=((DictionaryAnalyzer(), 'его', 1440, 18),)),\n  Parse(word='его', tag=OpencorporaTag('ADJF,Fixd,Apro,Anph plur,datv'), normal_form='его', score=0.043478, methods_stack=((DictionaryAnalyzer(), 'его', 1440, 20),)),\n  Parse(word='его', tag=OpencorporaTag('NPRO,masc,3per,Anph sing,gent'), normal_form='он', score=0.043478, methods_stack=((DictionaryAnalyzer(), 'его', 2303, 1),)),\n  Parse(word='его', tag=OpencorporaTag('NPRO,neut,3per,Anph sing,gent'), normal_form='оно', score=0.043478, methods_stack=((DictionaryAnalyzer(), 'его', 2306, 1),)),\n  Parse(word='его', tag=OpencorporaTag('ADJF,Fixd,Apro,Anph masc,sing,nomn'), normal_form='его', score=0.021739, methods_stack=((DictionaryAnalyzer(), 'его', 1440, 0),)),\n  Parse(word='его', tag=OpencorporaTag('ADJF,Fixd,Apro,Anph masc,sing,gent'), normal_form='его', score=0.021739, methods_stack=((DictionaryAnalyzer(), 'его', 1440, 1),)),\n  Parse(word='его', tag=OpencorporaTag('ADJF,Fixd,Apro,Anph masc,sing,datv'), normal_form='его', score=0.021739, methods_stack=((DictionaryAnalyzer(), 'его', 1440, 2),)),\n  Parse(word='его', tag=OpencorporaTag('ADJF,Fixd,Apro,Anph masc,sing,accs'), normal_form='его', score=0.021739, methods_stack=((DictionaryAnalyzer(), 'его', 1440, 3),)),\n  Parse(word='его', tag=OpencorporaTag('ADJF,Fixd,Apro,Anph masc,sing,ablt'), normal_form='его', score=0.021739, methods_stack=((DictionaryAnalyzer(), 'его', 1440, 4),)),\n  Parse(word='его', tag=OpencorporaTag('ADJF,Fixd,Apro,Anph masc,sing,loct'), normal_form='его', score=0.021739, methods_stack=((DictionaryAnalyzer(), 'его', 1440, 5),)),\n  Parse(word='его', tag=OpencorporaTag('ADJF,Fixd,Apro,Anph femn,sing,nomn'), normal_form='его', score=0.021739, methods_stack=((DictionaryAnalyzer(), 'его', 1440, 6),)),\n  Parse(word='его', tag=OpencorporaTag('ADJF,Fixd,Apro,Anph femn,sing,datv'), normal_form='его', score=0.021739, methods_stack=((DictionaryAnalyzer(), 'его', 1440, 8),)),\n  Parse(word='его', tag=OpencorporaTag('ADJF,Fixd,Apro,Anph femn,sing,accs'), normal_form='его', score=0.021739, methods_stack=((DictionaryAnalyzer(), 'его', 1440, 9),)),\n  Parse(word='его', tag=OpencorporaTag('ADJF,Fixd,Apro,Anph femn,sing,ablt'), normal_form='его', score=0.021739, methods_stack=((DictionaryAnalyzer(), 'его', 1440, 10),)),\n  Parse(word='его', tag=OpencorporaTag('ADJF,Fixd,Apro,Anph femn,sing,loct'), normal_form='его', score=0.021739, methods_stack=((DictionaryAnalyzer(), 'его', 1440, 11),)),\n  Parse(word='его', tag=OpencorporaTag('ADJF,Fixd,Apro,Anph neut,sing,nomn'), normal_form='его', score=0.021739, methods_stack=((DictionaryAnalyzer(), 'его', 1440, 12),)),\n  Parse(word='его', tag=OpencorporaTag('ADJF,Fixd,Apro,Anph neut,sing,datv'), normal_form='его', score=0.021739, methods_stack=((DictionaryAnalyzer(), 'его', 1440, 14),)),\n  Parse(word='его', tag=OpencorporaTag('ADJF,Fixd,Apro,Anph neut,sing,accs'), normal_form='его', score=0.021739, methods_stack=((DictionaryAnalyzer(), 'его', 1440, 15),)),\n  Parse(word='его', tag=OpencorporaTag('ADJF,Fixd,Apro,Anph neut,sing,ablt'), normal_form='его', score=0.021739, methods_stack=((DictionaryAnalyzer(), 'его', 1440, 16),)),\n  Parse(word='его', tag=OpencorporaTag('ADJF,Fixd,Apro,Anph neut,sing,loct'), normal_form='его', score=0.021739, methods_stack=((DictionaryAnalyzer(), 'его', 1440, 17),)),\n  Parse(word='его', tag=OpencorporaTag('ADJF,Fixd,Apro,Anph plur,gent'), normal_form='его', score=0.021739, methods_stack=((DictionaryAnalyzer(), 'его', 1440, 19),)),\n  Parse(word='его', tag=OpencorporaTag('ADJF,Fixd,Apro,Anph plur,accs'), normal_form='его', score=0.021739, methods_stack=((DictionaryAnalyzer(), 'его', 1440, 21),)),\n  Parse(word='его', tag=OpencorporaTag('ADJF,Fixd,Apro,Anph plur,ablt'), normal_form='его', score=0.021739, methods_stack=((DictionaryAnalyzer(), 'его', 1440, 22),)),\n  Parse(word='его', tag=OpencorporaTag('ADJF,Fixd,Apro,Anph plur,loct'), normal_form='его', score=0.021739, methods_stack=((DictionaryAnalyzer(), 'его', 1440, 23),))],\n [Parse(word='барскую', tag=OpencorporaTag('ADJF femn,sing,accs'), normal_form='барский', score=1.0, methods_stack=((DictionaryAnalyzer(), 'барскую', 16, 10),))],\n [Parse(word='праздность', tag=OpencorporaTag('NOUN,inan,femn sing,nomn'), normal_form='праздность', score=0.5, methods_stack=((DictionaryAnalyzer(), 'праздность', 13, 0),)),\n  Parse(word='праздность', tag=OpencorporaTag('NOUN,inan,femn sing,accs'), normal_form='праздность', score=0.5, methods_stack=((DictionaryAnalyzer(), 'праздность', 13, 3),))],\n [Parse(word=', ', tag=OpencorporaTag('PNCT'), normal_form=', ', score=1.0, methods_stack=((PunctuationAnalyzer(score=0.9), ', '),))],\n [Parse(word='разделяя', tag=OpencorporaTag('GRND,impf,tran pres'), normal_form='разделять', score=1.0, methods_stack=((DictionaryAnalyzer(), 'разделяя', 215, 94),))],\n [Parse(word='шумные', tag=OpencorporaTag('ADJF,Qual plur,nomn'), normal_form='шумный', score=0.75, methods_stack=((DictionaryAnalyzer(), 'шумные', 87, 20),)),\n  Parse(word='шумные', tag=OpencorporaTag('ADJF,Qual inan,plur,accs'), normal_form='шумный', score=0.25, methods_stack=((DictionaryAnalyzer(), 'шумные', 87, 24),))],\n [Parse(word=', ', tag=OpencorporaTag('PNCT'), normal_form=', ', score=1.0, methods_stack=((PunctuationAnalyzer(score=0.9), ', '),))],\n [Parse(word='а', tag=OpencorporaTag('CONJ'), normal_form='а', score=0.997155, methods_stack=((DictionaryAnalyzer(), 'а', 20, 0),)),\n  Parse(word='а', tag=OpencorporaTag('INTJ'), normal_form='а', score=0.001706, methods_stack=((DictionaryAnalyzer(), 'а', 21, 0),)),\n  Parse(word='а', tag=OpencorporaTag('PRCL'), normal_form='а', score=0.001137, methods_stack=((DictionaryAnalyzer(), 'а', 22, 0),))],\n [Parse(word='иногда', tag=OpencorporaTag('ADVB'), normal_form='иногда', score=1.0, methods_stack=((DictionaryAnalyzer(), 'иногда', 3, 0),))],\n [Parse(word='и', tag=OpencorporaTag('CONJ'), normal_form='и', score=0.998263, methods_stack=((DictionaryAnalyzer(), 'и', 20, 0),)),\n  Parse(word='и', tag=OpencorporaTag('PRCL'), normal_form='и', score=0.000306, methods_stack=((DictionaryAnalyzer(), 'и', 22, 0),)),\n  Parse(word='и', tag=OpencorporaTag('INTJ'), normal_form='и', score=0.000204, methods_stack=((DictionaryAnalyzer(), 'и', 21, 0),)),\n  Parse(word='и', tag=OpencorporaTag('NOUN,anim,masc,Fixd,Abbr sing,nomn'), normal_form='и', score=0.000102, methods_stack=((DictionaryAnalyzer(), 'и', 3289, 0),)),\n  Parse(word='и', tag=OpencorporaTag('NOUN,anim,masc,Fixd,Abbr sing,gent'), normal_form='и', score=0.000102, methods_stack=((DictionaryAnalyzer(), 'и', 3289, 1),)),\n  Parse(word='и', tag=OpencorporaTag('NOUN,anim,masc,Fixd,Abbr sing,datv'), normal_form='и', score=0.000102, methods_stack=((DictionaryAnalyzer(), 'и', 3289, 2),)),\n  Parse(word='и', tag=OpencorporaTag('NOUN,anim,masc,Fixd,Abbr sing,accs'), normal_form='и', score=0.000102, methods_stack=((DictionaryAnalyzer(), 'и', 3289, 3),)),\n  Parse(word='и', tag=OpencorporaTag('NOUN,anim,masc,Fixd,Abbr sing,ablt'), normal_form='и', score=0.000102, methods_stack=((DictionaryAnalyzer(), 'и', 3289, 4),)),\n  Parse(word='и', tag=OpencorporaTag('NOUN,anim,masc,Fixd,Abbr sing,loct'), normal_form='и', score=0.000102, methods_stack=((DictionaryAnalyzer(), 'и', 3289, 5),)),\n  Parse(word='и', tag=OpencorporaTag('NOUN,anim,masc,Fixd,Abbr plur,nomn'), normal_form='и', score=0.000102, methods_stack=((DictionaryAnalyzer(), 'и', 3289, 6),)),\n  Parse(word='и', tag=OpencorporaTag('NOUN,anim,masc,Fixd,Abbr plur,gent'), normal_form='и', score=0.000102, methods_stack=((DictionaryAnalyzer(), 'и', 3289, 7),)),\n  Parse(word='и', tag=OpencorporaTag('NOUN,anim,masc,Fixd,Abbr plur,datv'), normal_form='и', score=0.000102, methods_stack=((DictionaryAnalyzer(), 'и', 3289, 8),)),\n  Parse(word='и', tag=OpencorporaTag('NOUN,anim,masc,Fixd,Abbr plur,accs'), normal_form='и', score=0.000102, methods_stack=((DictionaryAnalyzer(), 'и', 3289, 9),)),\n  Parse(word='и', tag=OpencorporaTag('NOUN,anim,masc,Fixd,Abbr plur,ablt'), normal_form='и', score=0.000102, methods_stack=((DictionaryAnalyzer(), 'и', 3289, 10),)),\n  Parse(word='и', tag=OpencorporaTag('NOUN,anim,masc,Fixd,Abbr plur,loct'), normal_form='и', score=0.000102, methods_stack=((DictionaryAnalyzer(), 'и', 3289, 11),))],\n [Parse(word='буйные', tag=OpencorporaTag('ADJF,Qual plur,nomn'), normal_form='буйный', score=0.5, methods_stack=((DictionaryAnalyzer(), 'буйные', 97, 20),)),\n  Parse(word='буйные', tag=OpencorporaTag('ADJF,Qual inan,plur,accs'), normal_form='буйный', score=0.5, methods_stack=((DictionaryAnalyzer(), 'буйные', 97, 24),))],\n [Parse(word='его', tag=OpencorporaTag('NPRO,masc,3per,Anph sing,accs'), normal_form='он', score=0.23913, methods_stack=((DictionaryAnalyzer(), 'его', 2303, 5),)),\n  Parse(word='его', tag=OpencorporaTag('NPRO,neut,3per,Anph sing,accs'), normal_form='оно', score=0.065217, methods_stack=((DictionaryAnalyzer(), 'его', 2306, 5),)),\n  Parse(word='его', tag=OpencorporaTag('ADJF,Fixd,Apro,Anph femn,sing,gent'), normal_form='его', score=0.043478, methods_stack=((DictionaryAnalyzer(), 'его', 1440, 7),)),\n  Parse(word='его', tag=OpencorporaTag('ADJF,Fixd,Apro,Anph neut,sing,gent'), normal_form='его', score=0.043478, methods_stack=((DictionaryAnalyzer(), 'его', 1440, 13),)),\n  Parse(word='его', tag=OpencorporaTag('ADJF,Fixd,Apro,Anph plur,nomn'), normal_form='его', score=0.043478, methods_stack=((DictionaryAnalyzer(), 'его', 1440, 18),)),\n  Parse(word='его', tag=OpencorporaTag('ADJF,Fixd,Apro,Anph plur,datv'), normal_form='его', score=0.043478, methods_stack=((DictionaryAnalyzer(), 'его', 1440, 20),)),\n  Parse(word='его', tag=OpencorporaTag('NPRO,masc,3per,Anph sing,gent'), normal_form='он', score=0.043478, methods_stack=((DictionaryAnalyzer(), 'его', 2303, 1),)),\n  Parse(word='его', tag=OpencorporaTag('NPRO,neut,3per,Anph sing,gent'), normal_form='оно', score=0.043478, methods_stack=((DictionaryAnalyzer(), 'его', 2306, 1),)),\n  Parse(word='его', tag=OpencorporaTag('ADJF,Fixd,Apro,Anph masc,sing,nomn'), normal_form='его', score=0.021739, methods_stack=((DictionaryAnalyzer(), 'его', 1440, 0),)),\n  Parse(word='его', tag=OpencorporaTag('ADJF,Fixd,Apro,Anph masc,sing,gent'), normal_form='его', score=0.021739, methods_stack=((DictionaryAnalyzer(), 'его', 1440, 1),)),\n  Parse(word='его', tag=OpencorporaTag('ADJF,Fixd,Apro,Anph masc,sing,datv'), normal_form='его', score=0.021739, methods_stack=((DictionaryAnalyzer(), 'его', 1440, 2),)),\n  Parse(word='его', tag=OpencorporaTag('ADJF,Fixd,Apro,Anph masc,sing,accs'), normal_form='его', score=0.021739, methods_stack=((DictionaryAnalyzer(), 'его', 1440, 3),)),\n  Parse(word='его', tag=OpencorporaTag('ADJF,Fixd,Apro,Anph masc,sing,ablt'), normal_form='его', score=0.021739, methods_stack=((DictionaryAnalyzer(), 'его', 1440, 4),)),\n  Parse(word='его', tag=OpencorporaTag('ADJF,Fixd,Apro,Anph masc,sing,loct'), normal_form='его', score=0.021739, methods_stack=((DictionaryAnalyzer(), 'его', 1440, 5),)),\n  Parse(word='его', tag=OpencorporaTag('ADJF,Fixd,Apro,Anph femn,sing,nomn'), normal_form='его', score=0.021739, methods_stack=((DictionaryAnalyzer(), 'его', 1440, 6),)),\n  Parse(word='его', tag=OpencorporaTag('ADJF,Fixd,Apro,Anph femn,sing,datv'), normal_form='его', score=0.021739, methods_stack=((DictionaryAnalyzer(), 'его', 1440, 8),)),\n  Parse(word='его', tag=OpencorporaTag('ADJF,Fixd,Apro,Anph femn,sing,accs'), normal_form='его', score=0.021739, methods_stack=((DictionaryAnalyzer(), 'его', 1440, 9),)),\n  Parse(word='его', tag=OpencorporaTag('ADJF,Fixd,Apro,Anph femn,sing,ablt'), normal_form='его', score=0.021739, methods_stack=((DictionaryAnalyzer(), 'его', 1440, 10),)),\n  Parse(word='его', tag=OpencorporaTag('ADJF,Fixd,Apro,Anph femn,sing,loct'), normal_form='его', score=0.021739, methods_stack=((DictionaryAnalyzer(), 'его', 1440, 11),)),\n  Parse(word='его', tag=OpencorporaTag('ADJF,Fixd,Apro,Anph neut,sing,nomn'), normal_form='его', score=0.021739, methods_stack=((DictionaryAnalyzer(), 'его', 1440, 12),)),\n  Parse(word='его', tag=OpencorporaTag('ADJF,Fixd,Apro,Anph neut,sing,datv'), normal_form='его', score=0.021739, methods_stack=((DictionaryAnalyzer(), 'его', 1440, 14),)),\n  Parse(word='его', tag=OpencorporaTag('ADJF,Fixd,Apro,Anph neut,sing,accs'), normal_form='его', score=0.021739, methods_stack=((DictionaryAnalyzer(), 'его', 1440, 15),)),\n  Parse(word='его', tag=OpencorporaTag('ADJF,Fixd,Apro,Anph neut,sing,ablt'), normal_form='его', score=0.021739, methods_stack=((DictionaryAnalyzer(), 'его', 1440, 16),)),\n  Parse(word='его', tag=OpencorporaTag('ADJF,Fixd,Apro,Anph neut,sing,loct'), normal_form='его', score=0.021739, methods_stack=((DictionaryAnalyzer(), 'его', 1440, 17),)),\n  Parse(word='его', tag=OpencorporaTag('ADJF,Fixd,Apro,Anph plur,gent'), normal_form='его', score=0.021739, methods_stack=((DictionaryAnalyzer(), 'его', 1440, 19),)),\n  Parse(word='его', tag=OpencorporaTag('ADJF,Fixd,Apro,Anph plur,accs'), normal_form='его', score=0.021739, methods_stack=((DictionaryAnalyzer(), 'его', 1440, 21),)),\n  Parse(word='его', tag=OpencorporaTag('ADJF,Fixd,Apro,Anph plur,ablt'), normal_form='его', score=0.021739, methods_stack=((DictionaryAnalyzer(), 'его', 1440, 22),)),\n  Parse(word='его', tag=OpencorporaTag('ADJF,Fixd,Apro,Anph plur,loct'), normal_form='его', score=0.021739, methods_stack=((DictionaryAnalyzer(), 'его', 1440, 23),))],\n [Parse(word='увеселения', tag=OpencorporaTag('NOUN,inan,neut plur,accs'), normal_form='увеселение', score=0.5, methods_stack=((DictionaryAnalyzer(), 'увеселения', 77, 18),)),\n  Parse(word='увеселения', tag=OpencorporaTag('NOUN,inan,neut sing,gent'), normal_form='увеселение', score=0.25, methods_stack=((DictionaryAnalyzer(), 'увеселения', 77, 2),)),\n  Parse(word='увеселения', tag=OpencorporaTag('NOUN,inan,neut plur,nomn'), normal_form='увеселение', score=0.25, methods_stack=((DictionaryAnalyzer(), 'увеселения', 77, 13),))],\n [Parse(word='.', tag=OpencorporaTag('PNCT'), normal_form='.', score=1.0, methods_stack=((PunctuationAnalyzer(score=0.9), '.'),))]]"
     },
     "execution_count": 94,
     "metadata": {},
     "output_type": "execute_result"
    }
   ],
   "source": [
    "morph_lemmas"
   ],
   "metadata": {
    "collapsed": false,
    "ExecuteTime": {
     "end_time": "2024-02-29T15:16:23.305530Z",
     "start_time": "2024-02-29T15:16:23.164978Z"
    }
   },
   "id": "a1a0ac33bbee7f77",
   "execution_count": 94
  },
  {
   "cell_type": "code",
   "outputs": [
    {
     "name": "stdout",
     "output_type": "stream",
     "text": [
      "Токен: тому   Mystem: то   PyMorph: тот, \n",
      "Токен: Кирила   Mystem: кирила   PyMorph: кирил, \n",
      "Токен: Его   Mystem: его   PyMorph: он, \n",
      "Токен: род   Mystem: род   PyMorph: родиться, \n",
      "Токен: его   Mystem: его   PyMorph: он, \n",
      "Токен: рады   Mystem: рад   PyMorph: рада, \n",
      "Токен: его   Mystem: его   PyMorph: он, \n",
      "Токен: его   Mystem: его   PyMorph: он, \n",
      "Токен: Кирила   Mystem: кирила   PyMorph: кирил, \n",
      "Токен: его   Mystem: его   PyMorph: он, \n",
      "Токен: его   Mystem: его   PyMorph: он, \n",
      "Токен: его   Mystem: его   PyMorph: он, \n",
      "84 True 146 True 146 True\n",
      "Лемматизация не совпадает\n",
      "Количество лишних токенов у mystem 62\n"
     ]
    }
   ],
   "source": [
    "i = j = k = 0\n",
    "comparing_lemmas = []\n",
    "unnecessary_tokens = 0\n",
    "\n",
    "while i < len(morph_lemmas) or j < len(mystem_lemmas) or k < len(mystem_tokenization):\n",
    "    if mystem_tokenization[k] in (' ', '\\n'):\n",
    "        k += 1\n",
    "        j += 1\n",
    "        unnecessary_tokens += 1\n",
    "        continue\n",
    "    \n",
    "    morph_lemma = morph_lemmas[i][0].normal_form\n",
    "    mystem_lemma = mystem_lemmas[j]\n",
    "    comparing = morph_lemma.strip() == mystem_lemma.strip()\n",
    "    if not comparing:\n",
    "        token = mystem_tokenization[k]\n",
    "        print(f'Токен: {token}   Mystem: {mystem_lemma}   PyMorph: {morph_lemma}, ')\n",
    "        \n",
    "    comparing_lemmas.append(comparing)\n",
    "    i += 1\n",
    "    j += 1\n",
    "    k += 1\n",
    "\n",
    "print(i, i == len(razdel_tokenization), j, j == len(mystem_lemmas), k, k == len(mystem_tokenization))\n",
    "print(f'Лемматизация{\" \" if all(comparing_lemmas) else \" не \"}совпадает')\n",
    "print(f'Количество лишних токенов у mystem {unnecessary_tokens}')"
   ],
   "metadata": {
    "collapsed": false,
    "ExecuteTime": {
     "end_time": "2024-02-29T15:23:46.884917Z",
     "start_time": "2024-02-29T15:23:46.873370Z"
    }
   },
   "id": "633673f2b9f391cd",
   "execution_count": 102
  },
  {
   "cell_type": "markdown",
   "source": [
    "Вывод: лемматризация работает по разному, pymorph предлагает несколько подходящих значений (сравнивалось наиболее близкое по его мнению). Основные отличия получились в местоимениях и именах собственных. В данном контексте (тексте) корректнее работает mystem (Кирила как Кирила, а не Кирил; род как род, а не родиться), при этом PyMorph берет точную начальную форму."
   ],
   "metadata": {
    "collapsed": false
   },
   "id": "84292c2f484be41c"
  },
  {
   "cell_type": "markdown",
   "source": [
    "Текст: Несколько лет тому назад в одном из своих поместий жил старинный русский барин, Кирила Петрович Троекуров. Его богатство, знатный род и связи давали ему большой вес в губерниях, где находилось его имение. Соседи рады были угождать малейшим его прихотям; губернские чиновники трепетали при его имени; Кирила Петрович принимал знаки подобострастия как надлежащую дань; дом его всегда был полон гостями, готовыми тешить его барскую праздность, разделяя шумные, а иногда и буйные его увеселения."
   ],
   "metadata": {
    "collapsed": false
   },
   "id": "7752ed7d6f9d677c"
  },
  {
   "cell_type": "code",
   "outputs": [],
   "source": [],
   "metadata": {
    "collapsed": false
   },
   "id": "e5a0e39345c140e0"
  }
 ],
 "metadata": {
  "kernelspec": {
   "display_name": "Python 3",
   "language": "python",
   "name": "python3"
  },
  "language_info": {
   "codemirror_mode": {
    "name": "ipython",
    "version": 2
   },
   "file_extension": ".py",
   "mimetype": "text/x-python",
   "name": "python",
   "nbconvert_exporter": "python",
   "pygments_lexer": "ipython2",
   "version": "2.7.6"
  }
 },
 "nbformat": 4,
 "nbformat_minor": 5
}
