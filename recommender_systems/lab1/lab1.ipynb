{
 "cells": [
  {
   "cell_type": "markdown",
   "source": [
    "# Содержание\n",
    "<ol>\n",
    "<li><a href='#preparing'>Подготовка данных</a></li>\n",
    "<li><a href='#settings'>Настройка параметров</a></li>\n",
    "<li><a href='#apriori'>Apriori</a></li>\n",
    "<li><a href='#eclat'>Eclat</a></li>\n",
    "<li><a href='#fpgrowth'>FP-Growth</a></li>\n",
    "<li><a href='#comparing'>Сравнение результатов</a></li>\n",
    "<li><a href='#links'>Источники</a></li>\n",
    "</ol>"
   ],
   "metadata": {
    "collapsed": false
   },
   "id": "5a394d9119cedb62"
  },
  {
   "cell_type": "code",
   "execution_count": 1,
   "outputs": [],
   "source": [
    "import time\n",
    "from collections import defaultdict\n",
    "\n",
    "import numpy as np\n",
    "import pandas as pd\n",
    "\n",
    "from mlxtend.frequent_patterns import apriori, fpgrowth\n",
    "from mlxtend.frequent_patterns import association_rules\n",
    "from pyECLAT import ECLAT, Example1, Example2"
   ],
   "metadata": {
    "collapsed": false,
    "ExecuteTime": {
     "end_time": "2023-10-05T06:37:38.316471900Z",
     "start_time": "2023-10-05T06:37:35.907569500Z"
    }
   },
   "id": "initial_id"
  },
  {
   "cell_type": "code",
   "execution_count": 33,
   "outputs": [],
   "source": [
    "def prepare_to_eclat_preprocess_df(table):\n",
    "    transactions_values = defaultdict(list)\n",
    "    columns = table.columns\n",
    "    for i, row in table.iterrows():\n",
    "        for col in columns:\n",
    "            if row[col]:\n",
    "                transactions_values[i].append(col)\n",
    "                \n",
    "    return pd.DataFrame.from_dict(transactions_values, orient='index')"
   ],
   "metadata": {
    "collapsed": false,
    "ExecuteTime": {
     "end_time": "2023-10-05T08:03:38.387730900Z",
     "start_time": "2023-10-05T08:03:38.362642100Z"
    }
   },
   "id": "7b41a5b8da39cb23"
  },
  {
   "cell_type": "markdown",
   "source": [
    "# Подготовка данных <a name='preparing'></a>\n",
    "\n",
    "Source: [basket_analysis](https://www.kaggle.com/datasets/ahmtcnbs/datasets-for-appiori/data)"
   ],
   "metadata": {
    "collapsed": false
   },
   "id": "3a9cdf2af36b9d8f"
  },
  {
   "cell_type": "code",
   "execution_count": 34,
   "outputs": [
    {
     "data": {
      "text/plain": "   Apple  Bread  Butter  Cheese   Corn   Dill   Eggs  Ice cream  Kidney Beans   \n0  False   True   False   False   True   True  False       True         False  \\\n1  False  False   False   False  False  False  False      False         False   \n2   True  False    True   False  False   True  False       True         False   \n3  False  False    True    True  False   True  False      False         False   \n4   True   True   False   False  False  False  False      False         False   \n\n    Milk  Nutmeg  Onion  Sugar  Unicorn  Yogurt  chocolate  \n0  False   False  False   True    False    True       True  \n1   True   False  False  False    False   False      False  \n2   True   False  False  False    False    True       True  \n3   True    True   True  False    False   False      False  \n4  False   False  False  False    False   False      False  ",
      "text/html": "<div>\n<style scoped>\n    .dataframe tbody tr th:only-of-type {\n        vertical-align: middle;\n    }\n\n    .dataframe tbody tr th {\n        vertical-align: top;\n    }\n\n    .dataframe thead th {\n        text-align: right;\n    }\n</style>\n<table border=\"1\" class=\"dataframe\">\n  <thead>\n    <tr style=\"text-align: right;\">\n      <th></th>\n      <th>Apple</th>\n      <th>Bread</th>\n      <th>Butter</th>\n      <th>Cheese</th>\n      <th>Corn</th>\n      <th>Dill</th>\n      <th>Eggs</th>\n      <th>Ice cream</th>\n      <th>Kidney Beans</th>\n      <th>Milk</th>\n      <th>Nutmeg</th>\n      <th>Onion</th>\n      <th>Sugar</th>\n      <th>Unicorn</th>\n      <th>Yogurt</th>\n      <th>chocolate</th>\n    </tr>\n  </thead>\n  <tbody>\n    <tr>\n      <th>0</th>\n      <td>False</td>\n      <td>True</td>\n      <td>False</td>\n      <td>False</td>\n      <td>True</td>\n      <td>True</td>\n      <td>False</td>\n      <td>True</td>\n      <td>False</td>\n      <td>False</td>\n      <td>False</td>\n      <td>False</td>\n      <td>True</td>\n      <td>False</td>\n      <td>True</td>\n      <td>True</td>\n    </tr>\n    <tr>\n      <th>1</th>\n      <td>False</td>\n      <td>False</td>\n      <td>False</td>\n      <td>False</td>\n      <td>False</td>\n      <td>False</td>\n      <td>False</td>\n      <td>False</td>\n      <td>False</td>\n      <td>True</td>\n      <td>False</td>\n      <td>False</td>\n      <td>False</td>\n      <td>False</td>\n      <td>False</td>\n      <td>False</td>\n    </tr>\n    <tr>\n      <th>2</th>\n      <td>True</td>\n      <td>False</td>\n      <td>True</td>\n      <td>False</td>\n      <td>False</td>\n      <td>True</td>\n      <td>False</td>\n      <td>True</td>\n      <td>False</td>\n      <td>True</td>\n      <td>False</td>\n      <td>False</td>\n      <td>False</td>\n      <td>False</td>\n      <td>True</td>\n      <td>True</td>\n    </tr>\n    <tr>\n      <th>3</th>\n      <td>False</td>\n      <td>False</td>\n      <td>True</td>\n      <td>True</td>\n      <td>False</td>\n      <td>True</td>\n      <td>False</td>\n      <td>False</td>\n      <td>False</td>\n      <td>True</td>\n      <td>True</td>\n      <td>True</td>\n      <td>False</td>\n      <td>False</td>\n      <td>False</td>\n      <td>False</td>\n    </tr>\n    <tr>\n      <th>4</th>\n      <td>True</td>\n      <td>True</td>\n      <td>False</td>\n      <td>False</td>\n      <td>False</td>\n      <td>False</td>\n      <td>False</td>\n      <td>False</td>\n      <td>False</td>\n      <td>False</td>\n      <td>False</td>\n      <td>False</td>\n      <td>False</td>\n      <td>False</td>\n      <td>False</td>\n      <td>False</td>\n    </tr>\n  </tbody>\n</table>\n</div>"
     },
     "execution_count": 34,
     "metadata": {},
     "output_type": "execute_result"
    }
   ],
   "source": [
    "basket_dataset = pd.read_csv('./basket_analysis.csv', index_col='Unnamed: 0')\n",
    "basket_dataset.head()"
   ],
   "metadata": {
    "collapsed": false,
    "ExecuteTime": {
     "end_time": "2023-10-05T08:03:38.916634200Z",
     "start_time": "2023-10-05T08:03:38.845454700Z"
    }
   },
   "id": "1225e2bf827234ea"
  },
  {
   "cell_type": "code",
   "execution_count": 35,
   "outputs": [
    {
     "name": "stdout",
     "output_type": "stream",
     "text": [
      "<class 'pandas.core.frame.DataFrame'>\n",
      "Index: 999 entries, 0 to 998\n",
      "Data columns (total 16 columns):\n",
      " #   Column        Non-Null Count  Dtype\n",
      "---  ------        --------------  -----\n",
      " 0   Apple         999 non-null    bool \n",
      " 1   Bread         999 non-null    bool \n",
      " 2   Butter        999 non-null    bool \n",
      " 3   Cheese        999 non-null    bool \n",
      " 4   Corn          999 non-null    bool \n",
      " 5   Dill          999 non-null    bool \n",
      " 6   Eggs          999 non-null    bool \n",
      " 7   Ice cream     999 non-null    bool \n",
      " 8   Kidney Beans  999 non-null    bool \n",
      " 9   Milk          999 non-null    bool \n",
      " 10  Nutmeg        999 non-null    bool \n",
      " 11  Onion         999 non-null    bool \n",
      " 12  Sugar         999 non-null    bool \n",
      " 13  Unicorn       999 non-null    bool \n",
      " 14  Yogurt        999 non-null    bool \n",
      " 15  chocolate     999 non-null    bool \n",
      "dtypes: bool(16)\n",
      "memory usage: 23.4 KB\n"
     ]
    }
   ],
   "source": [
    "basket_dataset.info()"
   ],
   "metadata": {
    "collapsed": false,
    "ExecuteTime": {
     "end_time": "2023-10-05T08:03:40.252143400Z",
     "start_time": "2023-10-05T08:03:40.157530Z"
    }
   },
   "id": "17dff9cd1aebce25"
  },
  {
   "cell_type": "code",
   "execution_count": 36,
   "outputs": [
    {
     "data": {
      "text/plain": "       0       1     2          3       4       5          6     7     8    \n0   Bread    Corn  Dill  Ice cream   Sugar  Yogurt  chocolate  None  None  \\\n1    Milk    None  None       None    None    None       None  None  None   \n2   Apple  Butter  Dill  Ice cream    Milk  Yogurt  chocolate  None  None   \n3  Butter  Cheese  Dill       Milk  Nutmeg   Onion       None  None  None   \n4   Apple   Bread  None       None    None    None       None  None  None   \n\n     9     10    11    12  \n0  None  None  None  None  \n1  None  None  None  None  \n2  None  None  None  None  \n3  None  None  None  None  \n4  None  None  None  None  ",
      "text/html": "<div>\n<style scoped>\n    .dataframe tbody tr th:only-of-type {\n        vertical-align: middle;\n    }\n\n    .dataframe tbody tr th {\n        vertical-align: top;\n    }\n\n    .dataframe thead th {\n        text-align: right;\n    }\n</style>\n<table border=\"1\" class=\"dataframe\">\n  <thead>\n    <tr style=\"text-align: right;\">\n      <th></th>\n      <th>0</th>\n      <th>1</th>\n      <th>2</th>\n      <th>3</th>\n      <th>4</th>\n      <th>5</th>\n      <th>6</th>\n      <th>7</th>\n      <th>8</th>\n      <th>9</th>\n      <th>10</th>\n      <th>11</th>\n      <th>12</th>\n    </tr>\n  </thead>\n  <tbody>\n    <tr>\n      <th>0</th>\n      <td>Bread</td>\n      <td>Corn</td>\n      <td>Dill</td>\n      <td>Ice cream</td>\n      <td>Sugar</td>\n      <td>Yogurt</td>\n      <td>chocolate</td>\n      <td>None</td>\n      <td>None</td>\n      <td>None</td>\n      <td>None</td>\n      <td>None</td>\n      <td>None</td>\n    </tr>\n    <tr>\n      <th>1</th>\n      <td>Milk</td>\n      <td>None</td>\n      <td>None</td>\n      <td>None</td>\n      <td>None</td>\n      <td>None</td>\n      <td>None</td>\n      <td>None</td>\n      <td>None</td>\n      <td>None</td>\n      <td>None</td>\n      <td>None</td>\n      <td>None</td>\n    </tr>\n    <tr>\n      <th>2</th>\n      <td>Apple</td>\n      <td>Butter</td>\n      <td>Dill</td>\n      <td>Ice cream</td>\n      <td>Milk</td>\n      <td>Yogurt</td>\n      <td>chocolate</td>\n      <td>None</td>\n      <td>None</td>\n      <td>None</td>\n      <td>None</td>\n      <td>None</td>\n      <td>None</td>\n    </tr>\n    <tr>\n      <th>3</th>\n      <td>Butter</td>\n      <td>Cheese</td>\n      <td>Dill</td>\n      <td>Milk</td>\n      <td>Nutmeg</td>\n      <td>Onion</td>\n      <td>None</td>\n      <td>None</td>\n      <td>None</td>\n      <td>None</td>\n      <td>None</td>\n      <td>None</td>\n      <td>None</td>\n    </tr>\n    <tr>\n      <th>4</th>\n      <td>Apple</td>\n      <td>Bread</td>\n      <td>None</td>\n      <td>None</td>\n      <td>None</td>\n      <td>None</td>\n      <td>None</td>\n      <td>None</td>\n      <td>None</td>\n      <td>None</td>\n      <td>None</td>\n      <td>None</td>\n      <td>None</td>\n    </tr>\n  </tbody>\n</table>\n</div>"
     },
     "execution_count": 36,
     "metadata": {},
     "output_type": "execute_result"
    }
   ],
   "source": [
    "basket_transactions = prepare_to_eclat_preprocess_df(basket_dataset)\n",
    "basket_transactions.head()"
   ],
   "metadata": {
    "collapsed": false,
    "ExecuteTime": {
     "end_time": "2023-10-05T08:03:42.967017400Z",
     "start_time": "2023-10-05T08:03:42.878365400Z"
    }
   },
   "id": "8b852c6ff2a2ed49"
  },
  {
   "cell_type": "markdown",
   "source": [
    "ECLAT Example"
   ],
   "metadata": {
    "collapsed": false
   },
   "id": "e6b1a8d800163aa1"
  },
  {
   "cell_type": "code",
   "execution_count": 6,
   "outputs": [],
   "source": [
    "first_test_transactions = Example1().get()\n",
    "second_test_transactions = Example2().get()"
   ],
   "metadata": {
    "collapsed": false,
    "ExecuteTime": {
     "end_time": "2023-10-05T06:37:39.306276800Z",
     "start_time": "2023-10-05T06:37:38.542083500Z"
    }
   },
   "id": "814af2ddf3cc380b"
  },
  {
   "cell_type": "markdown",
   "source": [
    "Bread table\n",
    "Source: [Bread table](https://github.com/Roh1702/Association-Mining-Rule-from-Scratch)"
   ],
   "metadata": {
    "collapsed": false
   },
   "id": "cca705da112af01a"
  },
  {
   "cell_type": "code",
   "execution_count": 7,
   "outputs": [
    {
     "data": {
      "text/plain": "         Date      Time Transaction           Item\n0  2016-10-30  09:58:11           1          Bread\n1  2016-10-30  10:05:34           2   Scandinavian\n3  2016-10-30  10:07:57           3  Hot chocolate\n4  2016-10-30  10:07:57           3            Jam\n5  2016-10-30  10:07:57           3        Cookies",
      "text/html": "<div>\n<style scoped>\n    .dataframe tbody tr th:only-of-type {\n        vertical-align: middle;\n    }\n\n    .dataframe tbody tr th {\n        vertical-align: top;\n    }\n\n    .dataframe thead th {\n        text-align: right;\n    }\n</style>\n<table border=\"1\" class=\"dataframe\">\n  <thead>\n    <tr style=\"text-align: right;\">\n      <th></th>\n      <th>Date</th>\n      <th>Time</th>\n      <th>Transaction</th>\n      <th>Item</th>\n    </tr>\n  </thead>\n  <tbody>\n    <tr>\n      <th>0</th>\n      <td>2016-10-30</td>\n      <td>09:58:11</td>\n      <td>1</td>\n      <td>Bread</td>\n    </tr>\n    <tr>\n      <th>1</th>\n      <td>2016-10-30</td>\n      <td>10:05:34</td>\n      <td>2</td>\n      <td>Scandinavian</td>\n    </tr>\n    <tr>\n      <th>3</th>\n      <td>2016-10-30</td>\n      <td>10:07:57</td>\n      <td>3</td>\n      <td>Hot chocolate</td>\n    </tr>\n    <tr>\n      <th>4</th>\n      <td>2016-10-30</td>\n      <td>10:07:57</td>\n      <td>3</td>\n      <td>Jam</td>\n    </tr>\n    <tr>\n      <th>5</th>\n      <td>2016-10-30</td>\n      <td>10:07:57</td>\n      <td>3</td>\n      <td>Cookies</td>\n    </tr>\n  </tbody>\n</table>\n</div>"
     },
     "execution_count": 7,
     "metadata": {},
     "output_type": "execute_result"
    }
   ],
   "source": [
    "bread_dataset = pd.read_excel('./raw_bread.xlsx')\n",
    "bread_dataset = bread_dataset.drop_duplicates()\n",
    "bread_dataset = bread_dataset['Date,Time,Transaction,Item'].str.split(',', n = 3, expand = True)\n",
    "bread_dataset.columns = ['Date', 'Time', 'Transaction', 'Item']\n",
    "bread_dataset.head()"
   ],
   "metadata": {
    "collapsed": false,
    "ExecuteTime": {
     "end_time": "2023-10-05T06:37:40.701473800Z",
     "start_time": "2023-10-05T06:37:39.306276800Z"
    }
   },
   "id": "3691937f29abda20"
  },
  {
   "cell_type": "code",
   "execution_count": 8,
   "outputs": [
    {
     "name": "stdout",
     "output_type": "stream",
     "text": [
      "<class 'pandas.core.frame.DataFrame'>\n",
      "Index: 9531 entries, 1 to 999\n",
      "Data columns (total 94 columns):\n",
      " #   Column                         Non-Null Count  Dtype\n",
      "---  ------                         --------------  -----\n",
      " 0   Adjustment                     9531 non-null   bool \n",
      " 1   Afternoon with the baker       9531 non-null   bool \n",
      " 2   Alfajores                      9531 non-null   bool \n",
      " 3   Argentina Night                9531 non-null   bool \n",
      " 4   Art Tray                       9531 non-null   bool \n",
      " 5   Bacon                          9531 non-null   bool \n",
      " 6   Baguette                       9531 non-null   bool \n",
      " 7   Bakewell                       9531 non-null   bool \n",
      " 8   Bare Popcorn                   9531 non-null   bool \n",
      " 9   Basket                         9531 non-null   bool \n",
      " 10  Bowl Nic Pitt                  9531 non-null   bool \n",
      " 11  Bread                          9531 non-null   bool \n",
      " 12  Bread Pudding                  9531 non-null   bool \n",
      " 13  Brioche and salami             9531 non-null   bool \n",
      " 14  Brownie                        9531 non-null   bool \n",
      " 15  Cake                           9531 non-null   bool \n",
      " 16  Caramel bites                  9531 non-null   bool \n",
      " 17  Cherry me Dried fruit          9531 non-null   bool \n",
      " 18  Chicken Stew                   9531 non-null   bool \n",
      " 19  Chicken sand                   9531 non-null   bool \n",
      " 20  Chimichurri Oil                9531 non-null   bool \n",
      " 21  Chocolates                     9531 non-null   bool \n",
      " 22  Christmas common               9531 non-null   bool \n",
      " 23  Coffee                         9531 non-null   bool \n",
      " 24  Coffee granules                9531 non-null   bool \n",
      " 25  Coke                           9531 non-null   bool \n",
      " 26  Cookies                        9531 non-null   bool \n",
      " 27  Crepes                         9531 non-null   bool \n",
      " 28  Crisps                         9531 non-null   bool \n",
      " 29  Drinking chocolate spoons      9531 non-null   bool \n",
      " 30  Duck egg                       9531 non-null   bool \n",
      " 31  Dulce de Leche                 9531 non-null   bool \n",
      " 32  Eggs                           9531 non-null   bool \n",
      " 33  Ella's Kitchen Pouches         9531 non-null   bool \n",
      " 34  Empanadas                      9531 non-null   bool \n",
      " 35  Extra Salami or Feta           9531 non-null   bool \n",
      " 36  Fairy Doors                    9531 non-null   bool \n",
      " 37  Farm House                     9531 non-null   bool \n",
      " 38  Focaccia                       9531 non-null   bool \n",
      " 39  Frittata                       9531 non-null   bool \n",
      " 40  Fudge                          9531 non-null   bool \n",
      " 41  Gift voucher                   9531 non-null   bool \n",
      " 42  Gingerbread syrup              9531 non-null   bool \n",
      " 43  Granola                        9531 non-null   bool \n",
      " 44  Hack the stack                 9531 non-null   bool \n",
      " 45  Half slice Monster             9531 non-null   bool \n",
      " 46  Hearty & Seasonal              9531 non-null   bool \n",
      " 47  Honey                          9531 non-null   bool \n",
      " 48  Hot chocolate                  9531 non-null   bool \n",
      " 49  Jam                            9531 non-null   bool \n",
      " 50  Jammie Dodgers                 9531 non-null   bool \n",
      " 51  Juice                          9531 non-null   bool \n",
      " 52  Keeping It Local               9531 non-null   bool \n",
      " 53  Kids biscuit                   9531 non-null   bool \n",
      " 54  Lemon and coconut              9531 non-null   bool \n",
      " 55  Medialuna                      9531 non-null   bool \n",
      " 56  Mighty Protein                 9531 non-null   bool \n",
      " 57  Mineral water                  9531 non-null   bool \n",
      " 58  Mortimer                       9531 non-null   bool \n",
      " 59  Muesli                         9531 non-null   bool \n",
      " 60  Muffin                         9531 non-null   bool \n",
      " 61  My-5 Fruit Shoot               9531 non-null   bool \n",
      " 62  Nomad bag                      9531 non-null   bool \n",
      " 63  Olum & polenta                 9531 non-null   bool \n",
      " 64  Panatone                       9531 non-null   bool \n",
      " 65  Pastry                         9531 non-null   bool \n",
      " 66  Pick and Mix Bowls             9531 non-null   bool \n",
      " 67  Pintxos                        9531 non-null   bool \n",
      " 68  Polenta                        9531 non-null   bool \n",
      " 69  Postcard                       9531 non-null   bool \n",
      " 70  Raspberry shortbread sandwich  9531 non-null   bool \n",
      " 71  Raw bars                       9531 non-null   bool \n",
      " 72  Salad                          9531 non-null   bool \n",
      " 73  Sandwich                       9531 non-null   bool \n",
      " 74  Scandinavian                   9531 non-null   bool \n",
      " 75  Scone                          9531 non-null   bool \n",
      " 76  Siblings                       9531 non-null   bool \n",
      " 77  Smoothies                      9531 non-null   bool \n",
      " 78  Soup                           9531 non-null   bool \n",
      " 79  Spanish Brunch                 9531 non-null   bool \n",
      " 80  Spread                         9531 non-null   bool \n",
      " 81  Tacos/Fajita                   9531 non-null   bool \n",
      " 82  Tartine                        9531 non-null   bool \n",
      " 83  Tea                            9531 non-null   bool \n",
      " 84  The BART                       9531 non-null   bool \n",
      " 85  The Nomad                      9531 non-null   bool \n",
      " 86  Tiffin                         9531 non-null   bool \n",
      " 87  Toast                          9531 non-null   bool \n",
      " 88  Truffles                       9531 non-null   bool \n",
      " 89  Tshirt                         9531 non-null   bool \n",
      " 90  Valentine's card               9531 non-null   bool \n",
      " 91  Vegan Feast                    9531 non-null   bool \n",
      " 92  Vegan mincepie                 9531 non-null   bool \n",
      " 93  Victorian Sponge               9531 non-null   bool \n",
      "dtypes: bool(94)\n",
      "memory usage: 949.4+ KB\n"
     ]
    }
   ],
   "source": [
    "bread_dataset = pd.crosstab(index= bread_dataset['Transaction'], columns= bread_dataset['Item']).astype(bool)\n",
    "bread_dataset = bread_dataset.drop(['NONE'], axis = 1)\n",
    "bread_dataset.info()"
   ],
   "metadata": {
    "collapsed": false,
    "ExecuteTime": {
     "end_time": "2023-10-05T06:37:41.224585700Z",
     "start_time": "2023-10-05T06:37:40.685880800Z"
    }
   },
   "id": "55e559dbf3fec9b8"
  },
  {
   "cell_type": "code",
   "execution_count": 9,
   "outputs": [
    {
     "data": {
      "text/plain": "Item         Adjustment  Afternoon with the baker  Alfajores  Argentina Night   \nTransaction                                                                     \n1                 False                     False      False            False  \\\n10                False                     False      False            False   \n100               False                     False      False            False   \n1000              False                     False      False            False   \n1001              False                     False      False            False   \n\nItem         Art Tray  Bacon  Baguette  Bakewell  Bare Popcorn  Basket  ...   \nTransaction                                                             ...   \n1               False  False     False     False         False   False  ...  \\\n10              False  False     False     False         False   False  ...   \n100             False  False     False     False         False   False  ...   \n1000            False  False     False     False         False   False  ...   \n1001            False  False     False     False         False   False  ...   \n\nItem         The BART  The Nomad  Tiffin  Toast  Truffles  Tshirt   \nTransaction                                                         \n1               False      False   False  False     False   False  \\\n10              False      False   False  False     False   False   \n100             False      False   False  False     False   False   \n1000            False      False   False  False     False   False   \n1001            False      False   False  False      True   False   \n\nItem         Valentine's card  Vegan Feast  Vegan mincepie  Victorian Sponge  \nTransaction                                                                   \n1                       False        False           False             False  \n10                      False        False           False             False  \n100                     False        False           False             False  \n1000                    False        False           False             False  \n1001                    False        False           False             False  \n\n[5 rows x 94 columns]",
      "text/html": "<div>\n<style scoped>\n    .dataframe tbody tr th:only-of-type {\n        vertical-align: middle;\n    }\n\n    .dataframe tbody tr th {\n        vertical-align: top;\n    }\n\n    .dataframe thead th {\n        text-align: right;\n    }\n</style>\n<table border=\"1\" class=\"dataframe\">\n  <thead>\n    <tr style=\"text-align: right;\">\n      <th>Item</th>\n      <th>Adjustment</th>\n      <th>Afternoon with the baker</th>\n      <th>Alfajores</th>\n      <th>Argentina Night</th>\n      <th>Art Tray</th>\n      <th>Bacon</th>\n      <th>Baguette</th>\n      <th>Bakewell</th>\n      <th>Bare Popcorn</th>\n      <th>Basket</th>\n      <th>...</th>\n      <th>The BART</th>\n      <th>The Nomad</th>\n      <th>Tiffin</th>\n      <th>Toast</th>\n      <th>Truffles</th>\n      <th>Tshirt</th>\n      <th>Valentine's card</th>\n      <th>Vegan Feast</th>\n      <th>Vegan mincepie</th>\n      <th>Victorian Sponge</th>\n    </tr>\n    <tr>\n      <th>Transaction</th>\n      <th></th>\n      <th></th>\n      <th></th>\n      <th></th>\n      <th></th>\n      <th></th>\n      <th></th>\n      <th></th>\n      <th></th>\n      <th></th>\n      <th></th>\n      <th></th>\n      <th></th>\n      <th></th>\n      <th></th>\n      <th></th>\n      <th></th>\n      <th></th>\n      <th></th>\n      <th></th>\n      <th></th>\n    </tr>\n  </thead>\n  <tbody>\n    <tr>\n      <th>1</th>\n      <td>False</td>\n      <td>False</td>\n      <td>False</td>\n      <td>False</td>\n      <td>False</td>\n      <td>False</td>\n      <td>False</td>\n      <td>False</td>\n      <td>False</td>\n      <td>False</td>\n      <td>...</td>\n      <td>False</td>\n      <td>False</td>\n      <td>False</td>\n      <td>False</td>\n      <td>False</td>\n      <td>False</td>\n      <td>False</td>\n      <td>False</td>\n      <td>False</td>\n      <td>False</td>\n    </tr>\n    <tr>\n      <th>10</th>\n      <td>False</td>\n      <td>False</td>\n      <td>False</td>\n      <td>False</td>\n      <td>False</td>\n      <td>False</td>\n      <td>False</td>\n      <td>False</td>\n      <td>False</td>\n      <td>False</td>\n      <td>...</td>\n      <td>False</td>\n      <td>False</td>\n      <td>False</td>\n      <td>False</td>\n      <td>False</td>\n      <td>False</td>\n      <td>False</td>\n      <td>False</td>\n      <td>False</td>\n      <td>False</td>\n    </tr>\n    <tr>\n      <th>100</th>\n      <td>False</td>\n      <td>False</td>\n      <td>False</td>\n      <td>False</td>\n      <td>False</td>\n      <td>False</td>\n      <td>False</td>\n      <td>False</td>\n      <td>False</td>\n      <td>False</td>\n      <td>...</td>\n      <td>False</td>\n      <td>False</td>\n      <td>False</td>\n      <td>False</td>\n      <td>False</td>\n      <td>False</td>\n      <td>False</td>\n      <td>False</td>\n      <td>False</td>\n      <td>False</td>\n    </tr>\n    <tr>\n      <th>1000</th>\n      <td>False</td>\n      <td>False</td>\n      <td>False</td>\n      <td>False</td>\n      <td>False</td>\n      <td>False</td>\n      <td>False</td>\n      <td>False</td>\n      <td>False</td>\n      <td>False</td>\n      <td>...</td>\n      <td>False</td>\n      <td>False</td>\n      <td>False</td>\n      <td>False</td>\n      <td>False</td>\n      <td>False</td>\n      <td>False</td>\n      <td>False</td>\n      <td>False</td>\n      <td>False</td>\n    </tr>\n    <tr>\n      <th>1001</th>\n      <td>False</td>\n      <td>False</td>\n      <td>False</td>\n      <td>False</td>\n      <td>False</td>\n      <td>False</td>\n      <td>False</td>\n      <td>False</td>\n      <td>False</td>\n      <td>False</td>\n      <td>...</td>\n      <td>False</td>\n      <td>False</td>\n      <td>False</td>\n      <td>False</td>\n      <td>True</td>\n      <td>False</td>\n      <td>False</td>\n      <td>False</td>\n      <td>False</td>\n      <td>False</td>\n    </tr>\n  </tbody>\n</table>\n<p>5 rows × 94 columns</p>\n</div>"
     },
     "execution_count": 9,
     "metadata": {},
     "output_type": "execute_result"
    }
   ],
   "source": [
    "bread_dataset.head()"
   ],
   "metadata": {
    "collapsed": false,
    "ExecuteTime": {
     "end_time": "2023-10-05T06:37:41.375338300Z",
     "start_time": "2023-10-05T06:37:41.224585700Z"
    }
   },
   "id": "70d6c7456760dcdc"
  },
  {
   "cell_type": "code",
   "execution_count": 10,
   "outputs": [
    {
     "data": {
      "text/plain": "                 0             1     2     3     4     5     6     7     8   \n0            Bread          None  None  None  None  None  None  None  None  \\\n1        Medialuna  Scandinavian  None  None  None  None  None  None  None   \n2            Bread          None  None  None  None  None  None  None  None   \n3  Chimichurri Oil  Scandinavian  None  None  None  None  None  None  None   \n4            Bread      Truffles  None  None  None  None  None  None  None   \n\n      9  \n0  None  \n1  None  \n2  None  \n3  None  \n4  None  ",
      "text/html": "<div>\n<style scoped>\n    .dataframe tbody tr th:only-of-type {\n        vertical-align: middle;\n    }\n\n    .dataframe tbody tr th {\n        vertical-align: top;\n    }\n\n    .dataframe thead th {\n        text-align: right;\n    }\n</style>\n<table border=\"1\" class=\"dataframe\">\n  <thead>\n    <tr style=\"text-align: right;\">\n      <th></th>\n      <th>0</th>\n      <th>1</th>\n      <th>2</th>\n      <th>3</th>\n      <th>4</th>\n      <th>5</th>\n      <th>6</th>\n      <th>7</th>\n      <th>8</th>\n      <th>9</th>\n    </tr>\n  </thead>\n  <tbody>\n    <tr>\n      <th>0</th>\n      <td>Bread</td>\n      <td>None</td>\n      <td>None</td>\n      <td>None</td>\n      <td>None</td>\n      <td>None</td>\n      <td>None</td>\n      <td>None</td>\n      <td>None</td>\n      <td>None</td>\n    </tr>\n    <tr>\n      <th>1</th>\n      <td>Medialuna</td>\n      <td>Scandinavian</td>\n      <td>None</td>\n      <td>None</td>\n      <td>None</td>\n      <td>None</td>\n      <td>None</td>\n      <td>None</td>\n      <td>None</td>\n      <td>None</td>\n    </tr>\n    <tr>\n      <th>2</th>\n      <td>Bread</td>\n      <td>None</td>\n      <td>None</td>\n      <td>None</td>\n      <td>None</td>\n      <td>None</td>\n      <td>None</td>\n      <td>None</td>\n      <td>None</td>\n      <td>None</td>\n    </tr>\n    <tr>\n      <th>3</th>\n      <td>Chimichurri Oil</td>\n      <td>Scandinavian</td>\n      <td>None</td>\n      <td>None</td>\n      <td>None</td>\n      <td>None</td>\n      <td>None</td>\n      <td>None</td>\n      <td>None</td>\n      <td>None</td>\n    </tr>\n    <tr>\n      <th>4</th>\n      <td>Bread</td>\n      <td>Truffles</td>\n      <td>None</td>\n      <td>None</td>\n      <td>None</td>\n      <td>None</td>\n      <td>None</td>\n      <td>None</td>\n      <td>None</td>\n      <td>None</td>\n    </tr>\n  </tbody>\n</table>\n</div>"
     },
     "execution_count": 10,
     "metadata": {},
     "output_type": "execute_result"
    }
   ],
   "source": [
    "bread_transactions = prepare_to_eclat_preprocess_df(bread_dataset)\n",
    "bread_transactions.index = list(range(len(bread_transactions)))\n",
    "bread_transactions.head()"
   ],
   "metadata": {
    "collapsed": false,
    "ExecuteTime": {
     "end_time": "2023-10-05T06:37:44.090592Z",
     "start_time": "2023-10-05T06:37:41.255880400Z"
    }
   },
   "id": "87990e828c628c74"
  },
  {
   "cell_type": "markdown",
   "source": [
    "Init Eclat"
   ],
   "metadata": {
    "collapsed": false
   },
   "id": "e98b161c1b6377d"
  },
  {
   "cell_type": "code",
   "execution_count": 37,
   "outputs": [],
   "source": [
    "test_dataframe = basket_transactions  # choose *_transactions"
   ],
   "metadata": {
    "collapsed": false,
    "ExecuteTime": {
     "end_time": "2023-10-05T08:03:56.396800600Z",
     "start_time": "2023-10-05T08:03:56.345285400Z"
    }
   },
   "id": "dfa256cd16aa27d6"
  },
  {
   "cell_type": "code",
   "execution_count": 38,
   "outputs": [
    {
     "data": {
      "text/plain": "   Apple  Bread  Butter  Cheese   Corn   Dill   Eggs  Ice cream  Kidney Beans   \n0  False   True   False   False   True   True  False       True         False  \\\n1  False  False   False   False  False  False  False      False         False   \n2   True  False    True   False  False   True  False       True         False   \n3  False  False    True    True  False   True  False      False         False   \n4   True   True   False   False  False  False  False      False         False   \n\n    Milk  Nutmeg  Onion  Sugar  Unicorn  Yogurt  chocolate  \n0  False   False  False   True    False    True       True  \n1   True   False  False  False    False   False      False  \n2   True   False  False  False    False    True       True  \n3   True    True   True  False    False   False      False  \n4  False   False  False  False    False   False      False  ",
      "text/html": "<div>\n<style scoped>\n    .dataframe tbody tr th:only-of-type {\n        vertical-align: middle;\n    }\n\n    .dataframe tbody tr th {\n        vertical-align: top;\n    }\n\n    .dataframe thead th {\n        text-align: right;\n    }\n</style>\n<table border=\"1\" class=\"dataframe\">\n  <thead>\n    <tr style=\"text-align: right;\">\n      <th></th>\n      <th>Apple</th>\n      <th>Bread</th>\n      <th>Butter</th>\n      <th>Cheese</th>\n      <th>Corn</th>\n      <th>Dill</th>\n      <th>Eggs</th>\n      <th>Ice cream</th>\n      <th>Kidney Beans</th>\n      <th>Milk</th>\n      <th>Nutmeg</th>\n      <th>Onion</th>\n      <th>Sugar</th>\n      <th>Unicorn</th>\n      <th>Yogurt</th>\n      <th>chocolate</th>\n    </tr>\n  </thead>\n  <tbody>\n    <tr>\n      <th>0</th>\n      <td>False</td>\n      <td>True</td>\n      <td>False</td>\n      <td>False</td>\n      <td>True</td>\n      <td>True</td>\n      <td>False</td>\n      <td>True</td>\n      <td>False</td>\n      <td>False</td>\n      <td>False</td>\n      <td>False</td>\n      <td>True</td>\n      <td>False</td>\n      <td>True</td>\n      <td>True</td>\n    </tr>\n    <tr>\n      <th>1</th>\n      <td>False</td>\n      <td>False</td>\n      <td>False</td>\n      <td>False</td>\n      <td>False</td>\n      <td>False</td>\n      <td>False</td>\n      <td>False</td>\n      <td>False</td>\n      <td>True</td>\n      <td>False</td>\n      <td>False</td>\n      <td>False</td>\n      <td>False</td>\n      <td>False</td>\n      <td>False</td>\n    </tr>\n    <tr>\n      <th>2</th>\n      <td>True</td>\n      <td>False</td>\n      <td>True</td>\n      <td>False</td>\n      <td>False</td>\n      <td>True</td>\n      <td>False</td>\n      <td>True</td>\n      <td>False</td>\n      <td>True</td>\n      <td>False</td>\n      <td>False</td>\n      <td>False</td>\n      <td>False</td>\n      <td>True</td>\n      <td>True</td>\n    </tr>\n    <tr>\n      <th>3</th>\n      <td>False</td>\n      <td>False</td>\n      <td>True</td>\n      <td>True</td>\n      <td>False</td>\n      <td>True</td>\n      <td>False</td>\n      <td>False</td>\n      <td>False</td>\n      <td>True</td>\n      <td>True</td>\n      <td>True</td>\n      <td>False</td>\n      <td>False</td>\n      <td>False</td>\n      <td>False</td>\n    </tr>\n    <tr>\n      <th>4</th>\n      <td>True</td>\n      <td>True</td>\n      <td>False</td>\n      <td>False</td>\n      <td>False</td>\n      <td>False</td>\n      <td>False</td>\n      <td>False</td>\n      <td>False</td>\n      <td>False</td>\n      <td>False</td>\n      <td>False</td>\n      <td>False</td>\n      <td>False</td>\n      <td>False</td>\n      <td>False</td>\n    </tr>\n  </tbody>\n</table>\n</div>"
     },
     "execution_count": 38,
     "metadata": {},
     "output_type": "execute_result"
    }
   ],
   "source": [
    "eclat_inst = ECLAT(test_dataframe)\n",
    "test_dataframe = eclat_inst.df_bin.astype(bool).drop([None], axis=1, errors='ignore')\n",
    "eclat_inst.df_bin = test_dataframe\n",
    "columns = sorted(test_dataframe.columns)\n",
    "test_dataframe = test_dataframe[columns]\n",
    "test_dataframe.head()"
   ],
   "metadata": {
    "collapsed": false,
    "ExecuteTime": {
     "end_time": "2023-10-05T08:03:57.019078800Z",
     "start_time": "2023-10-05T08:03:56.837778800Z"
    }
   },
   "id": "100d7d0d4c4420a"
  },
  {
   "cell_type": "markdown",
   "source": [
    "# Settings <a name='settings'></a>"
   ],
   "metadata": {
    "collapsed": false
   },
   "id": "7a5cb42802feca0"
  },
  {
   "cell_type": "code",
   "execution_count": 39,
   "outputs": [],
   "source": [
    "min_support = 0.15\n",
    "metric = 'lift'\n",
    "min_threshold = 0.5"
   ],
   "metadata": {
    "collapsed": false,
    "ExecuteTime": {
     "end_time": "2023-10-05T08:04:07.762404700Z",
     "start_time": "2023-10-05T08:04:07.734460Z"
    }
   },
   "id": "2843791b09fe7721"
  },
  {
   "cell_type": "markdown",
   "source": [
    "# Apriori <a name='apriori'></a>\n",
    "\n",
    "Source: [rasbt/mlxtend](https://github.com/rasbt/mlxtend)\n",
    "*Alternative: [ymoch/apyori](https://github.com/ymoch/apyori)*"
   ],
   "metadata": {
    "collapsed": false
   },
   "id": "167ae078ec339811"
  },
  {
   "cell_type": "code",
   "execution_count": 40,
   "outputs": [],
   "source": [
    "def get_apriori_itemsets(data, min_supp=0.15, use_colnames=True):\n",
    "    return apriori(data, min_support=min_supp, use_colnames=use_colnames)"
   ],
   "metadata": {
    "collapsed": false,
    "ExecuteTime": {
     "end_time": "2023-10-05T08:04:13.780742300Z",
     "start_time": "2023-10-05T08:04:13.727521200Z"
    }
   },
   "id": "4b8aead556667ff3"
  },
  {
   "cell_type": "code",
   "execution_count": 240,
   "outputs": [
    {
     "name": "stdout",
     "output_type": "stream",
     "text": [
      "4.96 ms ± 141 µs per loop (mean ± std. dev. of 7 runs, 100 loops each)\n"
     ]
    }
   ],
   "source": [
    "%timeit get_apriori_itemsets(basket_dataset)"
   ],
   "metadata": {
    "collapsed": false,
    "ExecuteTime": {
     "end_time": "2023-10-03T10:52:30.423169800Z",
     "start_time": "2023-10-03T10:52:26.041365600Z"
    }
   },
   "id": "432937b165a85461"
  },
  {
   "cell_type": "code",
   "execution_count": 43,
   "outputs": [
    {
     "data": {
      "text/plain": "      support                      itemsets\n15   0.421421                   (chocolate)\n2    0.420420                      (Butter)\n14   0.420420                      (Yogurt)\n7    0.410410                   (Ice cream)\n12   0.409409                       (Sugar)\n..        ...                           ...\n136  0.100100        (Sugar, Apple, Butter)\n155  0.100100       (Cheese, Nutmeg, Onion)\n149  0.100100      (Yogurt, Nutmeg, Butter)\n166  0.100100  (Milk, Nutmeg, Kidney Beans)\n143  0.100100  (Unicorn, Ice cream, Butter)\n\n[169 rows x 2 columns]",
      "text/html": "<div>\n<style scoped>\n    .dataframe tbody tr th:only-of-type {\n        vertical-align: middle;\n    }\n\n    .dataframe tbody tr th {\n        vertical-align: top;\n    }\n\n    .dataframe thead th {\n        text-align: right;\n    }\n</style>\n<table border=\"1\" class=\"dataframe\">\n  <thead>\n    <tr style=\"text-align: right;\">\n      <th></th>\n      <th>support</th>\n      <th>itemsets</th>\n    </tr>\n  </thead>\n  <tbody>\n    <tr>\n      <th>15</th>\n      <td>0.421421</td>\n      <td>(chocolate)</td>\n    </tr>\n    <tr>\n      <th>2</th>\n      <td>0.420420</td>\n      <td>(Butter)</td>\n    </tr>\n    <tr>\n      <th>14</th>\n      <td>0.420420</td>\n      <td>(Yogurt)</td>\n    </tr>\n    <tr>\n      <th>7</th>\n      <td>0.410410</td>\n      <td>(Ice cream)</td>\n    </tr>\n    <tr>\n      <th>12</th>\n      <td>0.409409</td>\n      <td>(Sugar)</td>\n    </tr>\n    <tr>\n      <th>...</th>\n      <td>...</td>\n      <td>...</td>\n    </tr>\n    <tr>\n      <th>136</th>\n      <td>0.100100</td>\n      <td>(Sugar, Apple, Butter)</td>\n    </tr>\n    <tr>\n      <th>155</th>\n      <td>0.100100</td>\n      <td>(Cheese, Nutmeg, Onion)</td>\n    </tr>\n    <tr>\n      <th>149</th>\n      <td>0.100100</td>\n      <td>(Yogurt, Nutmeg, Butter)</td>\n    </tr>\n    <tr>\n      <th>166</th>\n      <td>0.100100</td>\n      <td>(Milk, Nutmeg, Kidney Beans)</td>\n    </tr>\n    <tr>\n      <th>143</th>\n      <td>0.100100</td>\n      <td>(Unicorn, Ice cream, Butter)</td>\n    </tr>\n  </tbody>\n</table>\n<p>169 rows × 2 columns</p>\n</div>"
     },
     "execution_count": 43,
     "metadata": {},
     "output_type": "execute_result"
    }
   ],
   "source": [
    "apriori_itemsets = get_apriori_itemsets(test_dataframe, min_supp=0.1)\n",
    "apriori_itemsets.sort_values(by='support', ascending=False)"
   ],
   "metadata": {
    "collapsed": false,
    "ExecuteTime": {
     "end_time": "2023-10-05T08:05:15.687558500Z",
     "start_time": "2023-10-05T08:05:15.632076100Z"
    }
   },
   "id": "9e8cb5e5ec64745a"
  },
  {
   "cell_type": "markdown",
   "source": [
    "# Eclat <a name='eclat'></a>\n",
    "\n",
    "Source: [pyECLAT](https://github.com/jeffrichardchemistry/pyECLAT)\n",
    "[Использование вместе с mlxtend](https://github.com/rasbt/mlxtend/discussions/959)"
   ],
   "metadata": {
    "collapsed": false
   },
   "id": "b63e2ae6014f676f"
  },
  {
   "cell_type": "code",
   "execution_count": 18,
   "outputs": [],
   "source": [
    "def get_eclat_support(eclat_instance: ECLAT, min_supp=0.15):\n",
    "    _, ECLAT_supports_list = eclat_instance.fit(min_support=min_supp, verbose=False)\n",
    "    return ECLAT_supports_list"
   ],
   "metadata": {
    "collapsed": false,
    "ExecuteTime": {
     "end_time": "2023-10-05T06:39:11.826964400Z",
     "start_time": "2023-10-05T06:39:11.800800100Z"
    }
   },
   "id": "cebbc531c5c8c5c2"
  },
  {
   "cell_type": "code",
   "execution_count": 138,
   "outputs": [
    {
     "name": "stdout",
     "output_type": "stream",
     "text": [
      "1.98 s ± 296 ms per loop (mean ± std. dev. of 7 runs, 1 loop each)\n"
     ]
    }
   ],
   "source": [
    "%timeit get_eclat_support(eclat_inst)"
   ],
   "metadata": {
    "collapsed": false,
    "ExecuteTime": {
     "end_time": "2023-10-03T09:57:05.279022600Z",
     "start_time": "2023-10-03T09:56:49.107651200Z"
    }
   },
   "id": "3e84efb2823aaa09"
  },
  {
   "cell_type": "code",
   "execution_count": 19,
   "outputs": [
    {
     "data": {
      "text/plain": "             itemsets   support\n14          chocolate  0.421421\n2              Yogurt  0.420420\n15             Butter  0.420420\n9           Ice cream  0.410410\n0               Sugar  0.409409\n..                ...       ...\n105      Eggs & Bread  0.157157\n72        Dill & Eggs  0.157157\n101  Eggs & Ice cream  0.157157\n102      Eggs & Apple  0.156156\n123     Apple & Bread  0.154154\n\n[136 rows x 2 columns]",
      "text/html": "<div>\n<style scoped>\n    .dataframe tbody tr th:only-of-type {\n        vertical-align: middle;\n    }\n\n    .dataframe tbody tr th {\n        vertical-align: top;\n    }\n\n    .dataframe thead th {\n        text-align: right;\n    }\n</style>\n<table border=\"1\" class=\"dataframe\">\n  <thead>\n    <tr style=\"text-align: right;\">\n      <th></th>\n      <th>itemsets</th>\n      <th>support</th>\n    </tr>\n  </thead>\n  <tbody>\n    <tr>\n      <th>14</th>\n      <td>chocolate</td>\n      <td>0.421421</td>\n    </tr>\n    <tr>\n      <th>2</th>\n      <td>Yogurt</td>\n      <td>0.420420</td>\n    </tr>\n    <tr>\n      <th>15</th>\n      <td>Butter</td>\n      <td>0.420420</td>\n    </tr>\n    <tr>\n      <th>9</th>\n      <td>Ice cream</td>\n      <td>0.410410</td>\n    </tr>\n    <tr>\n      <th>0</th>\n      <td>Sugar</td>\n      <td>0.409409</td>\n    </tr>\n    <tr>\n      <th>...</th>\n      <td>...</td>\n      <td>...</td>\n    </tr>\n    <tr>\n      <th>105</th>\n      <td>Eggs &amp; Bread</td>\n      <td>0.157157</td>\n    </tr>\n    <tr>\n      <th>72</th>\n      <td>Dill &amp; Eggs</td>\n      <td>0.157157</td>\n    </tr>\n    <tr>\n      <th>101</th>\n      <td>Eggs &amp; Ice cream</td>\n      <td>0.157157</td>\n    </tr>\n    <tr>\n      <th>102</th>\n      <td>Eggs &amp; Apple</td>\n      <td>0.156156</td>\n    </tr>\n    <tr>\n      <th>123</th>\n      <td>Apple &amp; Bread</td>\n      <td>0.154154</td>\n    </tr>\n  </tbody>\n</table>\n<p>136 rows × 2 columns</p>\n</div>"
     },
     "execution_count": 19,
     "metadata": {},
     "output_type": "execute_result"
    }
   ],
   "source": [
    "ECLAT_supports_list = get_eclat_support(eclat_inst, min_supp=min_support)\n",
    "eclat_itemsets = pd.DataFrame(ECLAT_supports_list.items(), columns=['itemsets', 'support'])\n",
    "eclat_itemsets.sort_values(by='support', ascending=False)"
   ],
   "metadata": {
    "collapsed": false,
    "ExecuteTime": {
     "end_time": "2023-10-05T06:39:29.306180500Z",
     "start_time": "2023-10-05T06:39:26.886532600Z"
    }
   },
   "id": "86c91b1e309038f0"
  },
  {
   "cell_type": "code",
   "execution_count": 20,
   "outputs": [
    {
     "data": {
      "text/plain": "              itemsets   support\n14        (chocolate,)  0.421421\n2            (Yogurt,)  0.420420\n15           (Butter,)  0.420420\n9         (Ice cream,)  0.410410\n0             (Sugar,)  0.409409\n..                 ...       ...\n105      (Eggs, Bread)  0.157157\n72        (Dill, Eggs)  0.157157\n101  (Eggs, Ice cream)  0.157157\n102      (Eggs, Apple)  0.156156\n123     (Apple, Bread)  0.154154\n\n[136 rows x 2 columns]",
      "text/html": "<div>\n<style scoped>\n    .dataframe tbody tr th:only-of-type {\n        vertical-align: middle;\n    }\n\n    .dataframe tbody tr th {\n        vertical-align: top;\n    }\n\n    .dataframe thead th {\n        text-align: right;\n    }\n</style>\n<table border=\"1\" class=\"dataframe\">\n  <thead>\n    <tr style=\"text-align: right;\">\n      <th></th>\n      <th>itemsets</th>\n      <th>support</th>\n    </tr>\n  </thead>\n  <tbody>\n    <tr>\n      <th>14</th>\n      <td>(chocolate,)</td>\n      <td>0.421421</td>\n    </tr>\n    <tr>\n      <th>2</th>\n      <td>(Yogurt,)</td>\n      <td>0.420420</td>\n    </tr>\n    <tr>\n      <th>15</th>\n      <td>(Butter,)</td>\n      <td>0.420420</td>\n    </tr>\n    <tr>\n      <th>9</th>\n      <td>(Ice cream,)</td>\n      <td>0.410410</td>\n    </tr>\n    <tr>\n      <th>0</th>\n      <td>(Sugar,)</td>\n      <td>0.409409</td>\n    </tr>\n    <tr>\n      <th>...</th>\n      <td>...</td>\n      <td>...</td>\n    </tr>\n    <tr>\n      <th>105</th>\n      <td>(Eggs, Bread)</td>\n      <td>0.157157</td>\n    </tr>\n    <tr>\n      <th>72</th>\n      <td>(Dill, Eggs)</td>\n      <td>0.157157</td>\n    </tr>\n    <tr>\n      <th>101</th>\n      <td>(Eggs, Ice cream)</td>\n      <td>0.157157</td>\n    </tr>\n    <tr>\n      <th>102</th>\n      <td>(Eggs, Apple)</td>\n      <td>0.156156</td>\n    </tr>\n    <tr>\n      <th>123</th>\n      <td>(Apple, Bread)</td>\n      <td>0.154154</td>\n    </tr>\n  </tbody>\n</table>\n<p>136 rows × 2 columns</p>\n</div>"
     },
     "execution_count": 20,
     "metadata": {},
     "output_type": "execute_result"
    }
   ],
   "source": [
    "eclat_itemsets['itemsets'] = eclat_itemsets['itemsets'].map(lambda row: tuple(i.strip() for i in row.split('&')))\n",
    "eclat_itemsets.sort_values(by='support', ascending=False)"
   ],
   "metadata": {
    "collapsed": false,
    "ExecuteTime": {
     "end_time": "2023-10-05T06:39:42.068753100Z",
     "start_time": "2023-10-05T06:39:41.980058700Z"
    }
   },
   "id": "3b36149b24631e33"
  },
  {
   "cell_type": "markdown",
   "source": [
    "# FP-Growth <a name='fpgrowth'></a>\n",
    "\n",
    "Source: [rasbt/mlxtend](https://github.com/rasbt/mlxtend)"
   ],
   "metadata": {
    "collapsed": false
   },
   "id": "a14de86bdd433321"
  },
  {
   "cell_type": "code",
   "execution_count": 21,
   "outputs": [],
   "source": [
    "def get_fpgrowth_itemsets(data, min_supp=0.15, use_colnames=True):\n",
    "    return fpgrowth(data, min_support=min_supp, use_colnames=use_colnames)"
   ],
   "metadata": {
    "collapsed": false,
    "ExecuteTime": {
     "end_time": "2023-10-05T06:39:52.508518100Z",
     "start_time": "2023-10-05T06:39:52.492932400Z"
    }
   },
   "id": "ff1631ea3f180e45"
  },
  {
   "cell_type": "code",
   "execution_count": 22,
   "outputs": [
    {
     "name": "stdout",
     "output_type": "stream",
     "text": [
      "52.9 ms ± 17.6 ms per loop (mean ± std. dev. of 7 runs, 10 loops each)\n"
     ]
    }
   ],
   "source": [
    "%timeit get_fpgrowth_itemsets(basket_dataset)"
   ],
   "metadata": {
    "collapsed": false,
    "ExecuteTime": {
     "end_time": "2023-10-05T06:39:58.413060100Z",
     "start_time": "2023-10-05T06:39:53.061599700Z"
    }
   },
   "id": "5de1a14339ad322"
  },
  {
   "cell_type": "code",
   "execution_count": 24,
   "outputs": [
    {
     "data": {
      "text/plain": "      support           itemsets\n0    0.421421        (chocolate)\n8    0.420420           (Butter)\n1    0.420420           (Yogurt)\n2    0.410410        (Ice cream)\n3    0.409409            (Sugar)\n..        ...                ...\n129  0.157157  (Eggs, Ice cream)\n52   0.157157      (Bread, Eggs)\n135  0.157157       (Eggs, Dill)\n75   0.156156      (Eggs, Apple)\n70   0.154154     (Bread, Apple)\n\n[136 rows x 2 columns]",
      "text/html": "<div>\n<style scoped>\n    .dataframe tbody tr th:only-of-type {\n        vertical-align: middle;\n    }\n\n    .dataframe tbody tr th {\n        vertical-align: top;\n    }\n\n    .dataframe thead th {\n        text-align: right;\n    }\n</style>\n<table border=\"1\" class=\"dataframe\">\n  <thead>\n    <tr style=\"text-align: right;\">\n      <th></th>\n      <th>support</th>\n      <th>itemsets</th>\n    </tr>\n  </thead>\n  <tbody>\n    <tr>\n      <th>0</th>\n      <td>0.421421</td>\n      <td>(chocolate)</td>\n    </tr>\n    <tr>\n      <th>8</th>\n      <td>0.420420</td>\n      <td>(Butter)</td>\n    </tr>\n    <tr>\n      <th>1</th>\n      <td>0.420420</td>\n      <td>(Yogurt)</td>\n    </tr>\n    <tr>\n      <th>2</th>\n      <td>0.410410</td>\n      <td>(Ice cream)</td>\n    </tr>\n    <tr>\n      <th>3</th>\n      <td>0.409409</td>\n      <td>(Sugar)</td>\n    </tr>\n    <tr>\n      <th>...</th>\n      <td>...</td>\n      <td>...</td>\n    </tr>\n    <tr>\n      <th>129</th>\n      <td>0.157157</td>\n      <td>(Eggs, Ice cream)</td>\n    </tr>\n    <tr>\n      <th>52</th>\n      <td>0.157157</td>\n      <td>(Bread, Eggs)</td>\n    </tr>\n    <tr>\n      <th>135</th>\n      <td>0.157157</td>\n      <td>(Eggs, Dill)</td>\n    </tr>\n    <tr>\n      <th>75</th>\n      <td>0.156156</td>\n      <td>(Eggs, Apple)</td>\n    </tr>\n    <tr>\n      <th>70</th>\n      <td>0.154154</td>\n      <td>(Bread, Apple)</td>\n    </tr>\n  </tbody>\n</table>\n<p>136 rows × 2 columns</p>\n</div>"
     },
     "execution_count": 24,
     "metadata": {},
     "output_type": "execute_result"
    }
   ],
   "source": [
    "fpgrowth_itemsets = get_fpgrowth_itemsets(test_dataframe, min_supp=min_support)\n",
    "fpgrowth_itemsets.sort_values(by='support', ascending=False)"
   ],
   "metadata": {
    "collapsed": false,
    "ExecuteTime": {
     "end_time": "2023-10-05T06:40:16.617243900Z",
     "start_time": "2023-10-05T06:40:16.438488200Z"
    }
   },
   "id": "7a4addc73bd6f40a"
  },
  {
   "cell_type": "markdown",
   "source": [
    "# Сравнение результатов (Algorithm -- Time) <a name='comparing'></a>"
   ],
   "metadata": {
    "collapsed": false
   },
   "id": "7ce458b7c88954bd"
  },
  {
   "cell_type": "markdown",
   "source": [
    "| Algorithm\\Dataset | basket_analysis   | Example 1         | Example 2          | Bread table       |\n",
    "|-------------------|-------------------|-------------------|--------------------|-------------------|\n",
    "| Apriori           | 6.30 ms ± 1.25 ms | 8.01 ms ± 1.34 ms | 6.84 ms ± 1.58 ms  | 6.24 ms ± 1.95 ms |\n",
    "| Eclat             | 1.81 s ± 190.0 ms | 401 ms ± 238 ms   | 369 ms ± 115 ms    | 75.8 ms ± 10.6 ms |\n",
    "| FP-Growth         | 45.0 ms ± 5.06 ms | 3.08 ms ± 1.51 ms | 25.5 ms ± 6.44 ms  | 71.5 ms ± 24.1 ms |  "
   ],
   "metadata": {
    "collapsed": false
   },
   "id": "d602fc4b26a07c53"
  },
  {
   "cell_type": "code",
   "execution_count": 25,
   "outputs": [],
   "source": [
    "def time_counter_rule_calculation(dataset, alg, min_supp = 0.001, logs = True):\n",
    "    start_time = 0\n",
    "    total_time = 0\n",
    "    itemsets = dict()\n",
    "    \n",
    "    match alg:\n",
    "        case 'apriori':\n",
    "            start_time = time.time()\n",
    "            itemsets = get_apriori_itemsets(dataset, min_supp=min_supp, use_colnames=True)\n",
    "            total_time = time.time() - start_time\n",
    "            if logs: print(\"Computed Apriori\")\n",
    "        case 'eclat':\n",
    "            eclat_df = prepare_to_eclat_preprocess_df(dataset)\n",
    "            eclat_df.index = list(range(len(eclat_df)))\n",
    "            eclat = ECLAT(eclat_df)\n",
    "            start_time = time.time()\n",
    "            itemsets = get_eclat_support(eclat, min_supp)\n",
    "            total_time = time.time() - start_time\n",
    "            itemsets = pd.DataFrame(itemsets.items(), columns=['itemsets', 'support'])\n",
    "            itemsets['itemsets'] = itemsets['itemsets'].map(lambda row: tuple(i.strip() for i in row.split('&')))\n",
    "            if logs: print(\"Computed Eclat\")\n",
    "        case 'fpg':\n",
    "            start_time = time.time()\n",
    "            itemsets = get_fpgrowth_itemsets(dataset, min_supp=min_supp, use_colnames=True)\n",
    "            total_time = time.time() - start_time\n",
    "            if logs: print(\"Computed FP-Growth\")\n",
    "    \n",
    "    itemsets['number_of_items'] = itemsets['itemsets'].apply(lambda x: len(x))\n",
    "    \n",
    "    return itemsets, total_time\n",
    "    "
   ],
   "metadata": {
    "collapsed": false,
    "ExecuteTime": {
     "end_time": "2023-10-05T06:40:29.403427600Z",
     "start_time": "2023-10-05T06:40:29.377730900Z"
    }
   },
   "id": "d04468f2e0f013b7"
  },
  {
   "cell_type": "code",
   "execution_count": 26,
   "outputs": [],
   "source": [
    "def compare_algs(dataset):\n",
    "    apriori_itemsets, apriori_exec_time = time_counter_rule_calculation(dataset, 'apriori', logs=False)\n",
    "    eclat_itemsets, eclat_exec_time = time_counter_rule_calculation(dataset, 'eclat', logs=False)\n",
    "    fpgrowth_itemsets, fpgrowth_exec_time = time_counter_rule_calculation(dataset, 'fpg', logs=False)\n",
    "    print(\n",
    "        f'Apriori:\\t{round(apriori_exec_time, 3)} seconds\\n'\n",
    "        f'Eclat:\\t\\t{round(eclat_exec_time, 3)} seconds\\n'\n",
    "        f'FP-Growth:\\t{round(fpgrowth_exec_time, 3)} seconds\\n'\n",
    "    )"
   ],
   "metadata": {
    "collapsed": false,
    "ExecuteTime": {
     "end_time": "2023-10-05T06:40:30.714547800Z",
     "start_time": "2023-10-05T06:40:30.682905900Z"
    }
   },
   "id": "fe5e1810f7040177"
  },
  {
   "cell_type": "code",
   "execution_count": 117,
   "outputs": [
    {
     "name": "stdout",
     "output_type": "stream",
     "text": [
      "Apriori:\t2.044 seconds\n",
      "Eclat:\t\t2.908 seconds\n",
      "FP-Growth:\t0.971 seconds\n"
     ]
    }
   ],
   "source": [
    "compare_algs(basket_dataset)"
   ],
   "metadata": {
    "collapsed": false,
    "ExecuteTime": {
     "end_time": "2023-10-03T09:50:19.435800600Z",
     "start_time": "2023-10-03T09:50:13.293489700Z"
    }
   },
   "id": "4deb315f3bde7385"
  },
  {
   "cell_type": "code",
   "execution_count": 27,
   "outputs": [
    {
     "data": {
      "text/plain": "     apriori_support  eclat_support  fpgrowth_support            itemsets   \n0           0.383383       0.383383          0.383383            (Apple,)  \\\n1           0.384384       0.384384          0.384384            (Bread,)   \n2           0.420420       0.420420          0.420420           (Butter,)   \n3           0.404404       0.404404          0.404404           (Cheese,)   \n4           0.407407       0.407407          0.407407             (Corn,)   \n..               ...            ...               ...                 ...   \n183         0.186186       0.186186         -1.000000       (Apple, Corn)   \n184         0.154154       0.154154         -1.000000      (Apple, Bread)   \n185         0.174174       0.174174         -1.000000       (Corn, Bread)   \n186         0.178178       0.178178         -1.000000      (Onion, Bread)   \n187         0.196196       0.196196         -1.000000  (Onion, chocolate)   \n\n     compare  existed  \n0       True     True  \n1       True     True  \n2       True     True  \n3       True     True  \n4       True     True  \n..       ...      ...  \n183    False    False  \n184    False    False  \n185    False    False  \n186    False    False  \n187    False    False  \n\n[188 rows x 6 columns]",
      "text/html": "<div>\n<style scoped>\n    .dataframe tbody tr th:only-of-type {\n        vertical-align: middle;\n    }\n\n    .dataframe tbody tr th {\n        vertical-align: top;\n    }\n\n    .dataframe thead th {\n        text-align: right;\n    }\n</style>\n<table border=\"1\" class=\"dataframe\">\n  <thead>\n    <tr style=\"text-align: right;\">\n      <th></th>\n      <th>apriori_support</th>\n      <th>eclat_support</th>\n      <th>fpgrowth_support</th>\n      <th>itemsets</th>\n      <th>compare</th>\n      <th>existed</th>\n    </tr>\n  </thead>\n  <tbody>\n    <tr>\n      <th>0</th>\n      <td>0.383383</td>\n      <td>0.383383</td>\n      <td>0.383383</td>\n      <td>(Apple,)</td>\n      <td>True</td>\n      <td>True</td>\n    </tr>\n    <tr>\n      <th>1</th>\n      <td>0.384384</td>\n      <td>0.384384</td>\n      <td>0.384384</td>\n      <td>(Bread,)</td>\n      <td>True</td>\n      <td>True</td>\n    </tr>\n    <tr>\n      <th>2</th>\n      <td>0.420420</td>\n      <td>0.420420</td>\n      <td>0.420420</td>\n      <td>(Butter,)</td>\n      <td>True</td>\n      <td>True</td>\n    </tr>\n    <tr>\n      <th>3</th>\n      <td>0.404404</td>\n      <td>0.404404</td>\n      <td>0.404404</td>\n      <td>(Cheese,)</td>\n      <td>True</td>\n      <td>True</td>\n    </tr>\n    <tr>\n      <th>4</th>\n      <td>0.407407</td>\n      <td>0.407407</td>\n      <td>0.407407</td>\n      <td>(Corn,)</td>\n      <td>True</td>\n      <td>True</td>\n    </tr>\n    <tr>\n      <th>...</th>\n      <td>...</td>\n      <td>...</td>\n      <td>...</td>\n      <td>...</td>\n      <td>...</td>\n      <td>...</td>\n    </tr>\n    <tr>\n      <th>183</th>\n      <td>0.186186</td>\n      <td>0.186186</td>\n      <td>-1.000000</td>\n      <td>(Apple, Corn)</td>\n      <td>False</td>\n      <td>False</td>\n    </tr>\n    <tr>\n      <th>184</th>\n      <td>0.154154</td>\n      <td>0.154154</td>\n      <td>-1.000000</td>\n      <td>(Apple, Bread)</td>\n      <td>False</td>\n      <td>False</td>\n    </tr>\n    <tr>\n      <th>185</th>\n      <td>0.174174</td>\n      <td>0.174174</td>\n      <td>-1.000000</td>\n      <td>(Corn, Bread)</td>\n      <td>False</td>\n      <td>False</td>\n    </tr>\n    <tr>\n      <th>186</th>\n      <td>0.178178</td>\n      <td>0.178178</td>\n      <td>-1.000000</td>\n      <td>(Onion, Bread)</td>\n      <td>False</td>\n      <td>False</td>\n    </tr>\n    <tr>\n      <th>187</th>\n      <td>0.196196</td>\n      <td>0.196196</td>\n      <td>-1.000000</td>\n      <td>(Onion, chocolate)</td>\n      <td>False</td>\n      <td>False</td>\n    </tr>\n  </tbody>\n</table>\n<p>188 rows × 6 columns</p>\n</div>"
     },
     "execution_count": 27,
     "metadata": {},
     "output_type": "execute_result"
    }
   ],
   "source": [
    "total_itemsets_dict = defaultdict(list)\n",
    "for i, row in apriori_itemsets.iterrows():\n",
    "    total_itemsets_dict[tuple(row['itemsets'])].append(row['support'])\n",
    "for i, row in eclat_itemsets.iterrows():\n",
    "    total_itemsets_dict[row['itemsets']].append(row['support'])\n",
    "for i, row in eclat_itemsets.iterrows():\n",
    "    total_itemsets_dict[tuple(row['itemsets'])].append(row['support'])\n",
    "\n",
    "total_itemsets = pd.DataFrame(total_itemsets_dict.values(), columns=['apriori_support', 'eclat_support', 'fpgrowth_support'])\n",
    "total_itemsets['itemsets'] = total_itemsets_dict.keys()\n",
    "total_itemsets['compare'] = np.where(\n",
    "    (total_itemsets['apriori_support'] == total_itemsets['eclat_support']) & \n",
    "    (total_itemsets['apriori_support'] == total_itemsets['fpgrowth_support']), \n",
    "    True, False\n",
    ")\n",
    "total_itemsets.fillna(-1, inplace=True)\n",
    "total_itemsets['existed'] = np.where(\n",
    "    (total_itemsets['apriori_support'] != -1) & \n",
    "    (total_itemsets['eclat_support'] != -1) & \n",
    "    (total_itemsets['fpgrowth_support'] != -1), \n",
    "    True, False\n",
    ")\n",
    "total_itemsets"
   ],
   "metadata": {
    "collapsed": false,
    "ExecuteTime": {
     "end_time": "2023-10-05T06:40:34.118484700Z",
     "start_time": "2023-10-05T06:40:34.040322200Z"
    }
   },
   "id": "dead0bb86117ee81"
  },
  {
   "cell_type": "code",
   "execution_count": 28,
   "outputs": [
    {
     "data": {
      "text/plain": "     apriori_support  eclat_support  fpgrowth_support            itemsets   \n183         0.186186       0.186186              -1.0       (Apple, Corn)  \\\n184         0.154154       0.154154              -1.0      (Apple, Bread)   \n185         0.174174       0.174174              -1.0       (Corn, Bread)   \n186         0.178178       0.178178              -1.0      (Onion, Bread)   \n187         0.196196       0.196196              -1.0  (Onion, chocolate)   \n\n     compare  existed  \n183    False    False  \n184    False    False  \n185    False    False  \n186    False    False  \n187    False    False  ",
      "text/html": "<div>\n<style scoped>\n    .dataframe tbody tr th:only-of-type {\n        vertical-align: middle;\n    }\n\n    .dataframe tbody tr th {\n        vertical-align: top;\n    }\n\n    .dataframe thead th {\n        text-align: right;\n    }\n</style>\n<table border=\"1\" class=\"dataframe\">\n  <thead>\n    <tr style=\"text-align: right;\">\n      <th></th>\n      <th>apriori_support</th>\n      <th>eclat_support</th>\n      <th>fpgrowth_support</th>\n      <th>itemsets</th>\n      <th>compare</th>\n      <th>existed</th>\n    </tr>\n  </thead>\n  <tbody>\n    <tr>\n      <th>183</th>\n      <td>0.186186</td>\n      <td>0.186186</td>\n      <td>-1.0</td>\n      <td>(Apple, Corn)</td>\n      <td>False</td>\n      <td>False</td>\n    </tr>\n    <tr>\n      <th>184</th>\n      <td>0.154154</td>\n      <td>0.154154</td>\n      <td>-1.0</td>\n      <td>(Apple, Bread)</td>\n      <td>False</td>\n      <td>False</td>\n    </tr>\n    <tr>\n      <th>185</th>\n      <td>0.174174</td>\n      <td>0.174174</td>\n      <td>-1.0</td>\n      <td>(Corn, Bread)</td>\n      <td>False</td>\n      <td>False</td>\n    </tr>\n    <tr>\n      <th>186</th>\n      <td>0.178178</td>\n      <td>0.178178</td>\n      <td>-1.0</td>\n      <td>(Onion, Bread)</td>\n      <td>False</td>\n      <td>False</td>\n    </tr>\n    <tr>\n      <th>187</th>\n      <td>0.196196</td>\n      <td>0.196196</td>\n      <td>-1.0</td>\n      <td>(Onion, chocolate)</td>\n      <td>False</td>\n      <td>False</td>\n    </tr>\n  </tbody>\n</table>\n</div>"
     },
     "execution_count": 28,
     "metadata": {},
     "output_type": "execute_result"
    }
   ],
   "source": [
    "total_itemsets.tail()"
   ],
   "metadata": {
    "collapsed": false,
    "ExecuteTime": {
     "end_time": "2023-10-05T06:40:35.872827800Z",
     "start_time": "2023-10-05T06:40:35.810331100Z"
    }
   },
   "id": "972436f89b0677b4"
  },
  {
   "cell_type": "code",
   "execution_count": 29,
   "outputs": [
    {
     "name": "stdout",
     "output_type": "stream",
     "text": [
      "Count matched supports: 84\n",
      "Count existed supports: 84\n",
      "Count existed apriori: 188\n",
      "Count existed eclat: 136\n",
      "Count existed fp-growth: 84\n",
      "Total supports count: 188\n"
     ]
    }
   ],
   "source": [
    "print(\n",
    "    f'Count matched supports: {len(total_itemsets[total_itemsets[\"compare\"] == True])}\\n'\n",
    "    f'Count existed supports: {len(total_itemsets[total_itemsets[\"existed\"] == True])}\\n'\n",
    "    f'Count existed apriori: {len(total_itemsets[total_itemsets[\"apriori_support\"] != -1])}\\n'\n",
    "    f'Count existed eclat: {len(total_itemsets[total_itemsets[\"eclat_support\"] != -1])}\\n'\n",
    "    f'Count existed fp-growth: {len(total_itemsets[total_itemsets[\"fpgrowth_support\"] != -1])}\\n'\n",
    "    f'Total supports count: {len(total_itemsets)}')"
   ],
   "metadata": {
    "collapsed": false,
    "ExecuteTime": {
     "end_time": "2023-10-05T06:40:46.620745Z",
     "start_time": "2023-10-05T06:40:46.589500300Z"
    }
   },
   "id": "3419ba925339dabc"
  },
  {
   "cell_type": "code",
   "execution_count": 30,
   "outputs": [
    {
     "data": {
      "text/plain": "        antecedents     consequents  antecedent support  consequent support   \n208          (Milk)     (chocolate)            0.405405            0.421421  \\\n209     (chocolate)          (Milk)            0.421421            0.405405   \n93   (Kidney Beans)        (Cheese)            0.408408            0.404404   \n92         (Cheese)  (Kidney Beans)            0.404404            0.408408   \n210        (Nutmeg)         (Onion)            0.401401            0.403403   \n\n      support  confidence      lift  leverage  conviction  zhangs_metric  \n208  0.211211    0.520988  1.236263  0.040365    1.207857       0.321413  \n209  0.211211    0.501188  1.236263  0.040365    1.192021       0.330310  \n93   0.200200    0.490196  1.212143  0.035038    1.168284       0.295838  \n92   0.200200    0.495050  1.212143  0.035038    1.171583       0.293849  \n210  0.195195    0.486284  1.205454  0.033269    1.161336       0.284727  ",
      "text/html": "<div>\n<style scoped>\n    .dataframe tbody tr th:only-of-type {\n        vertical-align: middle;\n    }\n\n    .dataframe tbody tr th {\n        vertical-align: top;\n    }\n\n    .dataframe thead th {\n        text-align: right;\n    }\n</style>\n<table border=\"1\" class=\"dataframe\">\n  <thead>\n    <tr style=\"text-align: right;\">\n      <th></th>\n      <th>antecedents</th>\n      <th>consequents</th>\n      <th>antecedent support</th>\n      <th>consequent support</th>\n      <th>support</th>\n      <th>confidence</th>\n      <th>lift</th>\n      <th>leverage</th>\n      <th>conviction</th>\n      <th>zhangs_metric</th>\n    </tr>\n  </thead>\n  <tbody>\n    <tr>\n      <th>208</th>\n      <td>(Milk)</td>\n      <td>(chocolate)</td>\n      <td>0.405405</td>\n      <td>0.421421</td>\n      <td>0.211211</td>\n      <td>0.520988</td>\n      <td>1.236263</td>\n      <td>0.040365</td>\n      <td>1.207857</td>\n      <td>0.321413</td>\n    </tr>\n    <tr>\n      <th>209</th>\n      <td>(chocolate)</td>\n      <td>(Milk)</td>\n      <td>0.421421</td>\n      <td>0.405405</td>\n      <td>0.211211</td>\n      <td>0.501188</td>\n      <td>1.236263</td>\n      <td>0.040365</td>\n      <td>1.192021</td>\n      <td>0.330310</td>\n    </tr>\n    <tr>\n      <th>93</th>\n      <td>(Kidney Beans)</td>\n      <td>(Cheese)</td>\n      <td>0.408408</td>\n      <td>0.404404</td>\n      <td>0.200200</td>\n      <td>0.490196</td>\n      <td>1.212143</td>\n      <td>0.035038</td>\n      <td>1.168284</td>\n      <td>0.295838</td>\n    </tr>\n    <tr>\n      <th>92</th>\n      <td>(Cheese)</td>\n      <td>(Kidney Beans)</td>\n      <td>0.404404</td>\n      <td>0.408408</td>\n      <td>0.200200</td>\n      <td>0.495050</td>\n      <td>1.212143</td>\n      <td>0.035038</td>\n      <td>1.171583</td>\n      <td>0.293849</td>\n    </tr>\n    <tr>\n      <th>210</th>\n      <td>(Nutmeg)</td>\n      <td>(Onion)</td>\n      <td>0.401401</td>\n      <td>0.403403</td>\n      <td>0.195195</td>\n      <td>0.486284</td>\n      <td>1.205454</td>\n      <td>0.033269</td>\n      <td>1.161336</td>\n      <td>0.284727</td>\n    </tr>\n  </tbody>\n</table>\n</div>"
     },
     "execution_count": 30,
     "metadata": {},
     "output_type": "execute_result"
    }
   ],
   "source": [
    "apriori_rules = association_rules(apriori_itemsets, metric=metric, min_threshold=min_threshold)\n",
    "apriori_rules.sort_values(by='lift', ascending=False).head()"
   ],
   "metadata": {
    "collapsed": false,
    "ExecuteTime": {
     "end_time": "2023-10-05T06:41:15.900455Z",
     "start_time": "2023-10-05T06:41:15.840183300Z"
    }
   },
   "id": "3780fb5f39dd4350"
  },
  {
   "cell_type": "code",
   "execution_count": 31,
   "outputs": [
    {
     "data": {
      "text/plain": "        antecedents     consequents  antecedent support  consequent support   \n54           (Milk)     (chocolate)            0.405405            0.421421  \\\n55      (chocolate)          (Milk)            0.421421            0.405405   \n93   (Kidney Beans)        (Cheese)            0.408408            0.404404   \n92         (Cheese)  (Kidney Beans)            0.404404            0.408408   \n160        (Nutmeg)         (Onion)            0.401401            0.403403   \n\n      support  confidence      lift  leverage  conviction  zhangs_metric  \n54   0.211211    0.520988  1.236263  0.040365    1.207857       0.321413  \n55   0.211211    0.501188  1.236263  0.040365    1.192021       0.330310  \n93   0.200200    0.490196  1.212143  0.035038    1.168284       0.295838  \n92   0.200200    0.495050  1.212143  0.035038    1.171583       0.293849  \n160  0.195195    0.486284  1.205454  0.033269    1.161336       0.284727  ",
      "text/html": "<div>\n<style scoped>\n    .dataframe tbody tr th:only-of-type {\n        vertical-align: middle;\n    }\n\n    .dataframe tbody tr th {\n        vertical-align: top;\n    }\n\n    .dataframe thead th {\n        text-align: right;\n    }\n</style>\n<table border=\"1\" class=\"dataframe\">\n  <thead>\n    <tr style=\"text-align: right;\">\n      <th></th>\n      <th>antecedents</th>\n      <th>consequents</th>\n      <th>antecedent support</th>\n      <th>consequent support</th>\n      <th>support</th>\n      <th>confidence</th>\n      <th>lift</th>\n      <th>leverage</th>\n      <th>conviction</th>\n      <th>zhangs_metric</th>\n    </tr>\n  </thead>\n  <tbody>\n    <tr>\n      <th>54</th>\n      <td>(Milk)</td>\n      <td>(chocolate)</td>\n      <td>0.405405</td>\n      <td>0.421421</td>\n      <td>0.211211</td>\n      <td>0.520988</td>\n      <td>1.236263</td>\n      <td>0.040365</td>\n      <td>1.207857</td>\n      <td>0.321413</td>\n    </tr>\n    <tr>\n      <th>55</th>\n      <td>(chocolate)</td>\n      <td>(Milk)</td>\n      <td>0.421421</td>\n      <td>0.405405</td>\n      <td>0.211211</td>\n      <td>0.501188</td>\n      <td>1.236263</td>\n      <td>0.040365</td>\n      <td>1.192021</td>\n      <td>0.330310</td>\n    </tr>\n    <tr>\n      <th>93</th>\n      <td>(Kidney Beans)</td>\n      <td>(Cheese)</td>\n      <td>0.408408</td>\n      <td>0.404404</td>\n      <td>0.200200</td>\n      <td>0.490196</td>\n      <td>1.212143</td>\n      <td>0.035038</td>\n      <td>1.168284</td>\n      <td>0.295838</td>\n    </tr>\n    <tr>\n      <th>92</th>\n      <td>(Cheese)</td>\n      <td>(Kidney Beans)</td>\n      <td>0.404404</td>\n      <td>0.408408</td>\n      <td>0.200200</td>\n      <td>0.495050</td>\n      <td>1.212143</td>\n      <td>0.035038</td>\n      <td>1.171583</td>\n      <td>0.293849</td>\n    </tr>\n    <tr>\n      <th>160</th>\n      <td>(Nutmeg)</td>\n      <td>(Onion)</td>\n      <td>0.401401</td>\n      <td>0.403403</td>\n      <td>0.195195</td>\n      <td>0.486284</td>\n      <td>1.205454</td>\n      <td>0.033269</td>\n      <td>1.161336</td>\n      <td>0.284727</td>\n    </tr>\n  </tbody>\n</table>\n</div>"
     },
     "execution_count": 31,
     "metadata": {},
     "output_type": "execute_result"
    }
   ],
   "source": [
    "eclat_rules = association_rules(eclat_itemsets, metric=metric, min_threshold=min_threshold)\n",
    "eclat_rules.sort_values(by='lift', ascending=False).head()"
   ],
   "metadata": {
    "collapsed": false,
    "ExecuteTime": {
     "end_time": "2023-10-05T06:41:17.052410200Z",
     "start_time": "2023-10-05T06:41:17.005530400Z"
    }
   },
   "id": "833e7a1c74eea3a1"
  },
  {
   "cell_type": "code",
   "execution_count": 32,
   "outputs": [
    {
     "data": {
      "text/plain": "        antecedents     consequents  antecedent support  consequent support   \n78           (Milk)     (chocolate)            0.405405            0.421421  \\\n79      (chocolate)          (Milk)            0.421421            0.405405   \n138        (Cheese)  (Kidney Beans)            0.404404            0.408408   \n139  (Kidney Beans)        (Cheese)            0.408408            0.404404   \n162        (Nutmeg)         (Onion)            0.401401            0.403403   \n\n      support  confidence      lift  leverage  conviction  zhangs_metric  \n78   0.211211    0.520988  1.236263  0.040365    1.207857       0.321413  \n79   0.211211    0.501188  1.236263  0.040365    1.192021       0.330310  \n138  0.200200    0.495050  1.212143  0.035038    1.171583       0.293849  \n139  0.200200    0.490196  1.212143  0.035038    1.168284       0.295838  \n162  0.195195    0.486284  1.205454  0.033269    1.161336       0.284727  ",
      "text/html": "<div>\n<style scoped>\n    .dataframe tbody tr th:only-of-type {\n        vertical-align: middle;\n    }\n\n    .dataframe tbody tr th {\n        vertical-align: top;\n    }\n\n    .dataframe thead th {\n        text-align: right;\n    }\n</style>\n<table border=\"1\" class=\"dataframe\">\n  <thead>\n    <tr style=\"text-align: right;\">\n      <th></th>\n      <th>antecedents</th>\n      <th>consequents</th>\n      <th>antecedent support</th>\n      <th>consequent support</th>\n      <th>support</th>\n      <th>confidence</th>\n      <th>lift</th>\n      <th>leverage</th>\n      <th>conviction</th>\n      <th>zhangs_metric</th>\n    </tr>\n  </thead>\n  <tbody>\n    <tr>\n      <th>78</th>\n      <td>(Milk)</td>\n      <td>(chocolate)</td>\n      <td>0.405405</td>\n      <td>0.421421</td>\n      <td>0.211211</td>\n      <td>0.520988</td>\n      <td>1.236263</td>\n      <td>0.040365</td>\n      <td>1.207857</td>\n      <td>0.321413</td>\n    </tr>\n    <tr>\n      <th>79</th>\n      <td>(chocolate)</td>\n      <td>(Milk)</td>\n      <td>0.421421</td>\n      <td>0.405405</td>\n      <td>0.211211</td>\n      <td>0.501188</td>\n      <td>1.236263</td>\n      <td>0.040365</td>\n      <td>1.192021</td>\n      <td>0.330310</td>\n    </tr>\n    <tr>\n      <th>138</th>\n      <td>(Cheese)</td>\n      <td>(Kidney Beans)</td>\n      <td>0.404404</td>\n      <td>0.408408</td>\n      <td>0.200200</td>\n      <td>0.495050</td>\n      <td>1.212143</td>\n      <td>0.035038</td>\n      <td>1.171583</td>\n      <td>0.293849</td>\n    </tr>\n    <tr>\n      <th>139</th>\n      <td>(Kidney Beans)</td>\n      <td>(Cheese)</td>\n      <td>0.408408</td>\n      <td>0.404404</td>\n      <td>0.200200</td>\n      <td>0.490196</td>\n      <td>1.212143</td>\n      <td>0.035038</td>\n      <td>1.168284</td>\n      <td>0.295838</td>\n    </tr>\n    <tr>\n      <th>162</th>\n      <td>(Nutmeg)</td>\n      <td>(Onion)</td>\n      <td>0.401401</td>\n      <td>0.403403</td>\n      <td>0.195195</td>\n      <td>0.486284</td>\n      <td>1.205454</td>\n      <td>0.033269</td>\n      <td>1.161336</td>\n      <td>0.284727</td>\n    </tr>\n  </tbody>\n</table>\n</div>"
     },
     "execution_count": 32,
     "metadata": {},
     "output_type": "execute_result"
    }
   ],
   "source": [
    "fp_rules = association_rules(fpgrowth_itemsets, metric=metric, min_threshold=min_threshold)\n",
    "fp_rules.sort_values(by='lift', ascending=False).head()"
   ],
   "metadata": {
    "collapsed": false,
    "ExecuteTime": {
     "end_time": "2023-10-05T06:41:17.911187100Z",
     "start_time": "2023-10-05T06:41:17.862670Z"
    }
   },
   "id": "1f05b127328aa1f9"
  },
  {
   "cell_type": "markdown",
   "source": [
    "# Использованная литература <a name='links'></a>\n",
    "\n",
    "https://analyticsindiamag.com/guide-to-association-rule-mining-from-scratch/\n",
    "https://habr.com/ru/companies/ods/articles/353502/\n",
    "https://loginom.ru/blog/fpg\n",
    "https://www.kaggle.com/code/keitazoumana/comparative-analysis-between-apriori-and-fp-growth"
   ],
   "metadata": {
    "collapsed": false
   },
   "id": "ee4a121152fc5872"
  },
  {
   "cell_type": "code",
   "execution_count": null,
   "outputs": [],
   "source": [],
   "metadata": {
    "collapsed": false
   },
   "id": "581f31199bc6f1e8"
  }
 ],
 "metadata": {
  "kernelspec": {
   "display_name": "Python 3",
   "language": "python",
   "name": "python3"
  },
  "language_info": {
   "codemirror_mode": {
    "name": "ipython",
    "version": 2
   },
   "file_extension": ".py",
   "mimetype": "text/x-python",
   "name": "python",
   "nbconvert_exporter": "python",
   "pygments_lexer": "ipython2",
   "version": "2.7.6"
  }
 },
 "nbformat": 4,
 "nbformat_minor": 5
}
