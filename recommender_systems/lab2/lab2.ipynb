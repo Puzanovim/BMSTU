{
 "cells": [
  {
   "cell_type": "code",
   "execution_count": 1,
   "outputs": [],
   "source": [
    "import math\n",
    "from typing import Sequence\n",
    "\n",
    "import pandas as pd"
   ],
   "metadata": {
    "collapsed": false,
    "ExecuteTime": {
     "end_time": "2023-10-26T06:37:22.117061400Z",
     "start_time": "2023-10-26T06:37:18.020074700Z"
    }
   },
   "id": "initial_id"
  },
  {
   "cell_type": "markdown",
   "source": [
    "# Подготовка данных <a name='preparing'></a>\n",
    "\n",
    "Source: [book recommendation dataset](https://www.kaggle.com/datasets/arashnic/book-recommendation-dataset/data)"
   ],
   "metadata": {
    "collapsed": false
   },
   "id": "3a9cdf2af36b9d8f"
  },
  {
   "cell_type": "code",
   "execution_count": 2,
   "outputs": [
    {
     "data": {
      "text/plain": "         ISBN            Book-Title           Book-Author  \\\n0  0195153448   Classical Mythology    Mark P. O. Morford   \n1  0002005018          Clara Callan  Richard Bruce Wright   \n2  0002005018          Clara Callan  Richard Bruce Wright   \n3  0002005018          Clara Callan  Richard Bruce Wright   \n4  0060973129  Decision in Normandy          Carlo D'Este   \n\n   Year-Of-Publication                Publisher  \\\n0               2002.0  Oxford University Press   \n1               2001.0    HarperFlamingo Canada   \n2               2001.0    HarperFlamingo Canada   \n3               2001.0    HarperFlamingo Canada   \n4               1991.0          HarperPerennial   \n\n                                         Image-URL-S  \\\n0  http://images.amazon.com/images/P/0195153448.0...   \n1  http://images.amazon.com/images/P/0002005018.0...   \n2  http://images.amazon.com/images/P/0002005018.0...   \n3  http://images.amazon.com/images/P/0002005018.0...   \n4  http://images.amazon.com/images/P/0060973129.0...   \n\n                                         Image-URL-M  \\\n0  http://images.amazon.com/images/P/0195153448.0...   \n1  http://images.amazon.com/images/P/0002005018.0...   \n2  http://images.amazon.com/images/P/0002005018.0...   \n3  http://images.amazon.com/images/P/0002005018.0...   \n4  http://images.amazon.com/images/P/0060973129.0...   \n\n                                         Image-URL-L  User-ID  Book-Rating  \n0  http://images.amazon.com/images/P/0195153448.0...      2.0          0.0  \n1  http://images.amazon.com/images/P/0002005018.0...      8.0          5.0  \n2  http://images.amazon.com/images/P/0002005018.0...  11400.0          0.0  \n3  http://images.amazon.com/images/P/0002005018.0...  11676.0          8.0  \n4  http://images.amazon.com/images/P/0060973129.0...      8.0          0.0  ",
      "text/html": "<div>\n<style scoped>\n    .dataframe tbody tr th:only-of-type {\n        vertical-align: middle;\n    }\n\n    .dataframe tbody tr th {\n        vertical-align: top;\n    }\n\n    .dataframe thead th {\n        text-align: right;\n    }\n</style>\n<table border=\"1\" class=\"dataframe\">\n  <thead>\n    <tr style=\"text-align: right;\">\n      <th></th>\n      <th>ISBN</th>\n      <th>Book-Title</th>\n      <th>Book-Author</th>\n      <th>Year-Of-Publication</th>\n      <th>Publisher</th>\n      <th>Image-URL-S</th>\n      <th>Image-URL-M</th>\n      <th>Image-URL-L</th>\n      <th>User-ID</th>\n      <th>Book-Rating</th>\n    </tr>\n  </thead>\n  <tbody>\n    <tr>\n      <th>0</th>\n      <td>0195153448</td>\n      <td>Classical Mythology</td>\n      <td>Mark P. O. Morford</td>\n      <td>2002.0</td>\n      <td>Oxford University Press</td>\n      <td>http://images.amazon.com/images/P/0195153448.0...</td>\n      <td>http://images.amazon.com/images/P/0195153448.0...</td>\n      <td>http://images.amazon.com/images/P/0195153448.0...</td>\n      <td>2.0</td>\n      <td>0.0</td>\n    </tr>\n    <tr>\n      <th>1</th>\n      <td>0002005018</td>\n      <td>Clara Callan</td>\n      <td>Richard Bruce Wright</td>\n      <td>2001.0</td>\n      <td>HarperFlamingo Canada</td>\n      <td>http://images.amazon.com/images/P/0002005018.0...</td>\n      <td>http://images.amazon.com/images/P/0002005018.0...</td>\n      <td>http://images.amazon.com/images/P/0002005018.0...</td>\n      <td>8.0</td>\n      <td>5.0</td>\n    </tr>\n    <tr>\n      <th>2</th>\n      <td>0002005018</td>\n      <td>Clara Callan</td>\n      <td>Richard Bruce Wright</td>\n      <td>2001.0</td>\n      <td>HarperFlamingo Canada</td>\n      <td>http://images.amazon.com/images/P/0002005018.0...</td>\n      <td>http://images.amazon.com/images/P/0002005018.0...</td>\n      <td>http://images.amazon.com/images/P/0002005018.0...</td>\n      <td>11400.0</td>\n      <td>0.0</td>\n    </tr>\n    <tr>\n      <th>3</th>\n      <td>0002005018</td>\n      <td>Clara Callan</td>\n      <td>Richard Bruce Wright</td>\n      <td>2001.0</td>\n      <td>HarperFlamingo Canada</td>\n      <td>http://images.amazon.com/images/P/0002005018.0...</td>\n      <td>http://images.amazon.com/images/P/0002005018.0...</td>\n      <td>http://images.amazon.com/images/P/0002005018.0...</td>\n      <td>11676.0</td>\n      <td>8.0</td>\n    </tr>\n    <tr>\n      <th>4</th>\n      <td>0060973129</td>\n      <td>Decision in Normandy</td>\n      <td>Carlo D'Este</td>\n      <td>1991.0</td>\n      <td>HarperPerennial</td>\n      <td>http://images.amazon.com/images/P/0060973129.0...</td>\n      <td>http://images.amazon.com/images/P/0060973129.0...</td>\n      <td>http://images.amazon.com/images/P/0060973129.0...</td>\n      <td>8.0</td>\n      <td>0.0</td>\n    </tr>\n  </tbody>\n</table>\n</div>"
     },
     "execution_count": 2,
     "metadata": {},
     "output_type": "execute_result"
    }
   ],
   "source": [
    "book = pd.read_csv('./Books.csv',low_memory=False)\n",
    "rating = pd.read_csv('./Ratings.csv',low_memory=False)\n",
    "\n",
    "df=book.merge(rating,how=\"left\", on=\"ISBN\")\n",
    "\n",
    "df.head()"
   ],
   "metadata": {
    "collapsed": false,
    "ExecuteTime": {
     "end_time": "2023-10-26T06:37:22.433859600Z",
     "start_time": "2023-10-26T06:37:22.101421100Z"
    }
   },
   "id": "843bec865173b607"
  },
  {
   "cell_type": "code",
   "execution_count": 3,
   "outputs": [],
   "source": [
    "def fix_years(dataframe):\n",
    "    dataframe['Year-Of-Publication'] = dataframe['Year-Of-Publication'].astype(str)\n",
    "    \n",
    "    for i in dataframe.index:\n",
    "        book = dataframe.loc[i]\n",
    "        if str(book['Year-Of-Publication']).endswith('.0'):\n",
    "            book['Year-Of-Publication'] = book['Year-Of-Publication'][:-2]\n",
    "        \n",
    "        dataframe.loc[i] = book\n",
    "            \n",
    "    return dataframe"
   ],
   "metadata": {
    "collapsed": false,
    "ExecuteTime": {
     "end_time": "2023-10-26T06:37:22.433859600Z",
     "start_time": "2023-10-26T06:37:22.433348300Z"
    }
   },
   "id": "9b738af71f313008"
  },
  {
   "cell_type": "code",
   "execution_count": 4,
   "outputs": [
    {
     "name": "stderr",
     "output_type": "stream",
     "text": [
      "C:\\Users\\ipuzanov\\AppData\\Local\\Temp\\ipykernel_23472\\861396345.py:7: SettingWithCopyWarning: \n",
      "A value is trying to be set on a copy of a slice from a DataFrame\n",
      "\n",
      "See the caveats in the documentation: https://pandas.pydata.org/pandas-docs/stable/user_guide/indexing.html#returning-a-view-versus-a-copy\n",
      "  book['Year-Of-Publication'] = book['Year-Of-Publication'][:-2]\n"
     ]
    }
   ],
   "source": [
    "df = fix_years(df)"
   ],
   "metadata": {
    "collapsed": false,
    "ExecuteTime": {
     "end_time": "2023-10-26T06:38:43.672653600Z",
     "start_time": "2023-10-26T06:37:22.433859600Z"
    }
   },
   "id": "6d7e8150932a94fa"
  },
  {
   "cell_type": "code",
   "execution_count": 5,
   "outputs": [
    {
     "data": {
      "text/plain": "         ISBN            Book-Title           Book-Author Year-Of-Publication  \\\n0  0195153448   Classical Mythology    Mark P. O. Morford                2002   \n1  0002005018          Clara Callan  Richard Bruce Wright                2001   \n2  0002005018          Clara Callan  Richard Bruce Wright                2001   \n3  0002005018          Clara Callan  Richard Bruce Wright                2001   \n4  0060973129  Decision in Normandy          Carlo D'Este                1991   \n\n                 Publisher                                        Image-URL-S  \\\n0  Oxford University Press  http://images.amazon.com/images/P/0195153448.0...   \n1    HarperFlamingo Canada  http://images.amazon.com/images/P/0002005018.0...   \n2    HarperFlamingo Canada  http://images.amazon.com/images/P/0002005018.0...   \n3    HarperFlamingo Canada  http://images.amazon.com/images/P/0002005018.0...   \n4          HarperPerennial  http://images.amazon.com/images/P/0060973129.0...   \n\n                                         Image-URL-M  \\\n0  http://images.amazon.com/images/P/0195153448.0...   \n1  http://images.amazon.com/images/P/0002005018.0...   \n2  http://images.amazon.com/images/P/0002005018.0...   \n3  http://images.amazon.com/images/P/0002005018.0...   \n4  http://images.amazon.com/images/P/0060973129.0...   \n\n                                         Image-URL-L  User-ID  Book-Rating  \n0  http://images.amazon.com/images/P/0195153448.0...      2.0          0.0  \n1  http://images.amazon.com/images/P/0002005018.0...      8.0          5.0  \n2  http://images.amazon.com/images/P/0002005018.0...  11400.0          0.0  \n3  http://images.amazon.com/images/P/0002005018.0...  11676.0          8.0  \n4  http://images.amazon.com/images/P/0060973129.0...      8.0          0.0  ",
      "text/html": "<div>\n<style scoped>\n    .dataframe tbody tr th:only-of-type {\n        vertical-align: middle;\n    }\n\n    .dataframe tbody tr th {\n        vertical-align: top;\n    }\n\n    .dataframe thead th {\n        text-align: right;\n    }\n</style>\n<table border=\"1\" class=\"dataframe\">\n  <thead>\n    <tr style=\"text-align: right;\">\n      <th></th>\n      <th>ISBN</th>\n      <th>Book-Title</th>\n      <th>Book-Author</th>\n      <th>Year-Of-Publication</th>\n      <th>Publisher</th>\n      <th>Image-URL-S</th>\n      <th>Image-URL-M</th>\n      <th>Image-URL-L</th>\n      <th>User-ID</th>\n      <th>Book-Rating</th>\n    </tr>\n  </thead>\n  <tbody>\n    <tr>\n      <th>0</th>\n      <td>0195153448</td>\n      <td>Classical Mythology</td>\n      <td>Mark P. O. Morford</td>\n      <td>2002</td>\n      <td>Oxford University Press</td>\n      <td>http://images.amazon.com/images/P/0195153448.0...</td>\n      <td>http://images.amazon.com/images/P/0195153448.0...</td>\n      <td>http://images.amazon.com/images/P/0195153448.0...</td>\n      <td>2.0</td>\n      <td>0.0</td>\n    </tr>\n    <tr>\n      <th>1</th>\n      <td>0002005018</td>\n      <td>Clara Callan</td>\n      <td>Richard Bruce Wright</td>\n      <td>2001</td>\n      <td>HarperFlamingo Canada</td>\n      <td>http://images.amazon.com/images/P/0002005018.0...</td>\n      <td>http://images.amazon.com/images/P/0002005018.0...</td>\n      <td>http://images.amazon.com/images/P/0002005018.0...</td>\n      <td>8.0</td>\n      <td>5.0</td>\n    </tr>\n    <tr>\n      <th>2</th>\n      <td>0002005018</td>\n      <td>Clara Callan</td>\n      <td>Richard Bruce Wright</td>\n      <td>2001</td>\n      <td>HarperFlamingo Canada</td>\n      <td>http://images.amazon.com/images/P/0002005018.0...</td>\n      <td>http://images.amazon.com/images/P/0002005018.0...</td>\n      <td>http://images.amazon.com/images/P/0002005018.0...</td>\n      <td>11400.0</td>\n      <td>0.0</td>\n    </tr>\n    <tr>\n      <th>3</th>\n      <td>0002005018</td>\n      <td>Clara Callan</td>\n      <td>Richard Bruce Wright</td>\n      <td>2001</td>\n      <td>HarperFlamingo Canada</td>\n      <td>http://images.amazon.com/images/P/0002005018.0...</td>\n      <td>http://images.amazon.com/images/P/0002005018.0...</td>\n      <td>http://images.amazon.com/images/P/0002005018.0...</td>\n      <td>11676.0</td>\n      <td>8.0</td>\n    </tr>\n    <tr>\n      <th>4</th>\n      <td>0060973129</td>\n      <td>Decision in Normandy</td>\n      <td>Carlo D'Este</td>\n      <td>1991</td>\n      <td>HarperPerennial</td>\n      <td>http://images.amazon.com/images/P/0060973129.0...</td>\n      <td>http://images.amazon.com/images/P/0060973129.0...</td>\n      <td>http://images.amazon.com/images/P/0060973129.0...</td>\n      <td>8.0</td>\n      <td>0.0</td>\n    </tr>\n  </tbody>\n</table>\n</div>"
     },
     "execution_count": 5,
     "metadata": {},
     "output_type": "execute_result"
    }
   ],
   "source": [
    "df.head()"
   ],
   "metadata": {
    "collapsed": false,
    "ExecuteTime": {
     "end_time": "2023-10-26T06:38:43.691543700Z",
     "start_time": "2023-10-26T06:38:43.675653600Z"
    }
   },
   "id": "3fe7c23a49ddc58d"
  },
  {
   "cell_type": "code",
   "execution_count": 6,
   "outputs": [
    {
     "data": {
      "text/plain": "(33090, 10)"
     },
     "execution_count": 6,
     "metadata": {},
     "output_type": "execute_result"
    }
   ],
   "source": [
    "df.shape"
   ],
   "metadata": {
    "collapsed": false,
    "ExecuteTime": {
     "end_time": "2023-10-26T06:38:43.713448500Z",
     "start_time": "2023-10-26T06:38:43.693445700Z"
    }
   },
   "id": "f4ddfaa72b7236b0"
  },
  {
   "cell_type": "code",
   "execution_count": 7,
   "outputs": [
    {
     "name": "stdout",
     "output_type": "stream",
     "text": [
      "<class 'pandas.core.frame.DataFrame'>\n",
      "Int64Index: 33090 entries, 0 to 33089\n",
      "Data columns (total 10 columns):\n",
      " #   Column               Non-Null Count  Dtype  \n",
      "---  ------               --------------  -----  \n",
      " 0   ISBN                 33090 non-null  object \n",
      " 1   Book-Title           33090 non-null  object \n",
      " 2   Book-Author          33090 non-null  object \n",
      " 3   Year-Of-Publication  33090 non-null  object \n",
      " 4   Publisher            33087 non-null  object \n",
      " 5   Image-URL-S          33087 non-null  object \n",
      " 6   Image-URL-M          33087 non-null  object \n",
      " 7   Image-URL-L          33087 non-null  object \n",
      " 8   User-ID              33079 non-null  float64\n",
      " 9   Book-Rating          33079 non-null  float64\n",
      "dtypes: float64(2), object(8)\n",
      "memory usage: 3.8+ MB\n"
     ]
    }
   ],
   "source": [
    "df.info()\n",
    "df.dropna(inplace=True)"
   ],
   "metadata": {
    "collapsed": false,
    "ExecuteTime": {
     "end_time": "2023-10-26T06:38:43.873596300Z",
     "start_time": "2023-10-26T06:38:43.699448100Z"
    }
   },
   "id": "c8f81b0b15111375"
  },
  {
   "cell_type": "code",
   "execution_count": 8,
   "outputs": [],
   "source": [
    "df['User-ID'] = df['User-ID'].astype('int')\n",
    "df[\"Book-Author\"]=df[\"Book-Author\"].astype(\"string\")\n",
    "df[\"Book-Author\"]=df[\"Book-Author\"].str.replace(\"DAN BROWN\",\"Dan Brown\")\n",
    "df[\"Book-Author\"]=df[\"Book-Author\"].str.replace(\"Audrey Osofsky\",\"Stephen King\")\n",
    "df[\"Book-Author\"]=df[\"Book-Author\"].str.replace(\"Dinah McCall\",\"Stephen King\")\n",
    "df.drop(columns=[\"Image-URL-S\",\"Image-URL-M\"],inplace=True)"
   ],
   "metadata": {
    "collapsed": false,
    "ExecuteTime": {
     "end_time": "2023-10-26T06:38:43.909869100Z",
     "start_time": "2023-10-26T06:38:43.776142600Z"
    }
   },
   "id": "b9ab20ab96321d3a"
  },
  {
   "cell_type": "code",
   "execution_count": 9,
   "outputs": [
    {
     "data": {
      "text/plain": "count    15131.000000\nmean         7.682043\nstd          1.810948\nmin          1.000000\n25%          7.000000\n50%          8.000000\n75%          9.000000\nmax         10.000000\nName: Book-Rating, dtype: float64"
     },
     "execution_count": 9,
     "metadata": {},
     "output_type": "execute_result"
    }
   ],
   "source": [
    "df=df[df[\"Book-Rating\"]>0]\n",
    "df[\"Book-Rating\"].describe()"
   ],
   "metadata": {
    "collapsed": false,
    "ExecuteTime": {
     "end_time": "2023-10-26T06:38:43.926884500Z",
     "start_time": "2023-10-26T06:38:43.859603500Z"
    }
   },
   "id": "762ed65b740bbe01"
  },
  {
   "cell_type": "code",
   "execution_count": 10,
   "outputs": [
    {
     "data": {
      "text/plain": "(4473, 5763)"
     },
     "execution_count": 10,
     "metadata": {},
     "output_type": "execute_result"
    }
   ],
   "source": [
    "df[\"User-ID\"].nunique(), df[\"Book-Title\"].nunique()"
   ],
   "metadata": {
    "collapsed": false,
    "ExecuteTime": {
     "end_time": "2023-10-26T06:38:44.028049100Z",
     "start_time": "2023-10-26T06:38:43.886121700Z"
    }
   },
   "id": "c4db15ad369149e0"
  },
  {
   "cell_type": "code",
   "execution_count": 11,
   "outputs": [
    {
     "data": {
      "text/plain": "User-ID\n7769        1\n11648       1\n11652       1\n11654       1\n26238       1\n         ... \n23902      90\n6575      101\n7346      110\n16795     201\n11676    1323\nName: Book-Title, Length: 4473, dtype: int64"
     },
     "execution_count": 11,
     "metadata": {},
     "output_type": "execute_result"
    }
   ],
   "source": [
    "df.groupby('User-ID')['Book-Title'].agg('count').sort_values()"
   ],
   "metadata": {
    "collapsed": false,
    "ExecuteTime": {
     "end_time": "2023-10-26T06:38:44.031049500Z",
     "start_time": "2023-10-26T06:38:43.901772100Z"
    }
   },
   "id": "c293f0f4312e0500"
  },
  {
   "cell_type": "code",
   "execution_count": 12,
   "outputs": [
    {
     "data": {
      "text/plain": "                                                    Book-Title\nThe Lovely Bones: A Novel                                   78\nWild Animus                                                 54\nThe Nanny Diaries: A Novel                                  53\nThe Da Vinci Code                                           51\nThe Red Tent (Bestselling Backlist)                         42\n...                                                        ...\nDomestic Bliss : Simple Ways to Add Style to Yo...           1\nGrace by the Cup: A Break from the Daily Grind               1\nThe Colloghi Conspiracy                                      1\nShadowrun: Nosferatu (Shadowrun (Roc))                       1\nNative American Postcolonial Psychology (Suny S...           1\n\n[5763 rows x 1 columns]",
      "text/html": "<div>\n<style scoped>\n    .dataframe tbody tr th:only-of-type {\n        vertical-align: middle;\n    }\n\n    .dataframe tbody tr th {\n        vertical-align: top;\n    }\n\n    .dataframe thead th {\n        text-align: right;\n    }\n</style>\n<table border=\"1\" class=\"dataframe\">\n  <thead>\n    <tr style=\"text-align: right;\">\n      <th></th>\n      <th>Book-Title</th>\n    </tr>\n  </thead>\n  <tbody>\n    <tr>\n      <th>The Lovely Bones: A Novel</th>\n      <td>78</td>\n    </tr>\n    <tr>\n      <th>Wild Animus</th>\n      <td>54</td>\n    </tr>\n    <tr>\n      <th>The Nanny Diaries: A Novel</th>\n      <td>53</td>\n    </tr>\n    <tr>\n      <th>The Da Vinci Code</th>\n      <td>51</td>\n    </tr>\n    <tr>\n      <th>The Red Tent (Bestselling Backlist)</th>\n      <td>42</td>\n    </tr>\n    <tr>\n      <th>...</th>\n      <td>...</td>\n    </tr>\n    <tr>\n      <th>Domestic Bliss : Simple Ways to Add Style to Your Life</th>\n      <td>1</td>\n    </tr>\n    <tr>\n      <th>Grace by the Cup: A Break from the Daily Grind</th>\n      <td>1</td>\n    </tr>\n    <tr>\n      <th>The Colloghi Conspiracy</th>\n      <td>1</td>\n    </tr>\n    <tr>\n      <th>Shadowrun: Nosferatu (Shadowrun (Roc))</th>\n      <td>1</td>\n    </tr>\n    <tr>\n      <th>Native American Postcolonial Psychology (Suny Series in Transpersonal and Humanistic Psychology)</th>\n      <td>1</td>\n    </tr>\n  </tbody>\n</table>\n<p>5763 rows × 1 columns</p>\n</div>"
     },
     "execution_count": 12,
     "metadata": {},
     "output_type": "execute_result"
    }
   ],
   "source": [
    "book_counts = pd.DataFrame(df[\"Book-Title\"].value_counts())\n",
    "book_counts.sort_values(\"Book-Title\", ascending=False)"
   ],
   "metadata": {
    "collapsed": false,
    "ExecuteTime": {
     "end_time": "2023-10-26T06:38:44.057362500Z",
     "start_time": "2023-10-26T06:38:43.912869900Z"
    }
   },
   "id": "79b0fa415f9306ff"
  },
  {
   "cell_type": "code",
   "execution_count": 13,
   "outputs": [],
   "source": [
    "rare_book = book_counts[book_counts[\"Book-Title\"] <= 20].index"
   ],
   "metadata": {
    "collapsed": false,
    "ExecuteTime": {
     "end_time": "2023-10-26T06:38:44.057362500Z",
     "start_time": "2023-10-26T06:38:43.939342800Z"
    }
   },
   "id": "13feeceece742dd"
  },
  {
   "cell_type": "code",
   "execution_count": 14,
   "outputs": [
    {
     "data": {
      "text/plain": "             ISBN     Book-Title   Book-Author Year-Of-Publication  \\\n32     0440234743  The Testament  John Grisham                1999   \n36     0440234743  The Testament  John Grisham                1999   \n37     0440234743  The Testament  John Grisham                1999   \n38     0440234743  The Testament  John Grisham                1999   \n41     0440234743  The Testament  John Grisham                1999   \n...           ...            ...           ...                 ...   \n32300  068419337X  SHIPPING NEWS  Annie Proulx                1993   \n32302  068419337X  SHIPPING NEWS  Annie Proulx                1993   \n32303  068419337X  SHIPPING NEWS  Annie Proulx                1993   \n33014  067087311X     Icy Sparks   Gwynn Rubio                1998   \n33016  067087311X     Icy Sparks   Gwynn Rubio                1998   \n\n          Publisher                                        Image-URL-L  \\\n32             Dell  http://images.amazon.com/images/P/0440234743.0...   \n36             Dell  http://images.amazon.com/images/P/0440234743.0...   \n37             Dell  http://images.amazon.com/images/P/0440234743.0...   \n38             Dell  http://images.amazon.com/images/P/0440234743.0...   \n41             Dell  http://images.amazon.com/images/P/0440234743.0...   \n...             ...                                                ...   \n32300      Scribner  http://images.amazon.com/images/P/068419337X.0...   \n32302      Scribner  http://images.amazon.com/images/P/068419337X.0...   \n32303      Scribner  http://images.amazon.com/images/P/068419337X.0...   \n33014  Viking Books  http://images.amazon.com/images/P/067087311X.0...   \n33016  Viking Books  http://images.amazon.com/images/P/067087311X.0...   \n\n       User-ID  Book-Rating  \n32        3329          8.0  \n36        7346          9.0  \n37        7352          8.0  \n38        9419          5.0  \n41       11224          6.0  \n...        ...          ...  \n32300     7371          7.0  \n32302    11676          3.0  \n32303    20388          8.0  \n33014     7841         10.0  \n33016    20730          8.0  \n\n[1646 rows x 8 columns]",
      "text/html": "<div>\n<style scoped>\n    .dataframe tbody tr th:only-of-type {\n        vertical-align: middle;\n    }\n\n    .dataframe tbody tr th {\n        vertical-align: top;\n    }\n\n    .dataframe thead th {\n        text-align: right;\n    }\n</style>\n<table border=\"1\" class=\"dataframe\">\n  <thead>\n    <tr style=\"text-align: right;\">\n      <th></th>\n      <th>ISBN</th>\n      <th>Book-Title</th>\n      <th>Book-Author</th>\n      <th>Year-Of-Publication</th>\n      <th>Publisher</th>\n      <th>Image-URL-L</th>\n      <th>User-ID</th>\n      <th>Book-Rating</th>\n    </tr>\n  </thead>\n  <tbody>\n    <tr>\n      <th>32</th>\n      <td>0440234743</td>\n      <td>The Testament</td>\n      <td>John Grisham</td>\n      <td>1999</td>\n      <td>Dell</td>\n      <td>http://images.amazon.com/images/P/0440234743.0...</td>\n      <td>3329</td>\n      <td>8.0</td>\n    </tr>\n    <tr>\n      <th>36</th>\n      <td>0440234743</td>\n      <td>The Testament</td>\n      <td>John Grisham</td>\n      <td>1999</td>\n      <td>Dell</td>\n      <td>http://images.amazon.com/images/P/0440234743.0...</td>\n      <td>7346</td>\n      <td>9.0</td>\n    </tr>\n    <tr>\n      <th>37</th>\n      <td>0440234743</td>\n      <td>The Testament</td>\n      <td>John Grisham</td>\n      <td>1999</td>\n      <td>Dell</td>\n      <td>http://images.amazon.com/images/P/0440234743.0...</td>\n      <td>7352</td>\n      <td>8.0</td>\n    </tr>\n    <tr>\n      <th>38</th>\n      <td>0440234743</td>\n      <td>The Testament</td>\n      <td>John Grisham</td>\n      <td>1999</td>\n      <td>Dell</td>\n      <td>http://images.amazon.com/images/P/0440234743.0...</td>\n      <td>9419</td>\n      <td>5.0</td>\n    </tr>\n    <tr>\n      <th>41</th>\n      <td>0440234743</td>\n      <td>The Testament</td>\n      <td>John Grisham</td>\n      <td>1999</td>\n      <td>Dell</td>\n      <td>http://images.amazon.com/images/P/0440234743.0...</td>\n      <td>11224</td>\n      <td>6.0</td>\n    </tr>\n    <tr>\n      <th>...</th>\n      <td>...</td>\n      <td>...</td>\n      <td>...</td>\n      <td>...</td>\n      <td>...</td>\n      <td>...</td>\n      <td>...</td>\n      <td>...</td>\n    </tr>\n    <tr>\n      <th>32300</th>\n      <td>068419337X</td>\n      <td>SHIPPING NEWS</td>\n      <td>Annie Proulx</td>\n      <td>1993</td>\n      <td>Scribner</td>\n      <td>http://images.amazon.com/images/P/068419337X.0...</td>\n      <td>7371</td>\n      <td>7.0</td>\n    </tr>\n    <tr>\n      <th>32302</th>\n      <td>068419337X</td>\n      <td>SHIPPING NEWS</td>\n      <td>Annie Proulx</td>\n      <td>1993</td>\n      <td>Scribner</td>\n      <td>http://images.amazon.com/images/P/068419337X.0...</td>\n      <td>11676</td>\n      <td>3.0</td>\n    </tr>\n    <tr>\n      <th>32303</th>\n      <td>068419337X</td>\n      <td>SHIPPING NEWS</td>\n      <td>Annie Proulx</td>\n      <td>1993</td>\n      <td>Scribner</td>\n      <td>http://images.amazon.com/images/P/068419337X.0...</td>\n      <td>20388</td>\n      <td>8.0</td>\n    </tr>\n    <tr>\n      <th>33014</th>\n      <td>067087311X</td>\n      <td>Icy Sparks</td>\n      <td>Gwynn Rubio</td>\n      <td>1998</td>\n      <td>Viking Books</td>\n      <td>http://images.amazon.com/images/P/067087311X.0...</td>\n      <td>7841</td>\n      <td>10.0</td>\n    </tr>\n    <tr>\n      <th>33016</th>\n      <td>067087311X</td>\n      <td>Icy Sparks</td>\n      <td>Gwynn Rubio</td>\n      <td>1998</td>\n      <td>Viking Books</td>\n      <td>http://images.amazon.com/images/P/067087311X.0...</td>\n      <td>20730</td>\n      <td>8.0</td>\n    </tr>\n  </tbody>\n</table>\n<p>1646 rows × 8 columns</p>\n</div>"
     },
     "execution_count": 14,
     "metadata": {},
     "output_type": "execute_result"
    }
   ],
   "source": [
    "common_book = df[~df[\"Book-Title\"].isin(rare_book)]\n",
    "common_book"
   ],
   "metadata": {
    "collapsed": false,
    "ExecuteTime": {
     "end_time": "2023-10-26T06:38:44.074364900Z",
     "start_time": "2023-10-26T06:38:43.956026Z"
    }
   },
   "id": "f641b8aa0ed1edf3"
  },
  {
   "cell_type": "code",
   "execution_count": 15,
   "outputs": [
    {
     "data": {
      "text/plain": "Book-Title  A Bend in the Road  A Heartbreaking Work of Staggering Genius  \\\nUser-ID                                                                     \n26                         NaN                                        NaN   \n91                         NaN                                        NaN   \n114                        NaN                                        NaN   \n165                        NaN                                        NaN   \n242                        NaN                                        NaN   \n...                        ...                                        ...   \n278653                     NaN                                        NaN   \n278663                     NaN                                        NaN   \n278698                     NaN                                        NaN   \n278798                     NaN                                        NaN   \n278843                     NaN                                        NaN   \n\nBook-Title  A Painted House  Angels &amp; Demons  Bridget Jones's Diary  \\\nUser-ID                                                                   \n26                      NaN                  NaN                    NaN   \n91                      NaN                  NaN                    NaN   \n114                     NaN                 10.0                    NaN   \n165                     NaN                  NaN                    NaN   \n242                     NaN                  NaN                    NaN   \n...                     ...                  ...                    ...   \n278653                  NaN                  NaN                    NaN   \n278663                  NaN                  NaN                    NaN   \n278698                  NaN                  NaN                    NaN   \n278798                  NaN                  NaN                    NaN   \n278843                  NaN                  NaN                    8.0   \n\nBook-Title  Confessions of a Shopaholic (Summer Display Opportunity)  \\\nUser-ID                                                                \n26                                                        NaN          \n91                                                        NaN          \n114                                                       NaN          \n165                                                       NaN          \n242                                                       NaN          \n...                                                       ...          \n278653                                                    NaN          \n278663                                                    NaN          \n278698                                                    NaN          \n278798                                                    NaN          \n278843                                                    NaN          \n\nBook-Title  Divine Secrets of the Ya-Ya Sisterhood: A Novel  Dreamcatcher  \\\nUser-ID                                                                     \n26                                                      NaN           NaN   \n91                                                      NaN           NaN   \n114                                                     NaN           NaN   \n165                                                     NaN           NaN   \n242                                                     NaN           NaN   \n...                                                     ...           ...   \n278653                                                  NaN           NaN   \n278663                                                  NaN           NaN   \n278698                                                  NaN           NaN   \n278798                                                  NaN           NaN   \n278843                                                  NaN           NaN   \n\nBook-Title  Fahrenheit 451  Girl with a Pearl Earring  ...  The Summons  \\\nUser-ID                                                ...                \n26                     NaN                        NaN  ...          NaN   \n91                     NaN                        NaN  ...          NaN   \n114                    NaN                        NaN  ...          NaN   \n165                    NaN                        NaN  ...          NaN   \n242                    8.0                        NaN  ...          NaN   \n...                    ...                        ...  ...          ...   \n278653                 NaN                        NaN  ...          NaN   \n278663                 NaN                        NaN  ...          NaN   \n278698                 NaN                        NaN  ...         10.0   \n278798                 NaN                        NaN  ...          NaN   \n278843                 NaN                        NaN  ...          NaN   \n\nBook-Title  The Testament  Timeline  To Kill a Mockingbird  \\\nUser-ID                                                      \n26                    NaN       NaN                   10.0   \n91                    NaN       NaN                    NaN   \n114                   NaN       NaN                    NaN   \n165                   NaN       NaN                    NaN   \n242                   NaN       NaN                    NaN   \n...                   ...       ...                    ...   \n278653                NaN       NaN                    NaN   \n278663                NaN       NaN                    NaN   \n278698                NaN       NaN                    NaN   \n278798                NaN       NaN                    NaN   \n278843                NaN       NaN                    NaN   \n\nBook-Title  Tuesdays with Morrie: An Old Man, a Young Man, and Life's Greatest Lesson  \\\nUser-ID                                                                                 \n26                                                        NaN                           \n91                                                        NaN                           \n114                                                       NaN                           \n165                                                       NaN                           \n242                                                       NaN                           \n...                                                       ...                           \n278653                                                    NaN                           \n278663                                                    NaN                           \n278698                                                    NaN                           \n278798                                                    NaN                           \n278843                                                    NaN                           \n\nBook-Title  Where the Heart Is (Oprah's Book Club (Paperback))  \\\nUser-ID                                                          \n26                                                        NaN    \n91                                                        NaN    \n114                                                       NaN    \n165                                                       NaN    \n242                                                       NaN    \n...                                                       ...    \n278653                                                    NaN    \n278663                                                    NaN    \n278698                                                    NaN    \n278798                                                    NaN    \n278843                                                    NaN    \n\nBook-Title  White Oleander : A Novel  \\\nUser-ID                                \n26                               NaN   \n91                               NaN   \n114                              NaN   \n165                              NaN   \n242                              NaN   \n...                              ...   \n278653                           NaN   \n278663                           NaN   \n278698                           NaN   \n278798                           NaN   \n278843                           NaN   \n\nBook-Title  White Oleander : A Novel (Oprah's Book Club)  \\\nUser-ID                                                    \n26                                                   NaN   \n91                                                   NaN   \n114                                                  NaN   \n165                                                  NaN   \n242                                                  NaN   \n...                                                  ...   \n278653                                               NaN   \n278663                                               NaN   \n278698                                               NaN   \n278798                                               7.0   \n278843                                               NaN   \n\nBook-Title  Wicked: The Life and Times of the Wicked Witch of the West  \\\nUser-ID                                                                  \n26                                                        NaN            \n91                                                        NaN            \n114                                                       NaN            \n165                                                       NaN            \n242                                                       NaN            \n...                                                       ...            \n278653                                                    NaN            \n278663                                                    NaN            \n278698                                                    NaN            \n278798                                                    NaN            \n278843                                                    NaN            \n\nBook-Title  Wild Animus  \nUser-ID                  \n26                  NaN  \n91                  NaN  \n114                 NaN  \n165                 NaN  \n242                 NaN  \n...                 ...  \n278653              NaN  \n278663              NaN  \n278698              NaN  \n278798              NaN  \n278843              NaN  \n\n[983 rows x 56 columns]",
      "text/html": "<div>\n<style scoped>\n    .dataframe tbody tr th:only-of-type {\n        vertical-align: middle;\n    }\n\n    .dataframe tbody tr th {\n        vertical-align: top;\n    }\n\n    .dataframe thead th {\n        text-align: right;\n    }\n</style>\n<table border=\"1\" class=\"dataframe\">\n  <thead>\n    <tr style=\"text-align: right;\">\n      <th>Book-Title</th>\n      <th>A Bend in the Road</th>\n      <th>A Heartbreaking Work of Staggering Genius</th>\n      <th>A Painted House</th>\n      <th>Angels &amp;amp; Demons</th>\n      <th>Bridget Jones's Diary</th>\n      <th>Confessions of a Shopaholic (Summer Display Opportunity)</th>\n      <th>Divine Secrets of the Ya-Ya Sisterhood: A Novel</th>\n      <th>Dreamcatcher</th>\n      <th>Fahrenheit 451</th>\n      <th>Girl with a Pearl Earring</th>\n      <th>...</th>\n      <th>The Summons</th>\n      <th>The Testament</th>\n      <th>Timeline</th>\n      <th>To Kill a Mockingbird</th>\n      <th>Tuesdays with Morrie: An Old Man, a Young Man, and Life's Greatest Lesson</th>\n      <th>Where the Heart Is (Oprah's Book Club (Paperback))</th>\n      <th>White Oleander : A Novel</th>\n      <th>White Oleander : A Novel (Oprah's Book Club)</th>\n      <th>Wicked: The Life and Times of the Wicked Witch of the West</th>\n      <th>Wild Animus</th>\n    </tr>\n    <tr>\n      <th>User-ID</th>\n      <th></th>\n      <th></th>\n      <th></th>\n      <th></th>\n      <th></th>\n      <th></th>\n      <th></th>\n      <th></th>\n      <th></th>\n      <th></th>\n      <th></th>\n      <th></th>\n      <th></th>\n      <th></th>\n      <th></th>\n      <th></th>\n      <th></th>\n      <th></th>\n      <th></th>\n      <th></th>\n      <th></th>\n    </tr>\n  </thead>\n  <tbody>\n    <tr>\n      <th>26</th>\n      <td>NaN</td>\n      <td>NaN</td>\n      <td>NaN</td>\n      <td>NaN</td>\n      <td>NaN</td>\n      <td>NaN</td>\n      <td>NaN</td>\n      <td>NaN</td>\n      <td>NaN</td>\n      <td>NaN</td>\n      <td>...</td>\n      <td>NaN</td>\n      <td>NaN</td>\n      <td>NaN</td>\n      <td>10.0</td>\n      <td>NaN</td>\n      <td>NaN</td>\n      <td>NaN</td>\n      <td>NaN</td>\n      <td>NaN</td>\n      <td>NaN</td>\n    </tr>\n    <tr>\n      <th>91</th>\n      <td>NaN</td>\n      <td>NaN</td>\n      <td>NaN</td>\n      <td>NaN</td>\n      <td>NaN</td>\n      <td>NaN</td>\n      <td>NaN</td>\n      <td>NaN</td>\n      <td>NaN</td>\n      <td>NaN</td>\n      <td>...</td>\n      <td>NaN</td>\n      <td>NaN</td>\n      <td>NaN</td>\n      <td>NaN</td>\n      <td>NaN</td>\n      <td>NaN</td>\n      <td>NaN</td>\n      <td>NaN</td>\n      <td>NaN</td>\n      <td>NaN</td>\n    </tr>\n    <tr>\n      <th>114</th>\n      <td>NaN</td>\n      <td>NaN</td>\n      <td>NaN</td>\n      <td>10.0</td>\n      <td>NaN</td>\n      <td>NaN</td>\n      <td>NaN</td>\n      <td>NaN</td>\n      <td>NaN</td>\n      <td>NaN</td>\n      <td>...</td>\n      <td>NaN</td>\n      <td>NaN</td>\n      <td>NaN</td>\n      <td>NaN</td>\n      <td>NaN</td>\n      <td>NaN</td>\n      <td>NaN</td>\n      <td>NaN</td>\n      <td>NaN</td>\n      <td>NaN</td>\n    </tr>\n    <tr>\n      <th>165</th>\n      <td>NaN</td>\n      <td>NaN</td>\n      <td>NaN</td>\n      <td>NaN</td>\n      <td>NaN</td>\n      <td>NaN</td>\n      <td>NaN</td>\n      <td>NaN</td>\n      <td>NaN</td>\n      <td>NaN</td>\n      <td>...</td>\n      <td>NaN</td>\n      <td>NaN</td>\n      <td>NaN</td>\n      <td>NaN</td>\n      <td>NaN</td>\n      <td>NaN</td>\n      <td>NaN</td>\n      <td>NaN</td>\n      <td>NaN</td>\n      <td>NaN</td>\n    </tr>\n    <tr>\n      <th>242</th>\n      <td>NaN</td>\n      <td>NaN</td>\n      <td>NaN</td>\n      <td>NaN</td>\n      <td>NaN</td>\n      <td>NaN</td>\n      <td>NaN</td>\n      <td>NaN</td>\n      <td>8.0</td>\n      <td>NaN</td>\n      <td>...</td>\n      <td>NaN</td>\n      <td>NaN</td>\n      <td>NaN</td>\n      <td>NaN</td>\n      <td>NaN</td>\n      <td>NaN</td>\n      <td>NaN</td>\n      <td>NaN</td>\n      <td>NaN</td>\n      <td>NaN</td>\n    </tr>\n    <tr>\n      <th>...</th>\n      <td>...</td>\n      <td>...</td>\n      <td>...</td>\n      <td>...</td>\n      <td>...</td>\n      <td>...</td>\n      <td>...</td>\n      <td>...</td>\n      <td>...</td>\n      <td>...</td>\n      <td>...</td>\n      <td>...</td>\n      <td>...</td>\n      <td>...</td>\n      <td>...</td>\n      <td>...</td>\n      <td>...</td>\n      <td>...</td>\n      <td>...</td>\n      <td>...</td>\n      <td>...</td>\n    </tr>\n    <tr>\n      <th>278653</th>\n      <td>NaN</td>\n      <td>NaN</td>\n      <td>NaN</td>\n      <td>NaN</td>\n      <td>NaN</td>\n      <td>NaN</td>\n      <td>NaN</td>\n      <td>NaN</td>\n      <td>NaN</td>\n      <td>NaN</td>\n      <td>...</td>\n      <td>NaN</td>\n      <td>NaN</td>\n      <td>NaN</td>\n      <td>NaN</td>\n      <td>NaN</td>\n      <td>NaN</td>\n      <td>NaN</td>\n      <td>NaN</td>\n      <td>NaN</td>\n      <td>NaN</td>\n    </tr>\n    <tr>\n      <th>278663</th>\n      <td>NaN</td>\n      <td>NaN</td>\n      <td>NaN</td>\n      <td>NaN</td>\n      <td>NaN</td>\n      <td>NaN</td>\n      <td>NaN</td>\n      <td>NaN</td>\n      <td>NaN</td>\n      <td>NaN</td>\n      <td>...</td>\n      <td>NaN</td>\n      <td>NaN</td>\n      <td>NaN</td>\n      <td>NaN</td>\n      <td>NaN</td>\n      <td>NaN</td>\n      <td>NaN</td>\n      <td>NaN</td>\n      <td>NaN</td>\n      <td>NaN</td>\n    </tr>\n    <tr>\n      <th>278698</th>\n      <td>NaN</td>\n      <td>NaN</td>\n      <td>NaN</td>\n      <td>NaN</td>\n      <td>NaN</td>\n      <td>NaN</td>\n      <td>NaN</td>\n      <td>NaN</td>\n      <td>NaN</td>\n      <td>NaN</td>\n      <td>...</td>\n      <td>10.0</td>\n      <td>NaN</td>\n      <td>NaN</td>\n      <td>NaN</td>\n      <td>NaN</td>\n      <td>NaN</td>\n      <td>NaN</td>\n      <td>NaN</td>\n      <td>NaN</td>\n      <td>NaN</td>\n    </tr>\n    <tr>\n      <th>278798</th>\n      <td>NaN</td>\n      <td>NaN</td>\n      <td>NaN</td>\n      <td>NaN</td>\n      <td>NaN</td>\n      <td>NaN</td>\n      <td>NaN</td>\n      <td>NaN</td>\n      <td>NaN</td>\n      <td>NaN</td>\n      <td>...</td>\n      <td>NaN</td>\n      <td>NaN</td>\n      <td>NaN</td>\n      <td>NaN</td>\n      <td>NaN</td>\n      <td>NaN</td>\n      <td>NaN</td>\n      <td>7.0</td>\n      <td>NaN</td>\n      <td>NaN</td>\n    </tr>\n    <tr>\n      <th>278843</th>\n      <td>NaN</td>\n      <td>NaN</td>\n      <td>NaN</td>\n      <td>NaN</td>\n      <td>8.0</td>\n      <td>NaN</td>\n      <td>NaN</td>\n      <td>NaN</td>\n      <td>NaN</td>\n      <td>NaN</td>\n      <td>...</td>\n      <td>NaN</td>\n      <td>NaN</td>\n      <td>NaN</td>\n      <td>NaN</td>\n      <td>NaN</td>\n      <td>NaN</td>\n      <td>NaN</td>\n      <td>NaN</td>\n      <td>NaN</td>\n      <td>NaN</td>\n    </tr>\n  </tbody>\n</table>\n<p>983 rows × 56 columns</p>\n</div>"
     },
     "execution_count": 15,
     "metadata": {},
     "output_type": "execute_result"
    }
   ],
   "source": [
    "user_book_df = common_book.pivot_table(index=[\"User-ID\"], columns=[\"Book-Title\"], values=\"Book-Rating\")\n",
    "user_book_df"
   ],
   "metadata": {
    "collapsed": false,
    "ExecuteTime": {
     "end_time": "2023-10-26T06:38:44.094837100Z",
     "start_time": "2023-10-26T06:38:43.989166900Z"
    }
   },
   "id": "152d428570431f14"
  },
  {
   "cell_type": "markdown",
   "source": [
    "# Меры сходства"
   ],
   "metadata": {
    "collapsed": false
   },
   "id": "59f65140ca4888ca"
  },
  {
   "cell_type": "markdown",
   "source": [
    "### Мера Жаккара"
   ],
   "metadata": {
    "collapsed": false
   },
   "id": "60edc580e947c46f"
  },
  {
   "cell_type": "code",
   "execution_count": 16,
   "outputs": [],
   "source": [
    "def get_intersection(a: Sequence, b: Sequence, default_value: int = 0) -> Sequence:\n",
    "    return [(a[i], b[i]) for i in range(len(a)) if a[i] != default_value and b[i] != default_value]\n",
    "\n",
    "\n",
    "def get_jaccard_measure(a: Sequence, b: Sequence, default_value: int = 0) -> float:\n",
    "    intersection = len(get_intersection(a, b, default_value))\n",
    "    # print(len(a), len(b), intersection, get_intersection(a, b))\n",
    "    return intersection / (len(a) + len(b) - intersection)"
   ],
   "metadata": {
    "collapsed": false,
    "ExecuteTime": {
     "end_time": "2023-10-26T06:38:44.146364500Z",
     "start_time": "2023-10-26T06:38:44.034092Z"
    }
   },
   "id": "40750cb992d535e2"
  },
  {
   "cell_type": "markdown",
   "source": [
    "### Косинусная мера"
   ],
   "metadata": {
    "collapsed": false
   },
   "id": "78d037eb8cc66185"
  },
  {
   "cell_type": "code",
   "execution_count": 17,
   "outputs": [],
   "source": [
    "def get_cos_measure(a: Sequence, b: Sequence) -> float:    \n",
    "    sum_a_square = sum_b_square = sum_vectors = 0\n",
    "    for i in range(len(a)):\n",
    "        sum_a_square += a[i] * a[i]\n",
    "        sum_b_square += b[i] * b[i]\n",
    "        sum_vectors += a[i] * b[i]\n",
    "    \n",
    "    return sum_vectors / (math.sqrt(sum_a_square) * math.sqrt(sum_b_square))"
   ],
   "metadata": {
    "collapsed": false,
    "ExecuteTime": {
     "end_time": "2023-10-26T06:38:44.146364500Z",
     "start_time": "2023-10-26T06:38:44.043932200Z"
    }
   },
   "id": "51e9e79f321f5ed1"
  },
  {
   "cell_type": "markdown",
   "source": [
    "### Корреляция Пирсона"
   ],
   "metadata": {
    "collapsed": false
   },
   "id": "5509544b474f72af"
  },
  {
   "cell_type": "code",
   "execution_count": 18,
   "outputs": [],
   "source": [
    "def get_pearson_measure(a: Sequence, b: Sequence) -> float:  \n",
    "    n = len(a)\n",
    "    sum_a_square = sum_b_square = sum_vectors = a_average = b_average = 0\n",
    "    for i in range(n):\n",
    "        sum_a_square += a[i] * a[i]\n",
    "        sum_b_square += b[i] * b[i]\n",
    "        sum_vectors += a[i] * b[i]\n",
    "        a_average += a[i]\n",
    "        b_average += b[i]\n",
    "    \n",
    "    a_average /= n\n",
    "    b_average /= n\n",
    "    \n",
    "    return (sum_vectors - n * a_average * b_average) / (\n",
    "        math.sqrt(sum_a_square - (n * a_average * a_average)) \n",
    "        * math.sqrt(sum_b_square - (n * b_average * b_average))\n",
    "    )"
   ],
   "metadata": {
    "collapsed": false,
    "ExecuteTime": {
     "end_time": "2023-10-26T06:38:44.166133400Z",
     "start_time": "2023-10-26T06:38:44.048442200Z"
    }
   },
   "id": "ff2d38b493be89d0"
  },
  {
   "cell_type": "markdown",
   "source": [
    "# Исследование"
   ],
   "metadata": {
    "collapsed": false
   },
   "id": "5662f410c93e308"
  },
  {
   "cell_type": "code",
   "execution_count": 19,
   "outputs": [
    {
     "data": {
      "text/plain": "Book-Title  A Bend in the Road  A Heartbreaking Work of Staggering Genius  \\\nUser-ID                                                                     \n26                         NaN                                        NaN   \n91                         NaN                                        NaN   \n114                        NaN                                        NaN   \n165                        NaN                                        NaN   \n242                        NaN                                        NaN   \n\nBook-Title  A Painted House  Angels &amp; Demons  Bridget Jones's Diary  \\\nUser-ID                                                                   \n26                      NaN                  NaN                    NaN   \n91                      NaN                  NaN                    NaN   \n114                     NaN                 10.0                    NaN   \n165                     NaN                  NaN                    NaN   \n242                     NaN                  NaN                    NaN   \n\nBook-Title  Confessions of a Shopaholic (Summer Display Opportunity)  \\\nUser-ID                                                                \n26                                                        NaN          \n91                                                        NaN          \n114                                                       NaN          \n165                                                       NaN          \n242                                                       NaN          \n\nBook-Title  Divine Secrets of the Ya-Ya Sisterhood: A Novel  Dreamcatcher  \\\nUser-ID                                                                     \n26                                                      NaN           NaN   \n91                                                      NaN           NaN   \n114                                                     NaN           NaN   \n165                                                     NaN           NaN   \n242                                                     NaN           NaN   \n\nBook-Title  Fahrenheit 451  Girl with a Pearl Earring  ...  The Summons  \\\nUser-ID                                                ...                \n26                     NaN                        NaN  ...          NaN   \n91                     NaN                        NaN  ...          NaN   \n114                    NaN                        NaN  ...          NaN   \n165                    NaN                        NaN  ...          NaN   \n242                    8.0                        NaN  ...          NaN   \n\nBook-Title  The Testament  Timeline  To Kill a Mockingbird  \\\nUser-ID                                                      \n26                    NaN       NaN                   10.0   \n91                    NaN       NaN                    NaN   \n114                   NaN       NaN                    NaN   \n165                   NaN       NaN                    NaN   \n242                   NaN       NaN                    NaN   \n\nBook-Title  Tuesdays with Morrie: An Old Man, a Young Man, and Life's Greatest Lesson  \\\nUser-ID                                                                                 \n26                                                        NaN                           \n91                                                        NaN                           \n114                                                       NaN                           \n165                                                       NaN                           \n242                                                       NaN                           \n\nBook-Title  Where the Heart Is (Oprah's Book Club (Paperback))  \\\nUser-ID                                                          \n26                                                        NaN    \n91                                                        NaN    \n114                                                       NaN    \n165                                                       NaN    \n242                                                       NaN    \n\nBook-Title  White Oleander : A Novel  \\\nUser-ID                                \n26                               NaN   \n91                               NaN   \n114                              NaN   \n165                              NaN   \n242                              NaN   \n\nBook-Title  White Oleander : A Novel (Oprah's Book Club)  \\\nUser-ID                                                    \n26                                                   NaN   \n91                                                   NaN   \n114                                                  NaN   \n165                                                  NaN   \n242                                                  NaN   \n\nBook-Title  Wicked: The Life and Times of the Wicked Witch of the West  \\\nUser-ID                                                                  \n26                                                        NaN            \n91                                                        NaN            \n114                                                       NaN            \n165                                                       NaN            \n242                                                       NaN            \n\nBook-Title  Wild Animus  \nUser-ID                  \n26                  NaN  \n91                  NaN  \n114                 NaN  \n165                 NaN  \n242                 NaN  \n\n[5 rows x 56 columns]",
      "text/html": "<div>\n<style scoped>\n    .dataframe tbody tr th:only-of-type {\n        vertical-align: middle;\n    }\n\n    .dataframe tbody tr th {\n        vertical-align: top;\n    }\n\n    .dataframe thead th {\n        text-align: right;\n    }\n</style>\n<table border=\"1\" class=\"dataframe\">\n  <thead>\n    <tr style=\"text-align: right;\">\n      <th>Book-Title</th>\n      <th>A Bend in the Road</th>\n      <th>A Heartbreaking Work of Staggering Genius</th>\n      <th>A Painted House</th>\n      <th>Angels &amp;amp; Demons</th>\n      <th>Bridget Jones's Diary</th>\n      <th>Confessions of a Shopaholic (Summer Display Opportunity)</th>\n      <th>Divine Secrets of the Ya-Ya Sisterhood: A Novel</th>\n      <th>Dreamcatcher</th>\n      <th>Fahrenheit 451</th>\n      <th>Girl with a Pearl Earring</th>\n      <th>...</th>\n      <th>The Summons</th>\n      <th>The Testament</th>\n      <th>Timeline</th>\n      <th>To Kill a Mockingbird</th>\n      <th>Tuesdays with Morrie: An Old Man, a Young Man, and Life's Greatest Lesson</th>\n      <th>Where the Heart Is (Oprah's Book Club (Paperback))</th>\n      <th>White Oleander : A Novel</th>\n      <th>White Oleander : A Novel (Oprah's Book Club)</th>\n      <th>Wicked: The Life and Times of the Wicked Witch of the West</th>\n      <th>Wild Animus</th>\n    </tr>\n    <tr>\n      <th>User-ID</th>\n      <th></th>\n      <th></th>\n      <th></th>\n      <th></th>\n      <th></th>\n      <th></th>\n      <th></th>\n      <th></th>\n      <th></th>\n      <th></th>\n      <th></th>\n      <th></th>\n      <th></th>\n      <th></th>\n      <th></th>\n      <th></th>\n      <th></th>\n      <th></th>\n      <th></th>\n      <th></th>\n      <th></th>\n    </tr>\n  </thead>\n  <tbody>\n    <tr>\n      <th>26</th>\n      <td>NaN</td>\n      <td>NaN</td>\n      <td>NaN</td>\n      <td>NaN</td>\n      <td>NaN</td>\n      <td>NaN</td>\n      <td>NaN</td>\n      <td>NaN</td>\n      <td>NaN</td>\n      <td>NaN</td>\n      <td>...</td>\n      <td>NaN</td>\n      <td>NaN</td>\n      <td>NaN</td>\n      <td>10.0</td>\n      <td>NaN</td>\n      <td>NaN</td>\n      <td>NaN</td>\n      <td>NaN</td>\n      <td>NaN</td>\n      <td>NaN</td>\n    </tr>\n    <tr>\n      <th>91</th>\n      <td>NaN</td>\n      <td>NaN</td>\n      <td>NaN</td>\n      <td>NaN</td>\n      <td>NaN</td>\n      <td>NaN</td>\n      <td>NaN</td>\n      <td>NaN</td>\n      <td>NaN</td>\n      <td>NaN</td>\n      <td>...</td>\n      <td>NaN</td>\n      <td>NaN</td>\n      <td>NaN</td>\n      <td>NaN</td>\n      <td>NaN</td>\n      <td>NaN</td>\n      <td>NaN</td>\n      <td>NaN</td>\n      <td>NaN</td>\n      <td>NaN</td>\n    </tr>\n    <tr>\n      <th>114</th>\n      <td>NaN</td>\n      <td>NaN</td>\n      <td>NaN</td>\n      <td>10.0</td>\n      <td>NaN</td>\n      <td>NaN</td>\n      <td>NaN</td>\n      <td>NaN</td>\n      <td>NaN</td>\n      <td>NaN</td>\n      <td>...</td>\n      <td>NaN</td>\n      <td>NaN</td>\n      <td>NaN</td>\n      <td>NaN</td>\n      <td>NaN</td>\n      <td>NaN</td>\n      <td>NaN</td>\n      <td>NaN</td>\n      <td>NaN</td>\n      <td>NaN</td>\n    </tr>\n    <tr>\n      <th>165</th>\n      <td>NaN</td>\n      <td>NaN</td>\n      <td>NaN</td>\n      <td>NaN</td>\n      <td>NaN</td>\n      <td>NaN</td>\n      <td>NaN</td>\n      <td>NaN</td>\n      <td>NaN</td>\n      <td>NaN</td>\n      <td>...</td>\n      <td>NaN</td>\n      <td>NaN</td>\n      <td>NaN</td>\n      <td>NaN</td>\n      <td>NaN</td>\n      <td>NaN</td>\n      <td>NaN</td>\n      <td>NaN</td>\n      <td>NaN</td>\n      <td>NaN</td>\n    </tr>\n    <tr>\n      <th>242</th>\n      <td>NaN</td>\n      <td>NaN</td>\n      <td>NaN</td>\n      <td>NaN</td>\n      <td>NaN</td>\n      <td>NaN</td>\n      <td>NaN</td>\n      <td>NaN</td>\n      <td>8.0</td>\n      <td>NaN</td>\n      <td>...</td>\n      <td>NaN</td>\n      <td>NaN</td>\n      <td>NaN</td>\n      <td>NaN</td>\n      <td>NaN</td>\n      <td>NaN</td>\n      <td>NaN</td>\n      <td>NaN</td>\n      <td>NaN</td>\n      <td>NaN</td>\n    </tr>\n  </tbody>\n</table>\n<p>5 rows × 56 columns</p>\n</div>"
     },
     "execution_count": 19,
     "metadata": {},
     "output_type": "execute_result"
    }
   ],
   "source": [
    "user_book_df.head()"
   ],
   "metadata": {
    "collapsed": false,
    "ExecuteTime": {
     "end_time": "2023-10-26T06:38:44.190169700Z",
     "start_time": "2023-10-26T06:38:44.059361700Z"
    }
   },
   "id": "fc4992d90f5ab779"
  },
  {
   "cell_type": "code",
   "execution_count": 20,
   "outputs": [
    {
     "data": {
      "text/plain": "Book-Title  A Bend in the Road  A Heartbreaking Work of Staggering Genius  \\\nUser-ID                                                                     \n26                         0.0                                        0.0   \n91                         0.0                                        0.0   \n114                        0.0                                        0.0   \n165                        0.0                                        0.0   \n242                        0.0                                        0.0   \n...                        ...                                        ...   \n278653                     0.0                                        0.0   \n278663                     0.0                                        0.0   \n278698                     0.0                                        0.0   \n278798                     0.0                                        0.0   \n278843                     0.0                                        0.0   \n\nBook-Title  A Painted House  Angels &amp; Demons  Bridget Jones's Diary  \\\nUser-ID                                                                   \n26                      0.0                  0.0                    0.0   \n91                      0.0                  0.0                    0.0   \n114                     0.0                 10.0                    0.0   \n165                     0.0                  0.0                    0.0   \n242                     0.0                  0.0                    0.0   \n...                     ...                  ...                    ...   \n278653                  0.0                  0.0                    0.0   \n278663                  0.0                  0.0                    0.0   \n278698                  0.0                  0.0                    0.0   \n278798                  0.0                  0.0                    0.0   \n278843                  0.0                  0.0                    8.0   \n\nBook-Title  Confessions of a Shopaholic (Summer Display Opportunity)  \\\nUser-ID                                                                \n26                                                        0.0          \n91                                                        0.0          \n114                                                       0.0          \n165                                                       0.0          \n242                                                       0.0          \n...                                                       ...          \n278653                                                    0.0          \n278663                                                    0.0          \n278698                                                    0.0          \n278798                                                    0.0          \n278843                                                    0.0          \n\nBook-Title  Divine Secrets of the Ya-Ya Sisterhood: A Novel  Dreamcatcher  \\\nUser-ID                                                                     \n26                                                      0.0           0.0   \n91                                                      0.0           0.0   \n114                                                     0.0           0.0   \n165                                                     0.0           0.0   \n242                                                     0.0           0.0   \n...                                                     ...           ...   \n278653                                                  0.0           0.0   \n278663                                                  0.0           0.0   \n278698                                                  0.0           0.0   \n278798                                                  0.0           0.0   \n278843                                                  0.0           0.0   \n\nBook-Title  Fahrenheit 451  Girl with a Pearl Earring  ...  The Summons  \\\nUser-ID                                                ...                \n26                     0.0                        0.0  ...          0.0   \n91                     0.0                        0.0  ...          0.0   \n114                    0.0                        0.0  ...          0.0   \n165                    0.0                        0.0  ...          0.0   \n242                    8.0                        0.0  ...          0.0   \n...                    ...                        ...  ...          ...   \n278653                 0.0                        0.0  ...          0.0   \n278663                 0.0                        0.0  ...          0.0   \n278698                 0.0                        0.0  ...         10.0   \n278798                 0.0                        0.0  ...          0.0   \n278843                 0.0                        0.0  ...          0.0   \n\nBook-Title  The Testament  Timeline  To Kill a Mockingbird  \\\nUser-ID                                                      \n26                    0.0       0.0                   10.0   \n91                    0.0       0.0                    0.0   \n114                   0.0       0.0                    0.0   \n165                   0.0       0.0                    0.0   \n242                   0.0       0.0                    0.0   \n...                   ...       ...                    ...   \n278653                0.0       0.0                    0.0   \n278663                0.0       0.0                    0.0   \n278698                0.0       0.0                    0.0   \n278798                0.0       0.0                    0.0   \n278843                0.0       0.0                    0.0   \n\nBook-Title  Tuesdays with Morrie: An Old Man, a Young Man, and Life's Greatest Lesson  \\\nUser-ID                                                                                 \n26                                                        0.0                           \n91                                                        0.0                           \n114                                                       0.0                           \n165                                                       0.0                           \n242                                                       0.0                           \n...                                                       ...                           \n278653                                                    0.0                           \n278663                                                    0.0                           \n278698                                                    0.0                           \n278798                                                    0.0                           \n278843                                                    0.0                           \n\nBook-Title  Where the Heart Is (Oprah's Book Club (Paperback))  \\\nUser-ID                                                          \n26                                                        0.0    \n91                                                        0.0    \n114                                                       0.0    \n165                                                       0.0    \n242                                                       0.0    \n...                                                       ...    \n278653                                                    0.0    \n278663                                                    0.0    \n278698                                                    0.0    \n278798                                                    0.0    \n278843                                                    0.0    \n\nBook-Title  White Oleander : A Novel  \\\nUser-ID                                \n26                               0.0   \n91                               0.0   \n114                              0.0   \n165                              0.0   \n242                              0.0   \n...                              ...   \n278653                           0.0   \n278663                           0.0   \n278698                           0.0   \n278798                           0.0   \n278843                           0.0   \n\nBook-Title  White Oleander : A Novel (Oprah's Book Club)  \\\nUser-ID                                                    \n26                                                   0.0   \n91                                                   0.0   \n114                                                  0.0   \n165                                                  0.0   \n242                                                  0.0   \n...                                                  ...   \n278653                                               0.0   \n278663                                               0.0   \n278698                                               0.0   \n278798                                               7.0   \n278843                                               0.0   \n\nBook-Title  Wicked: The Life and Times of the Wicked Witch of the West  \\\nUser-ID                                                                  \n26                                                        0.0            \n91                                                        0.0            \n114                                                       0.0            \n165                                                       0.0            \n242                                                       0.0            \n...                                                       ...            \n278653                                                    0.0            \n278663                                                    0.0            \n278698                                                    0.0            \n278798                                                    0.0            \n278843                                                    0.0            \n\nBook-Title  Wild Animus  \nUser-ID                  \n26                  0.0  \n91                  0.0  \n114                 0.0  \n165                 0.0  \n242                 0.0  \n...                 ...  \n278653              0.0  \n278663              0.0  \n278698              0.0  \n278798              0.0  \n278843              0.0  \n\n[983 rows x 56 columns]",
      "text/html": "<div>\n<style scoped>\n    .dataframe tbody tr th:only-of-type {\n        vertical-align: middle;\n    }\n\n    .dataframe tbody tr th {\n        vertical-align: top;\n    }\n\n    .dataframe thead th {\n        text-align: right;\n    }\n</style>\n<table border=\"1\" class=\"dataframe\">\n  <thead>\n    <tr style=\"text-align: right;\">\n      <th>Book-Title</th>\n      <th>A Bend in the Road</th>\n      <th>A Heartbreaking Work of Staggering Genius</th>\n      <th>A Painted House</th>\n      <th>Angels &amp;amp; Demons</th>\n      <th>Bridget Jones's Diary</th>\n      <th>Confessions of a Shopaholic (Summer Display Opportunity)</th>\n      <th>Divine Secrets of the Ya-Ya Sisterhood: A Novel</th>\n      <th>Dreamcatcher</th>\n      <th>Fahrenheit 451</th>\n      <th>Girl with a Pearl Earring</th>\n      <th>...</th>\n      <th>The Summons</th>\n      <th>The Testament</th>\n      <th>Timeline</th>\n      <th>To Kill a Mockingbird</th>\n      <th>Tuesdays with Morrie: An Old Man, a Young Man, and Life's Greatest Lesson</th>\n      <th>Where the Heart Is (Oprah's Book Club (Paperback))</th>\n      <th>White Oleander : A Novel</th>\n      <th>White Oleander : A Novel (Oprah's Book Club)</th>\n      <th>Wicked: The Life and Times of the Wicked Witch of the West</th>\n      <th>Wild Animus</th>\n    </tr>\n    <tr>\n      <th>User-ID</th>\n      <th></th>\n      <th></th>\n      <th></th>\n      <th></th>\n      <th></th>\n      <th></th>\n      <th></th>\n      <th></th>\n      <th></th>\n      <th></th>\n      <th></th>\n      <th></th>\n      <th></th>\n      <th></th>\n      <th></th>\n      <th></th>\n      <th></th>\n      <th></th>\n      <th></th>\n      <th></th>\n      <th></th>\n    </tr>\n  </thead>\n  <tbody>\n    <tr>\n      <th>26</th>\n      <td>0.0</td>\n      <td>0.0</td>\n      <td>0.0</td>\n      <td>0.0</td>\n      <td>0.0</td>\n      <td>0.0</td>\n      <td>0.0</td>\n      <td>0.0</td>\n      <td>0.0</td>\n      <td>0.0</td>\n      <td>...</td>\n      <td>0.0</td>\n      <td>0.0</td>\n      <td>0.0</td>\n      <td>10.0</td>\n      <td>0.0</td>\n      <td>0.0</td>\n      <td>0.0</td>\n      <td>0.0</td>\n      <td>0.0</td>\n      <td>0.0</td>\n    </tr>\n    <tr>\n      <th>91</th>\n      <td>0.0</td>\n      <td>0.0</td>\n      <td>0.0</td>\n      <td>0.0</td>\n      <td>0.0</td>\n      <td>0.0</td>\n      <td>0.0</td>\n      <td>0.0</td>\n      <td>0.0</td>\n      <td>0.0</td>\n      <td>...</td>\n      <td>0.0</td>\n      <td>0.0</td>\n      <td>0.0</td>\n      <td>0.0</td>\n      <td>0.0</td>\n      <td>0.0</td>\n      <td>0.0</td>\n      <td>0.0</td>\n      <td>0.0</td>\n      <td>0.0</td>\n    </tr>\n    <tr>\n      <th>114</th>\n      <td>0.0</td>\n      <td>0.0</td>\n      <td>0.0</td>\n      <td>10.0</td>\n      <td>0.0</td>\n      <td>0.0</td>\n      <td>0.0</td>\n      <td>0.0</td>\n      <td>0.0</td>\n      <td>0.0</td>\n      <td>...</td>\n      <td>0.0</td>\n      <td>0.0</td>\n      <td>0.0</td>\n      <td>0.0</td>\n      <td>0.0</td>\n      <td>0.0</td>\n      <td>0.0</td>\n      <td>0.0</td>\n      <td>0.0</td>\n      <td>0.0</td>\n    </tr>\n    <tr>\n      <th>165</th>\n      <td>0.0</td>\n      <td>0.0</td>\n      <td>0.0</td>\n      <td>0.0</td>\n      <td>0.0</td>\n      <td>0.0</td>\n      <td>0.0</td>\n      <td>0.0</td>\n      <td>0.0</td>\n      <td>0.0</td>\n      <td>...</td>\n      <td>0.0</td>\n      <td>0.0</td>\n      <td>0.0</td>\n      <td>0.0</td>\n      <td>0.0</td>\n      <td>0.0</td>\n      <td>0.0</td>\n      <td>0.0</td>\n      <td>0.0</td>\n      <td>0.0</td>\n    </tr>\n    <tr>\n      <th>242</th>\n      <td>0.0</td>\n      <td>0.0</td>\n      <td>0.0</td>\n      <td>0.0</td>\n      <td>0.0</td>\n      <td>0.0</td>\n      <td>0.0</td>\n      <td>0.0</td>\n      <td>8.0</td>\n      <td>0.0</td>\n      <td>...</td>\n      <td>0.0</td>\n      <td>0.0</td>\n      <td>0.0</td>\n      <td>0.0</td>\n      <td>0.0</td>\n      <td>0.0</td>\n      <td>0.0</td>\n      <td>0.0</td>\n      <td>0.0</td>\n      <td>0.0</td>\n    </tr>\n    <tr>\n      <th>...</th>\n      <td>...</td>\n      <td>...</td>\n      <td>...</td>\n      <td>...</td>\n      <td>...</td>\n      <td>...</td>\n      <td>...</td>\n      <td>...</td>\n      <td>...</td>\n      <td>...</td>\n      <td>...</td>\n      <td>...</td>\n      <td>...</td>\n      <td>...</td>\n      <td>...</td>\n      <td>...</td>\n      <td>...</td>\n      <td>...</td>\n      <td>...</td>\n      <td>...</td>\n      <td>...</td>\n    </tr>\n    <tr>\n      <th>278653</th>\n      <td>0.0</td>\n      <td>0.0</td>\n      <td>0.0</td>\n      <td>0.0</td>\n      <td>0.0</td>\n      <td>0.0</td>\n      <td>0.0</td>\n      <td>0.0</td>\n      <td>0.0</td>\n      <td>0.0</td>\n      <td>...</td>\n      <td>0.0</td>\n      <td>0.0</td>\n      <td>0.0</td>\n      <td>0.0</td>\n      <td>0.0</td>\n      <td>0.0</td>\n      <td>0.0</td>\n      <td>0.0</td>\n      <td>0.0</td>\n      <td>0.0</td>\n    </tr>\n    <tr>\n      <th>278663</th>\n      <td>0.0</td>\n      <td>0.0</td>\n      <td>0.0</td>\n      <td>0.0</td>\n      <td>0.0</td>\n      <td>0.0</td>\n      <td>0.0</td>\n      <td>0.0</td>\n      <td>0.0</td>\n      <td>0.0</td>\n      <td>...</td>\n      <td>0.0</td>\n      <td>0.0</td>\n      <td>0.0</td>\n      <td>0.0</td>\n      <td>0.0</td>\n      <td>0.0</td>\n      <td>0.0</td>\n      <td>0.0</td>\n      <td>0.0</td>\n      <td>0.0</td>\n    </tr>\n    <tr>\n      <th>278698</th>\n      <td>0.0</td>\n      <td>0.0</td>\n      <td>0.0</td>\n      <td>0.0</td>\n      <td>0.0</td>\n      <td>0.0</td>\n      <td>0.0</td>\n      <td>0.0</td>\n      <td>0.0</td>\n      <td>0.0</td>\n      <td>...</td>\n      <td>10.0</td>\n      <td>0.0</td>\n      <td>0.0</td>\n      <td>0.0</td>\n      <td>0.0</td>\n      <td>0.0</td>\n      <td>0.0</td>\n      <td>0.0</td>\n      <td>0.0</td>\n      <td>0.0</td>\n    </tr>\n    <tr>\n      <th>278798</th>\n      <td>0.0</td>\n      <td>0.0</td>\n      <td>0.0</td>\n      <td>0.0</td>\n      <td>0.0</td>\n      <td>0.0</td>\n      <td>0.0</td>\n      <td>0.0</td>\n      <td>0.0</td>\n      <td>0.0</td>\n      <td>...</td>\n      <td>0.0</td>\n      <td>0.0</td>\n      <td>0.0</td>\n      <td>0.0</td>\n      <td>0.0</td>\n      <td>0.0</td>\n      <td>0.0</td>\n      <td>7.0</td>\n      <td>0.0</td>\n      <td>0.0</td>\n    </tr>\n    <tr>\n      <th>278843</th>\n      <td>0.0</td>\n      <td>0.0</td>\n      <td>0.0</td>\n      <td>0.0</td>\n      <td>8.0</td>\n      <td>0.0</td>\n      <td>0.0</td>\n      <td>0.0</td>\n      <td>0.0</td>\n      <td>0.0</td>\n      <td>...</td>\n      <td>0.0</td>\n      <td>0.0</td>\n      <td>0.0</td>\n      <td>0.0</td>\n      <td>0.0</td>\n      <td>0.0</td>\n      <td>0.0</td>\n      <td>0.0</td>\n      <td>0.0</td>\n      <td>0.0</td>\n    </tr>\n  </tbody>\n</table>\n<p>983 rows × 56 columns</p>\n</div>"
     },
     "execution_count": 20,
     "metadata": {},
     "output_type": "execute_result"
    }
   ],
   "source": [
    "user_book_filled = user_book_df.fillna(0)\n",
    "user_book_filled"
   ],
   "metadata": {
    "collapsed": false,
    "ExecuteTime": {
     "end_time": "2023-10-26T06:38:44.215761Z",
     "start_time": "2023-10-26T06:38:44.078839600Z"
    }
   },
   "id": "ac1b8254e7192476"
  },
  {
   "cell_type": "code",
   "execution_count": 21,
   "outputs": [
    {
     "data": {
      "text/plain": "User-ID                                             26      91      114     \\\nBook-Title                                                                   \nA Bend in the Road                                     0.0     0.0     0.0   \nA Heartbreaking Work of Staggering Genius              0.0     0.0     0.0   \nA Painted House                                        0.0     0.0     0.0   \nAngels &amp; Demons                                    0.0     0.0    10.0   \nBridget Jones's Diary                                  0.0     0.0     0.0   \nConfessions of a Shopaholic (Summer Display Opp...     0.0     0.0     0.0   \nDivine Secrets of the Ya-Ya Sisterhood: A Novel        0.0     0.0     0.0   \nDreamcatcher                                           0.0     0.0     0.0   \nFahrenheit 451                                         0.0     0.0     0.0   \nGirl with a Pearl Earring                              0.0     0.0     0.0   \nGood in Bed                                            0.0     0.0     0.0   \nHarry Potter and the Chamber of Secrets (Book 2)       0.0     0.0     0.0   \nHarry Potter and the Goblet of Fire (Book 4)           0.0     0.0     0.0   \nHarry Potter and the Prisoner of Azkaban (Book 3)      0.0     0.0     0.0   \nHarry Potter and the Sorcerer's Stone (Harry Po...     0.0     0.0     0.0   \nHouse of Sand and Fog                                  0.0     0.0     0.0   \nIcy Sparks                                             0.0     0.0     0.0   \nJurassic Park                                          0.0     0.0     0.0   \nLife of Pi                                             0.0     0.0     0.0   \nLittle Altars Everywhere: A Novel                      0.0     0.0     0.0   \nMessage in a Bottle                                    0.0     0.0     0.0   \nSHIPPING NEWS                                          0.0     0.0     0.0   \nShe's Come Undone (Oprah's Book Club (Paperback))      0.0     0.0     0.0   \nShe's Come Undone (Oprah's Book Club)                  0.0     0.0     0.0   \nSnow Falling on Cedars                                 0.0     0.0     0.0   \nSummer Sisters                                         0.0     0.0     0.0   \nThe Bad Beginning (A Series of Unfortunate Even...     0.0     0.0     0.0   \nThe Bean Trees                                         0.0     0.0     0.0   \nThe Brethren                                           0.0     0.0     0.0   \nThe Catcher in the Rye                                 0.0     9.0     0.0   \nThe Client                                             0.0     0.0     0.0   \nThe Da Vinci Code                                      0.0     0.0     0.0   \nThe Firm                                               0.0     0.0     0.0   \nThe Five People You Meet in Heaven                     0.0     0.0     0.0   \nThe Girls' Guide to Hunting and Fishing                0.0     0.0     0.0   \nThe Joy Luck Club                                      0.0     0.0     0.0   \nThe Lovely Bones: A Novel                              0.0     0.0     0.0   \nThe Nanny Diaries: A Novel                             0.0     0.0     0.0   \nThe Notebook                                           0.0     0.0     0.0   \nThe Partner                                            0.0     0.0     0.0   \nThe Pelican Brief                                      0.0     0.0     0.0   \nThe Pilot's Wife : A Novel                             0.0     0.0     0.0   \nThe Poisonwood Bible: A Novel                          0.0     0.0     0.0   \nThe Reader                                             0.0     0.0     0.0   \nThe Red Tent (Bestselling Backlist)                    0.0     0.0     0.0   \nThe Secret Life of Bees                                0.0     0.0     0.0   \nThe Summons                                            0.0     0.0     0.0   \nThe Testament                                          0.0     0.0     0.0   \nTimeline                                               0.0     0.0     0.0   \nTo Kill a Mockingbird                                 10.0     0.0     0.0   \nTuesdays with Morrie: An Old Man, a Young Man, ...     0.0     0.0     0.0   \nWhere the Heart Is (Oprah's Book Club (Paperback))     0.0     0.0     0.0   \nWhite Oleander : A Novel                               0.0     0.0     0.0   \nWhite Oleander : A Novel (Oprah's Book Club)           0.0     0.0     0.0   \nWicked: The Life and Times of the Wicked Witch ...     0.0     0.0     0.0   \nWild Animus                                            0.0     0.0     0.0   \n\nUser-ID                                             165     242     243     \\\nBook-Title                                                                   \nA Bend in the Road                                     0.0     0.0     0.0   \nA Heartbreaking Work of Staggering Genius              0.0     0.0     0.0   \nA Painted House                                        0.0     0.0     7.0   \nAngels &amp; Demons                                    0.0     0.0     0.0   \nBridget Jones's Diary                                  0.0     0.0     0.0   \nConfessions of a Shopaholic (Summer Display Opp...     0.0     0.0     0.0   \nDivine Secrets of the Ya-Ya Sisterhood: A Novel        0.0     0.0     0.0   \nDreamcatcher                                           0.0     0.0     0.0   \nFahrenheit 451                                         0.0     8.0     0.0   \nGirl with a Pearl Earring                              0.0     0.0     0.0   \nGood in Bed                                            0.0     0.0     0.0   \nHarry Potter and the Chamber of Secrets (Book 2)       0.0     0.0     0.0   \nHarry Potter and the Goblet of Fire (Book 4)           0.0     0.0     0.0   \nHarry Potter and the Prisoner of Azkaban (Book 3)      0.0     0.0     0.0   \nHarry Potter and the Sorcerer's Stone (Harry Po...     0.0     0.0     0.0   \nHouse of Sand and Fog                                  0.0     0.0     0.0   \nIcy Sparks                                             0.0     0.0     0.0   \nJurassic Park                                          0.0     0.0     0.0   \nLife of Pi                                             0.0     0.0     0.0   \nLittle Altars Everywhere: A Novel                      9.0     0.0     0.0   \nMessage in a Bottle                                    0.0     0.0     0.0   \nSHIPPING NEWS                                          0.0     0.0     0.0   \nShe's Come Undone (Oprah's Book Club (Paperback))      0.0     0.0     0.0   \nShe's Come Undone (Oprah's Book Club)                  0.0     0.0     0.0   \nSnow Falling on Cedars                                 0.0     0.0     0.0   \nSummer Sisters                                         0.0     0.0     0.0   \nThe Bad Beginning (A Series of Unfortunate Even...     0.0     0.0     0.0   \nThe Bean Trees                                         0.0     0.0    10.0   \nThe Brethren                                           0.0     0.0     0.0   \nThe Catcher in the Rye                                 0.0     0.0     0.0   \nThe Client                                             0.0     0.0     0.0   \nThe Da Vinci Code                                      0.0     0.0     0.0   \nThe Firm                                               0.0     0.0     0.0   \nThe Five People You Meet in Heaven                     0.0     0.0     0.0   \nThe Girls' Guide to Hunting and Fishing                0.0     0.0     0.0   \nThe Joy Luck Club                                      0.0     0.0     0.0   \nThe Lovely Bones: A Novel                              0.0     0.0     0.0   \nThe Nanny Diaries: A Novel                             0.0     0.0     0.0   \nThe Notebook                                           0.0     0.0     0.0   \nThe Partner                                            0.0     0.0     0.0   \nThe Pelican Brief                                      0.0     0.0     0.0   \nThe Pilot's Wife : A Novel                             0.0     0.0     9.0   \nThe Poisonwood Bible: A Novel                          0.0     0.0     0.0   \nThe Reader                                             0.0     0.0     0.0   \nThe Red Tent (Bestselling Backlist)                    0.0     0.0     0.0   \nThe Secret Life of Bees                                0.0     0.0     0.0   \nThe Summons                                            0.0     0.0     0.0   \nThe Testament                                          0.0     0.0     0.0   \nTimeline                                               0.0     0.0     0.0   \nTo Kill a Mockingbird                                  0.0     0.0     0.0   \nTuesdays with Morrie: An Old Man, a Young Man, ...     0.0     0.0     0.0   \nWhere the Heart Is (Oprah's Book Club (Paperback))     0.0     0.0     0.0   \nWhite Oleander : A Novel                               0.0     0.0     0.0   \nWhite Oleander : A Novel (Oprah's Book Club)           0.0     0.0     0.0   \nWicked: The Life and Times of the Wicked Witch ...     0.0     0.0     0.0   \nWild Animus                                            0.0     0.0     0.0   \n\nUser-ID                                             244     254     256     \\\nBook-Title                                                                   \nA Bend in the Road                                     0.0     0.0     0.0   \nA Heartbreaking Work of Staggering Genius              0.0     0.0     0.0   \nA Painted House                                        0.0     0.0     8.0   \nAngels &amp; Demons                                    0.0     0.0     0.0   \nBridget Jones's Diary                                  0.0     0.0     0.0   \nConfessions of a Shopaholic (Summer Display Opp...     0.0     0.0     0.0   \nDivine Secrets of the Ya-Ya Sisterhood: A Novel        0.0     0.0     0.0   \nDreamcatcher                                           0.0     0.0     0.0   \nFahrenheit 451                                         0.0     0.0     0.0   \nGirl with a Pearl Earring                              0.0     0.0     0.0   \nGood in Bed                                            0.0     0.0     0.0   \nHarry Potter and the Chamber of Secrets (Book 2)       0.0     9.0     0.0   \nHarry Potter and the Goblet of Fire (Book 4)           0.0     9.0     0.0   \nHarry Potter and the Prisoner of Azkaban (Book 3)      0.0     9.0     0.0   \nHarry Potter and the Sorcerer's Stone (Harry Po...     0.0     0.0     0.0   \nHouse of Sand and Fog                                  0.0     0.0     0.0   \nIcy Sparks                                             0.0     0.0     0.0   \nJurassic Park                                          0.0     0.0     0.0   \nLife of Pi                                             9.0     0.0     0.0   \nLittle Altars Everywhere: A Novel                      0.0     0.0     0.0   \nMessage in a Bottle                                    0.0     0.0     0.0   \nSHIPPING NEWS                                          0.0     0.0     0.0   \nShe's Come Undone (Oprah's Book Club (Paperback))      0.0     0.0     0.0   \nShe's Come Undone (Oprah's Book Club)                  0.0     7.0     0.0   \nSnow Falling on Cedars                                 0.0     0.0     0.0   \nSummer Sisters                                         0.0     0.0     0.0   \nThe Bad Beginning (A Series of Unfortunate Even...     0.0     0.0     0.0   \nThe Bean Trees                                         0.0     0.0     0.0   \nThe Brethren                                           0.0     0.0     0.0   \nThe Catcher in the Rye                                 0.0     0.0     0.0   \nThe Client                                             0.0     0.0     0.0   \nThe Da Vinci Code                                      0.0     0.0     0.0   \nThe Firm                                               0.0     0.0     0.0   \nThe Five People You Meet in Heaven                     0.0     0.0     0.0   \nThe Girls' Guide to Hunting and Fishing                0.0     0.0     0.0   \nThe Joy Luck Club                                      0.0     0.0     0.0   \nThe Lovely Bones: A Novel                              0.0     0.0     0.0   \nThe Nanny Diaries: A Novel                             0.0     0.0     0.0   \nThe Notebook                                           0.0     0.0     0.0   \nThe Partner                                            0.0     0.0     0.0   \nThe Pelican Brief                                      0.0     0.0     0.0   \nThe Pilot's Wife : A Novel                             0.0     0.0     0.0   \nThe Poisonwood Bible: A Novel                          0.0     0.0     0.0   \nThe Reader                                             0.0     0.0     0.0   \nThe Red Tent (Bestselling Backlist)                    0.0     0.0     0.0   \nThe Secret Life of Bees                                0.0     9.0     0.0   \nThe Summons                                            0.0     0.0     0.0   \nThe Testament                                          0.0     0.0     0.0   \nTimeline                                               0.0     0.0     0.0   \nTo Kill a Mockingbird                                  0.0     0.0     0.0   \nTuesdays with Morrie: An Old Man, a Young Man, ...     0.0     0.0     0.0   \nWhere the Heart Is (Oprah's Book Club (Paperback))     0.0     0.0     0.0   \nWhite Oleander : A Novel                               0.0     0.0     0.0   \nWhite Oleander : A Novel (Oprah's Book Club)           0.0     0.0     0.0   \nWicked: The Life and Times of the Wicked Witch ...     8.0     0.0     0.0   \nWild Animus                                            0.0     0.0     0.0   \n\nUser-ID                                             280     ...  278543  \\\nBook-Title                                                  ...           \nA Bend in the Road                                     0.0  ...     0.0   \nA Heartbreaking Work of Staggering Genius              0.0  ...     0.0   \nA Painted House                                        0.0  ...     0.0   \nAngels &amp; Demons                                    0.0  ...     0.0   \nBridget Jones's Diary                                  0.0  ...     0.0   \nConfessions of a Shopaholic (Summer Display Opp...     0.0  ...     0.0   \nDivine Secrets of the Ya-Ya Sisterhood: A Novel        0.0  ...     0.0   \nDreamcatcher                                           0.0  ...     0.0   \nFahrenheit 451                                         0.0  ...     0.0   \nGirl with a Pearl Earring                              0.0  ...     0.0   \nGood in Bed                                            0.0  ...     0.0   \nHarry Potter and the Chamber of Secrets (Book 2)       0.0  ...     0.0   \nHarry Potter and the Goblet of Fire (Book 4)           0.0  ...     0.0   \nHarry Potter and the Prisoner of Azkaban (Book 3)      0.0  ...     0.0   \nHarry Potter and the Sorcerer's Stone (Harry Po...     0.0  ...     0.0   \nHouse of Sand and Fog                                  0.0  ...     0.0   \nIcy Sparks                                             0.0  ...     0.0   \nJurassic Park                                          0.0  ...     0.0   \nLife of Pi                                             0.0  ...     0.0   \nLittle Altars Everywhere: A Novel                      0.0  ...     0.0   \nMessage in a Bottle                                    0.0  ...     0.0   \nSHIPPING NEWS                                          0.0  ...     0.0   \nShe's Come Undone (Oprah's Book Club (Paperback))      0.0  ...     0.0   \nShe's Come Undone (Oprah's Book Club)                  0.0  ...     0.0   \nSnow Falling on Cedars                                 0.0  ...     0.0   \nSummer Sisters                                         0.0  ...     0.0   \nThe Bad Beginning (A Series of Unfortunate Even...     0.0  ...     0.0   \nThe Bean Trees                                         0.0  ...     0.0   \nThe Brethren                                           0.0  ...     0.0   \nThe Catcher in the Rye                                 7.0  ...     0.0   \nThe Client                                             0.0  ...     0.0   \nThe Da Vinci Code                                      0.0  ...     0.0   \nThe Firm                                               0.0  ...     0.0   \nThe Five People You Meet in Heaven                     0.0  ...     0.0   \nThe Girls' Guide to Hunting and Fishing                0.0  ...     0.0   \nThe Joy Luck Club                                      0.0  ...     0.0   \nThe Lovely Bones: A Novel                              0.0  ...     0.0   \nThe Nanny Diaries: A Novel                             0.0  ...     0.0   \nThe Notebook                                           0.0  ...     5.0   \nThe Partner                                            0.0  ...     0.0   \nThe Pelican Brief                                      0.0  ...     0.0   \nThe Pilot's Wife : A Novel                             0.0  ...     0.0   \nThe Poisonwood Bible: A Novel                          0.0  ...     0.0   \nThe Reader                                             0.0  ...     0.0   \nThe Red Tent (Bestselling Backlist)                    0.0  ...     0.0   \nThe Secret Life of Bees                                0.0  ...     0.0   \nThe Summons                                            0.0  ...     0.0   \nThe Testament                                          0.0  ...     0.0   \nTimeline                                               0.0  ...     0.0   \nTo Kill a Mockingbird                                  0.0  ...     0.0   \nTuesdays with Morrie: An Old Man, a Young Man, ...     0.0  ...     0.0   \nWhere the Heart Is (Oprah's Book Club (Paperback))     0.0  ...     0.0   \nWhite Oleander : A Novel                               0.0  ...     0.0   \nWhite Oleander : A Novel (Oprah's Book Club)           0.0  ...     0.0   \nWicked: The Life and Times of the Wicked Witch ...     0.0  ...     0.0   \nWild Animus                                            0.0  ...     0.0   \n\nUser-ID                                             278552  278554  278586  \\\nBook-Title                                                                   \nA Bend in the Road                                     0.0     0.0     0.0   \nA Heartbreaking Work of Staggering Genius              0.0     0.0     0.0   \nA Painted House                                        0.0     0.0     0.0   \nAngels &amp; Demons                                    0.0     0.0     0.0   \nBridget Jones's Diary                                  0.0     8.0     0.0   \nConfessions of a Shopaholic (Summer Display Opp...     0.0     0.0     0.0   \nDivine Secrets of the Ya-Ya Sisterhood: A Novel        0.0     0.0     0.0   \nDreamcatcher                                           0.0     0.0     0.0   \nFahrenheit 451                                         0.0     0.0     0.0   \nGirl with a Pearl Earring                              0.0     0.0     0.0   \nGood in Bed                                            0.0     0.0     0.0   \nHarry Potter and the Chamber of Secrets (Book 2)       0.0     0.0     0.0   \nHarry Potter and the Goblet of Fire (Book 4)           0.0     0.0     0.0   \nHarry Potter and the Prisoner of Azkaban (Book 3)      0.0     0.0     0.0   \nHarry Potter and the Sorcerer's Stone (Harry Po...     0.0     0.0     0.0   \nHouse of Sand and Fog                                  0.0     0.0     0.0   \nIcy Sparks                                             0.0     0.0     0.0   \nJurassic Park                                          0.0     0.0     0.0   \nLife of Pi                                             0.0     0.0     0.0   \nLittle Altars Everywhere: A Novel                      0.0     0.0     0.0   \nMessage in a Bottle                                    0.0     0.0     5.0   \nSHIPPING NEWS                                          8.0     0.0     0.0   \nShe's Come Undone (Oprah's Book Club (Paperback))      0.0     0.0     0.0   \nShe's Come Undone (Oprah's Book Club)                  7.0     0.0     0.0   \nSnow Falling on Cedars                                 0.0     0.0     0.0   \nSummer Sisters                                         0.0     0.0     0.0   \nThe Bad Beginning (A Series of Unfortunate Even...     0.0     0.0     0.0   \nThe Bean Trees                                         0.0     0.0     0.0   \nThe Brethren                                           0.0     0.0     0.0   \nThe Catcher in the Rye                                 0.0     0.0     0.0   \nThe Client                                             0.0     0.0     0.0   \nThe Da Vinci Code                                      0.0     0.0     0.0   \nThe Firm                                               0.0     0.0     0.0   \nThe Five People You Meet in Heaven                     0.0     0.0     0.0   \nThe Girls' Guide to Hunting and Fishing                0.0     0.0     0.0   \nThe Joy Luck Club                                      0.0     0.0     0.0   \nThe Lovely Bones: A Novel                              0.0     0.0     0.0   \nThe Nanny Diaries: A Novel                             0.0     0.0     0.0   \nThe Notebook                                           0.0     0.0     0.0   \nThe Partner                                            0.0     0.0     0.0   \nThe Pelican Brief                                      0.0     0.0     0.0   \nThe Pilot's Wife : A Novel                             0.0     0.0     0.0   \nThe Poisonwood Bible: A Novel                          0.0     0.0     0.0   \nThe Reader                                             0.0     0.0     0.0   \nThe Red Tent (Bestselling Backlist)                    0.0     0.0     0.0   \nThe Secret Life of Bees                                0.0     0.0     0.0   \nThe Summons                                            0.0     0.0     0.0   \nThe Testament                                          0.0     0.0     0.0   \nTimeline                                               0.0     0.0     0.0   \nTo Kill a Mockingbird                                  0.0     0.0     0.0   \nTuesdays with Morrie: An Old Man, a Young Man, ...     0.0     0.0     0.0   \nWhere the Heart Is (Oprah's Book Club (Paperback))     0.0     0.0     0.0   \nWhite Oleander : A Novel                               0.0     0.0     0.0   \nWhite Oleander : A Novel (Oprah's Book Club)           0.0     0.0     0.0   \nWicked: The Life and Times of the Wicked Witch ...     0.0     0.0     0.0   \nWild Animus                                            0.0     0.0     0.0   \n\nUser-ID                                             278633  278653  278663  \\\nBook-Title                                                                   \nA Bend in the Road                                     0.0     0.0     0.0   \nA Heartbreaking Work of Staggering Genius              0.0     0.0     0.0   \nA Painted House                                        0.0     0.0     0.0   \nAngels &amp; Demons                                    0.0     0.0     0.0   \nBridget Jones's Diary                                  2.0     0.0     0.0   \nConfessions of a Shopaholic (Summer Display Opp...     0.0     0.0     0.0   \nDivine Secrets of the Ya-Ya Sisterhood: A Novel        0.0     0.0     0.0   \nDreamcatcher                                           0.0     0.0     0.0   \nFahrenheit 451                                         0.0     0.0     0.0   \nGirl with a Pearl Earring                              0.0     0.0     0.0   \nGood in Bed                                            0.0     0.0     0.0   \nHarry Potter and the Chamber of Secrets (Book 2)       0.0     0.0     0.0   \nHarry Potter and the Goblet of Fire (Book 4)           0.0     0.0     0.0   \nHarry Potter and the Prisoner of Azkaban (Book 3)      0.0     0.0     0.0   \nHarry Potter and the Sorcerer's Stone (Harry Po...     0.0     0.0     0.0   \nHouse of Sand and Fog                                  0.0     0.0     0.0   \nIcy Sparks                                             7.0     0.0     0.0   \nJurassic Park                                          0.0     0.0     0.0   \nLife of Pi                                             0.0     0.0     0.0   \nLittle Altars Everywhere: A Novel                      0.0     0.0     0.0   \nMessage in a Bottle                                    0.0     6.0     0.0   \nSHIPPING NEWS                                          0.0     0.0     0.0   \nShe's Come Undone (Oprah's Book Club (Paperback))      0.0     0.0     0.0   \nShe's Come Undone (Oprah's Book Club)                  0.0     0.0     0.0   \nSnow Falling on Cedars                                 0.0     0.0     0.0   \nSummer Sisters                                         9.0     0.0     0.0   \nThe Bad Beginning (A Series of Unfortunate Even...     0.0     0.0     0.0   \nThe Bean Trees                                         0.0     0.0     4.0   \nThe Brethren                                           0.0     0.0     0.0   \nThe Catcher in the Rye                                 0.0     0.0     0.0   \nThe Client                                             0.0     0.0     0.0   \nThe Da Vinci Code                                      0.0     0.0     0.0   \nThe Firm                                               0.0     0.0     0.0   \nThe Five People You Meet in Heaven                     0.0     0.0     0.0   \nThe Girls' Guide to Hunting and Fishing                0.0     0.0     0.0   \nThe Joy Luck Club                                      0.0     0.0     0.0   \nThe Lovely Bones: A Novel                              9.0     0.0     0.0   \nThe Nanny Diaries: A Novel                             0.0     0.0     0.0   \nThe Notebook                                           0.0     0.0     0.0   \nThe Partner                                            0.0     0.0     0.0   \nThe Pelican Brief                                      0.0     0.0     0.0   \nThe Pilot's Wife : A Novel                             0.0     0.0     0.0   \nThe Poisonwood Bible: A Novel                          0.0     0.0     0.0   \nThe Reader                                             0.0     0.0     0.0   \nThe Red Tent (Bestselling Backlist)                    0.0     0.0     0.0   \nThe Secret Life of Bees                                0.0     0.0     0.0   \nThe Summons                                            0.0     0.0     0.0   \nThe Testament                                          0.0     0.0     0.0   \nTimeline                                               0.0     0.0     0.0   \nTo Kill a Mockingbird                                  0.0     0.0     0.0   \nTuesdays with Morrie: An Old Man, a Young Man, ...     0.0     0.0     0.0   \nWhere the Heart Is (Oprah's Book Club (Paperback))     0.0     0.0     0.0   \nWhite Oleander : A Novel                               0.0     0.0     0.0   \nWhite Oleander : A Novel (Oprah's Book Club)           0.0     0.0     0.0   \nWicked: The Life and Times of the Wicked Witch ...     0.0     0.0     0.0   \nWild Animus                                            0.0     0.0     0.0   \n\nUser-ID                                             278698  278798  278843  \nBook-Title                                                                  \nA Bend in the Road                                     0.0     0.0     0.0  \nA Heartbreaking Work of Staggering Genius              0.0     0.0     0.0  \nA Painted House                                        0.0     0.0     0.0  \nAngels &amp; Demons                                    0.0     0.0     0.0  \nBridget Jones's Diary                                  0.0     0.0     8.0  \nConfessions of a Shopaholic (Summer Display Opp...     0.0     0.0     0.0  \nDivine Secrets of the Ya-Ya Sisterhood: A Novel        0.0     0.0     0.0  \nDreamcatcher                                           0.0     0.0     0.0  \nFahrenheit 451                                         0.0     0.0     0.0  \nGirl with a Pearl Earring                              0.0     0.0     0.0  \nGood in Bed                                            0.0     0.0     0.0  \nHarry Potter and the Chamber of Secrets (Book 2)       0.0     0.0     0.0  \nHarry Potter and the Goblet of Fire (Book 4)           0.0     0.0     0.0  \nHarry Potter and the Prisoner of Azkaban (Book 3)      0.0     0.0     0.0  \nHarry Potter and the Sorcerer's Stone (Harry Po...     0.0     0.0     8.0  \nHouse of Sand and Fog                                  0.0     0.0     0.0  \nIcy Sparks                                             0.0     0.0     9.0  \nJurassic Park                                          0.0     0.0     0.0  \nLife of Pi                                             0.0     0.0     0.0  \nLittle Altars Everywhere: A Novel                      0.0     0.0     0.0  \nMessage in a Bottle                                    0.0     0.0     0.0  \nSHIPPING NEWS                                          0.0     0.0     0.0  \nShe's Come Undone (Oprah's Book Club (Paperback))      0.0     0.0     0.0  \nShe's Come Undone (Oprah's Book Club)                  0.0     0.0     0.0  \nSnow Falling on Cedars                                 0.0     0.0     0.0  \nSummer Sisters                                         0.0     0.0     0.0  \nThe Bad Beginning (A Series of Unfortunate Even...     0.0     0.0     0.0  \nThe Bean Trees                                         0.0     0.0     0.0  \nThe Brethren                                           0.0     0.0     0.0  \nThe Catcher in the Rye                                 0.0     0.0     0.0  \nThe Client                                             0.0     0.0     0.0  \nThe Da Vinci Code                                      0.0     0.0     0.0  \nThe Firm                                               0.0     0.0     0.0  \nThe Five People You Meet in Heaven                     0.0     0.0     0.0  \nThe Girls' Guide to Hunting and Fishing                0.0     0.0     0.0  \nThe Joy Luck Club                                      0.0     0.0     0.0  \nThe Lovely Bones: A Novel                              0.0     0.0     0.0  \nThe Nanny Diaries: A Novel                             0.0     0.0     0.0  \nThe Notebook                                           0.0     0.0     0.0  \nThe Partner                                            0.0     0.0     0.0  \nThe Pelican Brief                                      0.0     0.0     0.0  \nThe Pilot's Wife : A Novel                             0.0     0.0     0.0  \nThe Poisonwood Bible: A Novel                          0.0     0.0     0.0  \nThe Reader                                             0.0     0.0     0.0  \nThe Red Tent (Bestselling Backlist)                    0.0     0.0     0.0  \nThe Secret Life of Bees                                0.0     0.0     0.0  \nThe Summons                                           10.0     0.0     0.0  \nThe Testament                                          0.0     0.0     0.0  \nTimeline                                               0.0     0.0     0.0  \nTo Kill a Mockingbird                                  0.0     0.0     0.0  \nTuesdays with Morrie: An Old Man, a Young Man, ...     0.0     0.0     0.0  \nWhere the Heart Is (Oprah's Book Club (Paperback))     0.0     0.0     0.0  \nWhite Oleander : A Novel                               0.0     0.0     0.0  \nWhite Oleander : A Novel (Oprah's Book Club)           0.0     7.0     0.0  \nWicked: The Life and Times of the Wicked Witch ...     0.0     0.0     0.0  \nWild Animus                                            0.0     0.0     0.0  \n\n[56 rows x 983 columns]",
      "text/html": "<div>\n<style scoped>\n    .dataframe tbody tr th:only-of-type {\n        vertical-align: middle;\n    }\n\n    .dataframe tbody tr th {\n        vertical-align: top;\n    }\n\n    .dataframe thead th {\n        text-align: right;\n    }\n</style>\n<table border=\"1\" class=\"dataframe\">\n  <thead>\n    <tr style=\"text-align: right;\">\n      <th>User-ID</th>\n      <th>26</th>\n      <th>91</th>\n      <th>114</th>\n      <th>165</th>\n      <th>242</th>\n      <th>243</th>\n      <th>244</th>\n      <th>254</th>\n      <th>256</th>\n      <th>280</th>\n      <th>...</th>\n      <th>278543</th>\n      <th>278552</th>\n      <th>278554</th>\n      <th>278586</th>\n      <th>278633</th>\n      <th>278653</th>\n      <th>278663</th>\n      <th>278698</th>\n      <th>278798</th>\n      <th>278843</th>\n    </tr>\n    <tr>\n      <th>Book-Title</th>\n      <th></th>\n      <th></th>\n      <th></th>\n      <th></th>\n      <th></th>\n      <th></th>\n      <th></th>\n      <th></th>\n      <th></th>\n      <th></th>\n      <th></th>\n      <th></th>\n      <th></th>\n      <th></th>\n      <th></th>\n      <th></th>\n      <th></th>\n      <th></th>\n      <th></th>\n      <th></th>\n      <th></th>\n    </tr>\n  </thead>\n  <tbody>\n    <tr>\n      <th>A Bend in the Road</th>\n      <td>0.0</td>\n      <td>0.0</td>\n      <td>0.0</td>\n      <td>0.0</td>\n      <td>0.0</td>\n      <td>0.0</td>\n      <td>0.0</td>\n      <td>0.0</td>\n      <td>0.0</td>\n      <td>0.0</td>\n      <td>...</td>\n      <td>0.0</td>\n      <td>0.0</td>\n      <td>0.0</td>\n      <td>0.0</td>\n      <td>0.0</td>\n      <td>0.0</td>\n      <td>0.0</td>\n      <td>0.0</td>\n      <td>0.0</td>\n      <td>0.0</td>\n    </tr>\n    <tr>\n      <th>A Heartbreaking Work of Staggering Genius</th>\n      <td>0.0</td>\n      <td>0.0</td>\n      <td>0.0</td>\n      <td>0.0</td>\n      <td>0.0</td>\n      <td>0.0</td>\n      <td>0.0</td>\n      <td>0.0</td>\n      <td>0.0</td>\n      <td>0.0</td>\n      <td>...</td>\n      <td>0.0</td>\n      <td>0.0</td>\n      <td>0.0</td>\n      <td>0.0</td>\n      <td>0.0</td>\n      <td>0.0</td>\n      <td>0.0</td>\n      <td>0.0</td>\n      <td>0.0</td>\n      <td>0.0</td>\n    </tr>\n    <tr>\n      <th>A Painted House</th>\n      <td>0.0</td>\n      <td>0.0</td>\n      <td>0.0</td>\n      <td>0.0</td>\n      <td>0.0</td>\n      <td>7.0</td>\n      <td>0.0</td>\n      <td>0.0</td>\n      <td>8.0</td>\n      <td>0.0</td>\n      <td>...</td>\n      <td>0.0</td>\n      <td>0.0</td>\n      <td>0.0</td>\n      <td>0.0</td>\n      <td>0.0</td>\n      <td>0.0</td>\n      <td>0.0</td>\n      <td>0.0</td>\n      <td>0.0</td>\n      <td>0.0</td>\n    </tr>\n    <tr>\n      <th>Angels &amp;amp; Demons</th>\n      <td>0.0</td>\n      <td>0.0</td>\n      <td>10.0</td>\n      <td>0.0</td>\n      <td>0.0</td>\n      <td>0.0</td>\n      <td>0.0</td>\n      <td>0.0</td>\n      <td>0.0</td>\n      <td>0.0</td>\n      <td>...</td>\n      <td>0.0</td>\n      <td>0.0</td>\n      <td>0.0</td>\n      <td>0.0</td>\n      <td>0.0</td>\n      <td>0.0</td>\n      <td>0.0</td>\n      <td>0.0</td>\n      <td>0.0</td>\n      <td>0.0</td>\n    </tr>\n    <tr>\n      <th>Bridget Jones's Diary</th>\n      <td>0.0</td>\n      <td>0.0</td>\n      <td>0.0</td>\n      <td>0.0</td>\n      <td>0.0</td>\n      <td>0.0</td>\n      <td>0.0</td>\n      <td>0.0</td>\n      <td>0.0</td>\n      <td>0.0</td>\n      <td>...</td>\n      <td>0.0</td>\n      <td>0.0</td>\n      <td>8.0</td>\n      <td>0.0</td>\n      <td>2.0</td>\n      <td>0.0</td>\n      <td>0.0</td>\n      <td>0.0</td>\n      <td>0.0</td>\n      <td>8.0</td>\n    </tr>\n    <tr>\n      <th>Confessions of a Shopaholic (Summer Display Opportunity)</th>\n      <td>0.0</td>\n      <td>0.0</td>\n      <td>0.0</td>\n      <td>0.0</td>\n      <td>0.0</td>\n      <td>0.0</td>\n      <td>0.0</td>\n      <td>0.0</td>\n      <td>0.0</td>\n      <td>0.0</td>\n      <td>...</td>\n      <td>0.0</td>\n      <td>0.0</td>\n      <td>0.0</td>\n      <td>0.0</td>\n      <td>0.0</td>\n      <td>0.0</td>\n      <td>0.0</td>\n      <td>0.0</td>\n      <td>0.0</td>\n      <td>0.0</td>\n    </tr>\n    <tr>\n      <th>Divine Secrets of the Ya-Ya Sisterhood: A Novel</th>\n      <td>0.0</td>\n      <td>0.0</td>\n      <td>0.0</td>\n      <td>0.0</td>\n      <td>0.0</td>\n      <td>0.0</td>\n      <td>0.0</td>\n      <td>0.0</td>\n      <td>0.0</td>\n      <td>0.0</td>\n      <td>...</td>\n      <td>0.0</td>\n      <td>0.0</td>\n      <td>0.0</td>\n      <td>0.0</td>\n      <td>0.0</td>\n      <td>0.0</td>\n      <td>0.0</td>\n      <td>0.0</td>\n      <td>0.0</td>\n      <td>0.0</td>\n    </tr>\n    <tr>\n      <th>Dreamcatcher</th>\n      <td>0.0</td>\n      <td>0.0</td>\n      <td>0.0</td>\n      <td>0.0</td>\n      <td>0.0</td>\n      <td>0.0</td>\n      <td>0.0</td>\n      <td>0.0</td>\n      <td>0.0</td>\n      <td>0.0</td>\n      <td>...</td>\n      <td>0.0</td>\n      <td>0.0</td>\n      <td>0.0</td>\n      <td>0.0</td>\n      <td>0.0</td>\n      <td>0.0</td>\n      <td>0.0</td>\n      <td>0.0</td>\n      <td>0.0</td>\n      <td>0.0</td>\n    </tr>\n    <tr>\n      <th>Fahrenheit 451</th>\n      <td>0.0</td>\n      <td>0.0</td>\n      <td>0.0</td>\n      <td>0.0</td>\n      <td>8.0</td>\n      <td>0.0</td>\n      <td>0.0</td>\n      <td>0.0</td>\n      <td>0.0</td>\n      <td>0.0</td>\n      <td>...</td>\n      <td>0.0</td>\n      <td>0.0</td>\n      <td>0.0</td>\n      <td>0.0</td>\n      <td>0.0</td>\n      <td>0.0</td>\n      <td>0.0</td>\n      <td>0.0</td>\n      <td>0.0</td>\n      <td>0.0</td>\n    </tr>\n    <tr>\n      <th>Girl with a Pearl Earring</th>\n      <td>0.0</td>\n      <td>0.0</td>\n      <td>0.0</td>\n      <td>0.0</td>\n      <td>0.0</td>\n      <td>0.0</td>\n      <td>0.0</td>\n      <td>0.0</td>\n      <td>0.0</td>\n      <td>0.0</td>\n      <td>...</td>\n      <td>0.0</td>\n      <td>0.0</td>\n      <td>0.0</td>\n      <td>0.0</td>\n      <td>0.0</td>\n      <td>0.0</td>\n      <td>0.0</td>\n      <td>0.0</td>\n      <td>0.0</td>\n      <td>0.0</td>\n    </tr>\n    <tr>\n      <th>Good in Bed</th>\n      <td>0.0</td>\n      <td>0.0</td>\n      <td>0.0</td>\n      <td>0.0</td>\n      <td>0.0</td>\n      <td>0.0</td>\n      <td>0.0</td>\n      <td>0.0</td>\n      <td>0.0</td>\n      <td>0.0</td>\n      <td>...</td>\n      <td>0.0</td>\n      <td>0.0</td>\n      <td>0.0</td>\n      <td>0.0</td>\n      <td>0.0</td>\n      <td>0.0</td>\n      <td>0.0</td>\n      <td>0.0</td>\n      <td>0.0</td>\n      <td>0.0</td>\n    </tr>\n    <tr>\n      <th>Harry Potter and the Chamber of Secrets (Book 2)</th>\n      <td>0.0</td>\n      <td>0.0</td>\n      <td>0.0</td>\n      <td>0.0</td>\n      <td>0.0</td>\n      <td>0.0</td>\n      <td>0.0</td>\n      <td>9.0</td>\n      <td>0.0</td>\n      <td>0.0</td>\n      <td>...</td>\n      <td>0.0</td>\n      <td>0.0</td>\n      <td>0.0</td>\n      <td>0.0</td>\n      <td>0.0</td>\n      <td>0.0</td>\n      <td>0.0</td>\n      <td>0.0</td>\n      <td>0.0</td>\n      <td>0.0</td>\n    </tr>\n    <tr>\n      <th>Harry Potter and the Goblet of Fire (Book 4)</th>\n      <td>0.0</td>\n      <td>0.0</td>\n      <td>0.0</td>\n      <td>0.0</td>\n      <td>0.0</td>\n      <td>0.0</td>\n      <td>0.0</td>\n      <td>9.0</td>\n      <td>0.0</td>\n      <td>0.0</td>\n      <td>...</td>\n      <td>0.0</td>\n      <td>0.0</td>\n      <td>0.0</td>\n      <td>0.0</td>\n      <td>0.0</td>\n      <td>0.0</td>\n      <td>0.0</td>\n      <td>0.0</td>\n      <td>0.0</td>\n      <td>0.0</td>\n    </tr>\n    <tr>\n      <th>Harry Potter and the Prisoner of Azkaban (Book 3)</th>\n      <td>0.0</td>\n      <td>0.0</td>\n      <td>0.0</td>\n      <td>0.0</td>\n      <td>0.0</td>\n      <td>0.0</td>\n      <td>0.0</td>\n      <td>9.0</td>\n      <td>0.0</td>\n      <td>0.0</td>\n      <td>...</td>\n      <td>0.0</td>\n      <td>0.0</td>\n      <td>0.0</td>\n      <td>0.0</td>\n      <td>0.0</td>\n      <td>0.0</td>\n      <td>0.0</td>\n      <td>0.0</td>\n      <td>0.0</td>\n      <td>0.0</td>\n    </tr>\n    <tr>\n      <th>Harry Potter and the Sorcerer's Stone (Harry Potter (Paperback))</th>\n      <td>0.0</td>\n      <td>0.0</td>\n      <td>0.0</td>\n      <td>0.0</td>\n      <td>0.0</td>\n      <td>0.0</td>\n      <td>0.0</td>\n      <td>0.0</td>\n      <td>0.0</td>\n      <td>0.0</td>\n      <td>...</td>\n      <td>0.0</td>\n      <td>0.0</td>\n      <td>0.0</td>\n      <td>0.0</td>\n      <td>0.0</td>\n      <td>0.0</td>\n      <td>0.0</td>\n      <td>0.0</td>\n      <td>0.0</td>\n      <td>8.0</td>\n    </tr>\n    <tr>\n      <th>House of Sand and Fog</th>\n      <td>0.0</td>\n      <td>0.0</td>\n      <td>0.0</td>\n      <td>0.0</td>\n      <td>0.0</td>\n      <td>0.0</td>\n      <td>0.0</td>\n      <td>0.0</td>\n      <td>0.0</td>\n      <td>0.0</td>\n      <td>...</td>\n      <td>0.0</td>\n      <td>0.0</td>\n      <td>0.0</td>\n      <td>0.0</td>\n      <td>0.0</td>\n      <td>0.0</td>\n      <td>0.0</td>\n      <td>0.0</td>\n      <td>0.0</td>\n      <td>0.0</td>\n    </tr>\n    <tr>\n      <th>Icy Sparks</th>\n      <td>0.0</td>\n      <td>0.0</td>\n      <td>0.0</td>\n      <td>0.0</td>\n      <td>0.0</td>\n      <td>0.0</td>\n      <td>0.0</td>\n      <td>0.0</td>\n      <td>0.0</td>\n      <td>0.0</td>\n      <td>...</td>\n      <td>0.0</td>\n      <td>0.0</td>\n      <td>0.0</td>\n      <td>0.0</td>\n      <td>7.0</td>\n      <td>0.0</td>\n      <td>0.0</td>\n      <td>0.0</td>\n      <td>0.0</td>\n      <td>9.0</td>\n    </tr>\n    <tr>\n      <th>Jurassic Park</th>\n      <td>0.0</td>\n      <td>0.0</td>\n      <td>0.0</td>\n      <td>0.0</td>\n      <td>0.0</td>\n      <td>0.0</td>\n      <td>0.0</td>\n      <td>0.0</td>\n      <td>0.0</td>\n      <td>0.0</td>\n      <td>...</td>\n      <td>0.0</td>\n      <td>0.0</td>\n      <td>0.0</td>\n      <td>0.0</td>\n      <td>0.0</td>\n      <td>0.0</td>\n      <td>0.0</td>\n      <td>0.0</td>\n      <td>0.0</td>\n      <td>0.0</td>\n    </tr>\n    <tr>\n      <th>Life of Pi</th>\n      <td>0.0</td>\n      <td>0.0</td>\n      <td>0.0</td>\n      <td>0.0</td>\n      <td>0.0</td>\n      <td>0.0</td>\n      <td>9.0</td>\n      <td>0.0</td>\n      <td>0.0</td>\n      <td>0.0</td>\n      <td>...</td>\n      <td>0.0</td>\n      <td>0.0</td>\n      <td>0.0</td>\n      <td>0.0</td>\n      <td>0.0</td>\n      <td>0.0</td>\n      <td>0.0</td>\n      <td>0.0</td>\n      <td>0.0</td>\n      <td>0.0</td>\n    </tr>\n    <tr>\n      <th>Little Altars Everywhere: A Novel</th>\n      <td>0.0</td>\n      <td>0.0</td>\n      <td>0.0</td>\n      <td>9.0</td>\n      <td>0.0</td>\n      <td>0.0</td>\n      <td>0.0</td>\n      <td>0.0</td>\n      <td>0.0</td>\n      <td>0.0</td>\n      <td>...</td>\n      <td>0.0</td>\n      <td>0.0</td>\n      <td>0.0</td>\n      <td>0.0</td>\n      <td>0.0</td>\n      <td>0.0</td>\n      <td>0.0</td>\n      <td>0.0</td>\n      <td>0.0</td>\n      <td>0.0</td>\n    </tr>\n    <tr>\n      <th>Message in a Bottle</th>\n      <td>0.0</td>\n      <td>0.0</td>\n      <td>0.0</td>\n      <td>0.0</td>\n      <td>0.0</td>\n      <td>0.0</td>\n      <td>0.0</td>\n      <td>0.0</td>\n      <td>0.0</td>\n      <td>0.0</td>\n      <td>...</td>\n      <td>0.0</td>\n      <td>0.0</td>\n      <td>0.0</td>\n      <td>5.0</td>\n      <td>0.0</td>\n      <td>6.0</td>\n      <td>0.0</td>\n      <td>0.0</td>\n      <td>0.0</td>\n      <td>0.0</td>\n    </tr>\n    <tr>\n      <th>SHIPPING NEWS</th>\n      <td>0.0</td>\n      <td>0.0</td>\n      <td>0.0</td>\n      <td>0.0</td>\n      <td>0.0</td>\n      <td>0.0</td>\n      <td>0.0</td>\n      <td>0.0</td>\n      <td>0.0</td>\n      <td>0.0</td>\n      <td>...</td>\n      <td>0.0</td>\n      <td>8.0</td>\n      <td>0.0</td>\n      <td>0.0</td>\n      <td>0.0</td>\n      <td>0.0</td>\n      <td>0.0</td>\n      <td>0.0</td>\n      <td>0.0</td>\n      <td>0.0</td>\n    </tr>\n    <tr>\n      <th>She's Come Undone (Oprah's Book Club (Paperback))</th>\n      <td>0.0</td>\n      <td>0.0</td>\n      <td>0.0</td>\n      <td>0.0</td>\n      <td>0.0</td>\n      <td>0.0</td>\n      <td>0.0</td>\n      <td>0.0</td>\n      <td>0.0</td>\n      <td>0.0</td>\n      <td>...</td>\n      <td>0.0</td>\n      <td>0.0</td>\n      <td>0.0</td>\n      <td>0.0</td>\n      <td>0.0</td>\n      <td>0.0</td>\n      <td>0.0</td>\n      <td>0.0</td>\n      <td>0.0</td>\n      <td>0.0</td>\n    </tr>\n    <tr>\n      <th>She's Come Undone (Oprah's Book Club)</th>\n      <td>0.0</td>\n      <td>0.0</td>\n      <td>0.0</td>\n      <td>0.0</td>\n      <td>0.0</td>\n      <td>0.0</td>\n      <td>0.0</td>\n      <td>7.0</td>\n      <td>0.0</td>\n      <td>0.0</td>\n      <td>...</td>\n      <td>0.0</td>\n      <td>7.0</td>\n      <td>0.0</td>\n      <td>0.0</td>\n      <td>0.0</td>\n      <td>0.0</td>\n      <td>0.0</td>\n      <td>0.0</td>\n      <td>0.0</td>\n      <td>0.0</td>\n    </tr>\n    <tr>\n      <th>Snow Falling on Cedars</th>\n      <td>0.0</td>\n      <td>0.0</td>\n      <td>0.0</td>\n      <td>0.0</td>\n      <td>0.0</td>\n      <td>0.0</td>\n      <td>0.0</td>\n      <td>0.0</td>\n      <td>0.0</td>\n      <td>0.0</td>\n      <td>...</td>\n      <td>0.0</td>\n      <td>0.0</td>\n      <td>0.0</td>\n      <td>0.0</td>\n      <td>0.0</td>\n      <td>0.0</td>\n      <td>0.0</td>\n      <td>0.0</td>\n      <td>0.0</td>\n      <td>0.0</td>\n    </tr>\n    <tr>\n      <th>Summer Sisters</th>\n      <td>0.0</td>\n      <td>0.0</td>\n      <td>0.0</td>\n      <td>0.0</td>\n      <td>0.0</td>\n      <td>0.0</td>\n      <td>0.0</td>\n      <td>0.0</td>\n      <td>0.0</td>\n      <td>0.0</td>\n      <td>...</td>\n      <td>0.0</td>\n      <td>0.0</td>\n      <td>0.0</td>\n      <td>0.0</td>\n      <td>9.0</td>\n      <td>0.0</td>\n      <td>0.0</td>\n      <td>0.0</td>\n      <td>0.0</td>\n      <td>0.0</td>\n    </tr>\n    <tr>\n      <th>The Bad Beginning (A Series of Unfortunate Events, Book 1)</th>\n      <td>0.0</td>\n      <td>0.0</td>\n      <td>0.0</td>\n      <td>0.0</td>\n      <td>0.0</td>\n      <td>0.0</td>\n      <td>0.0</td>\n      <td>0.0</td>\n      <td>0.0</td>\n      <td>0.0</td>\n      <td>...</td>\n      <td>0.0</td>\n      <td>0.0</td>\n      <td>0.0</td>\n      <td>0.0</td>\n      <td>0.0</td>\n      <td>0.0</td>\n      <td>0.0</td>\n      <td>0.0</td>\n      <td>0.0</td>\n      <td>0.0</td>\n    </tr>\n    <tr>\n      <th>The Bean Trees</th>\n      <td>0.0</td>\n      <td>0.0</td>\n      <td>0.0</td>\n      <td>0.0</td>\n      <td>0.0</td>\n      <td>10.0</td>\n      <td>0.0</td>\n      <td>0.0</td>\n      <td>0.0</td>\n      <td>0.0</td>\n      <td>...</td>\n      <td>0.0</td>\n      <td>0.0</td>\n      <td>0.0</td>\n      <td>0.0</td>\n      <td>0.0</td>\n      <td>0.0</td>\n      <td>4.0</td>\n      <td>0.0</td>\n      <td>0.0</td>\n      <td>0.0</td>\n    </tr>\n    <tr>\n      <th>The Brethren</th>\n      <td>0.0</td>\n      <td>0.0</td>\n      <td>0.0</td>\n      <td>0.0</td>\n      <td>0.0</td>\n      <td>0.0</td>\n      <td>0.0</td>\n      <td>0.0</td>\n      <td>0.0</td>\n      <td>0.0</td>\n      <td>...</td>\n      <td>0.0</td>\n      <td>0.0</td>\n      <td>0.0</td>\n      <td>0.0</td>\n      <td>0.0</td>\n      <td>0.0</td>\n      <td>0.0</td>\n      <td>0.0</td>\n      <td>0.0</td>\n      <td>0.0</td>\n    </tr>\n    <tr>\n      <th>The Catcher in the Rye</th>\n      <td>0.0</td>\n      <td>9.0</td>\n      <td>0.0</td>\n      <td>0.0</td>\n      <td>0.0</td>\n      <td>0.0</td>\n      <td>0.0</td>\n      <td>0.0</td>\n      <td>0.0</td>\n      <td>7.0</td>\n      <td>...</td>\n      <td>0.0</td>\n      <td>0.0</td>\n      <td>0.0</td>\n      <td>0.0</td>\n      <td>0.0</td>\n      <td>0.0</td>\n      <td>0.0</td>\n      <td>0.0</td>\n      <td>0.0</td>\n      <td>0.0</td>\n    </tr>\n    <tr>\n      <th>The Client</th>\n      <td>0.0</td>\n      <td>0.0</td>\n      <td>0.0</td>\n      <td>0.0</td>\n      <td>0.0</td>\n      <td>0.0</td>\n      <td>0.0</td>\n      <td>0.0</td>\n      <td>0.0</td>\n      <td>0.0</td>\n      <td>...</td>\n      <td>0.0</td>\n      <td>0.0</td>\n      <td>0.0</td>\n      <td>0.0</td>\n      <td>0.0</td>\n      <td>0.0</td>\n      <td>0.0</td>\n      <td>0.0</td>\n      <td>0.0</td>\n      <td>0.0</td>\n    </tr>\n    <tr>\n      <th>The Da Vinci Code</th>\n      <td>0.0</td>\n      <td>0.0</td>\n      <td>0.0</td>\n      <td>0.0</td>\n      <td>0.0</td>\n      <td>0.0</td>\n      <td>0.0</td>\n      <td>0.0</td>\n      <td>0.0</td>\n      <td>0.0</td>\n      <td>...</td>\n      <td>0.0</td>\n      <td>0.0</td>\n      <td>0.0</td>\n      <td>0.0</td>\n      <td>0.0</td>\n      <td>0.0</td>\n      <td>0.0</td>\n      <td>0.0</td>\n      <td>0.0</td>\n      <td>0.0</td>\n    </tr>\n    <tr>\n      <th>The Firm</th>\n      <td>0.0</td>\n      <td>0.0</td>\n      <td>0.0</td>\n      <td>0.0</td>\n      <td>0.0</td>\n      <td>0.0</td>\n      <td>0.0</td>\n      <td>0.0</td>\n      <td>0.0</td>\n      <td>0.0</td>\n      <td>...</td>\n      <td>0.0</td>\n      <td>0.0</td>\n      <td>0.0</td>\n      <td>0.0</td>\n      <td>0.0</td>\n      <td>0.0</td>\n      <td>0.0</td>\n      <td>0.0</td>\n      <td>0.0</td>\n      <td>0.0</td>\n    </tr>\n    <tr>\n      <th>The Five People You Meet in Heaven</th>\n      <td>0.0</td>\n      <td>0.0</td>\n      <td>0.0</td>\n      <td>0.0</td>\n      <td>0.0</td>\n      <td>0.0</td>\n      <td>0.0</td>\n      <td>0.0</td>\n      <td>0.0</td>\n      <td>0.0</td>\n      <td>...</td>\n      <td>0.0</td>\n      <td>0.0</td>\n      <td>0.0</td>\n      <td>0.0</td>\n      <td>0.0</td>\n      <td>0.0</td>\n      <td>0.0</td>\n      <td>0.0</td>\n      <td>0.0</td>\n      <td>0.0</td>\n    </tr>\n    <tr>\n      <th>The Girls' Guide to Hunting and Fishing</th>\n      <td>0.0</td>\n      <td>0.0</td>\n      <td>0.0</td>\n      <td>0.0</td>\n      <td>0.0</td>\n      <td>0.0</td>\n      <td>0.0</td>\n      <td>0.0</td>\n      <td>0.0</td>\n      <td>0.0</td>\n      <td>...</td>\n      <td>0.0</td>\n      <td>0.0</td>\n      <td>0.0</td>\n      <td>0.0</td>\n      <td>0.0</td>\n      <td>0.0</td>\n      <td>0.0</td>\n      <td>0.0</td>\n      <td>0.0</td>\n      <td>0.0</td>\n    </tr>\n    <tr>\n      <th>The Joy Luck Club</th>\n      <td>0.0</td>\n      <td>0.0</td>\n      <td>0.0</td>\n      <td>0.0</td>\n      <td>0.0</td>\n      <td>0.0</td>\n      <td>0.0</td>\n      <td>0.0</td>\n      <td>0.0</td>\n      <td>0.0</td>\n      <td>...</td>\n      <td>0.0</td>\n      <td>0.0</td>\n      <td>0.0</td>\n      <td>0.0</td>\n      <td>0.0</td>\n      <td>0.0</td>\n      <td>0.0</td>\n      <td>0.0</td>\n      <td>0.0</td>\n      <td>0.0</td>\n    </tr>\n    <tr>\n      <th>The Lovely Bones: A Novel</th>\n      <td>0.0</td>\n      <td>0.0</td>\n      <td>0.0</td>\n      <td>0.0</td>\n      <td>0.0</td>\n      <td>0.0</td>\n      <td>0.0</td>\n      <td>0.0</td>\n      <td>0.0</td>\n      <td>0.0</td>\n      <td>...</td>\n      <td>0.0</td>\n      <td>0.0</td>\n      <td>0.0</td>\n      <td>0.0</td>\n      <td>9.0</td>\n      <td>0.0</td>\n      <td>0.0</td>\n      <td>0.0</td>\n      <td>0.0</td>\n      <td>0.0</td>\n    </tr>\n    <tr>\n      <th>The Nanny Diaries: A Novel</th>\n      <td>0.0</td>\n      <td>0.0</td>\n      <td>0.0</td>\n      <td>0.0</td>\n      <td>0.0</td>\n      <td>0.0</td>\n      <td>0.0</td>\n      <td>0.0</td>\n      <td>0.0</td>\n      <td>0.0</td>\n      <td>...</td>\n      <td>0.0</td>\n      <td>0.0</td>\n      <td>0.0</td>\n      <td>0.0</td>\n      <td>0.0</td>\n      <td>0.0</td>\n      <td>0.0</td>\n      <td>0.0</td>\n      <td>0.0</td>\n      <td>0.0</td>\n    </tr>\n    <tr>\n      <th>The Notebook</th>\n      <td>0.0</td>\n      <td>0.0</td>\n      <td>0.0</td>\n      <td>0.0</td>\n      <td>0.0</td>\n      <td>0.0</td>\n      <td>0.0</td>\n      <td>0.0</td>\n      <td>0.0</td>\n      <td>0.0</td>\n      <td>...</td>\n      <td>5.0</td>\n      <td>0.0</td>\n      <td>0.0</td>\n      <td>0.0</td>\n      <td>0.0</td>\n      <td>0.0</td>\n      <td>0.0</td>\n      <td>0.0</td>\n      <td>0.0</td>\n      <td>0.0</td>\n    </tr>\n    <tr>\n      <th>The Partner</th>\n      <td>0.0</td>\n      <td>0.0</td>\n      <td>0.0</td>\n      <td>0.0</td>\n      <td>0.0</td>\n      <td>0.0</td>\n      <td>0.0</td>\n      <td>0.0</td>\n      <td>0.0</td>\n      <td>0.0</td>\n      <td>...</td>\n      <td>0.0</td>\n      <td>0.0</td>\n      <td>0.0</td>\n      <td>0.0</td>\n      <td>0.0</td>\n      <td>0.0</td>\n      <td>0.0</td>\n      <td>0.0</td>\n      <td>0.0</td>\n      <td>0.0</td>\n    </tr>\n    <tr>\n      <th>The Pelican Brief</th>\n      <td>0.0</td>\n      <td>0.0</td>\n      <td>0.0</td>\n      <td>0.0</td>\n      <td>0.0</td>\n      <td>0.0</td>\n      <td>0.0</td>\n      <td>0.0</td>\n      <td>0.0</td>\n      <td>0.0</td>\n      <td>...</td>\n      <td>0.0</td>\n      <td>0.0</td>\n      <td>0.0</td>\n      <td>0.0</td>\n      <td>0.0</td>\n      <td>0.0</td>\n      <td>0.0</td>\n      <td>0.0</td>\n      <td>0.0</td>\n      <td>0.0</td>\n    </tr>\n    <tr>\n      <th>The Pilot's Wife : A Novel</th>\n      <td>0.0</td>\n      <td>0.0</td>\n      <td>0.0</td>\n      <td>0.0</td>\n      <td>0.0</td>\n      <td>9.0</td>\n      <td>0.0</td>\n      <td>0.0</td>\n      <td>0.0</td>\n      <td>0.0</td>\n      <td>...</td>\n      <td>0.0</td>\n      <td>0.0</td>\n      <td>0.0</td>\n      <td>0.0</td>\n      <td>0.0</td>\n      <td>0.0</td>\n      <td>0.0</td>\n      <td>0.0</td>\n      <td>0.0</td>\n      <td>0.0</td>\n    </tr>\n    <tr>\n      <th>The Poisonwood Bible: A Novel</th>\n      <td>0.0</td>\n      <td>0.0</td>\n      <td>0.0</td>\n      <td>0.0</td>\n      <td>0.0</td>\n      <td>0.0</td>\n      <td>0.0</td>\n      <td>0.0</td>\n      <td>0.0</td>\n      <td>0.0</td>\n      <td>...</td>\n      <td>0.0</td>\n      <td>0.0</td>\n      <td>0.0</td>\n      <td>0.0</td>\n      <td>0.0</td>\n      <td>0.0</td>\n      <td>0.0</td>\n      <td>0.0</td>\n      <td>0.0</td>\n      <td>0.0</td>\n    </tr>\n    <tr>\n      <th>The Reader</th>\n      <td>0.0</td>\n      <td>0.0</td>\n      <td>0.0</td>\n      <td>0.0</td>\n      <td>0.0</td>\n      <td>0.0</td>\n      <td>0.0</td>\n      <td>0.0</td>\n      <td>0.0</td>\n      <td>0.0</td>\n      <td>...</td>\n      <td>0.0</td>\n      <td>0.0</td>\n      <td>0.0</td>\n      <td>0.0</td>\n      <td>0.0</td>\n      <td>0.0</td>\n      <td>0.0</td>\n      <td>0.0</td>\n      <td>0.0</td>\n      <td>0.0</td>\n    </tr>\n    <tr>\n      <th>The Red Tent (Bestselling Backlist)</th>\n      <td>0.0</td>\n      <td>0.0</td>\n      <td>0.0</td>\n      <td>0.0</td>\n      <td>0.0</td>\n      <td>0.0</td>\n      <td>0.0</td>\n      <td>0.0</td>\n      <td>0.0</td>\n      <td>0.0</td>\n      <td>...</td>\n      <td>0.0</td>\n      <td>0.0</td>\n      <td>0.0</td>\n      <td>0.0</td>\n      <td>0.0</td>\n      <td>0.0</td>\n      <td>0.0</td>\n      <td>0.0</td>\n      <td>0.0</td>\n      <td>0.0</td>\n    </tr>\n    <tr>\n      <th>The Secret Life of Bees</th>\n      <td>0.0</td>\n      <td>0.0</td>\n      <td>0.0</td>\n      <td>0.0</td>\n      <td>0.0</td>\n      <td>0.0</td>\n      <td>0.0</td>\n      <td>9.0</td>\n      <td>0.0</td>\n      <td>0.0</td>\n      <td>...</td>\n      <td>0.0</td>\n      <td>0.0</td>\n      <td>0.0</td>\n      <td>0.0</td>\n      <td>0.0</td>\n      <td>0.0</td>\n      <td>0.0</td>\n      <td>0.0</td>\n      <td>0.0</td>\n      <td>0.0</td>\n    </tr>\n    <tr>\n      <th>The Summons</th>\n      <td>0.0</td>\n      <td>0.0</td>\n      <td>0.0</td>\n      <td>0.0</td>\n      <td>0.0</td>\n      <td>0.0</td>\n      <td>0.0</td>\n      <td>0.0</td>\n      <td>0.0</td>\n      <td>0.0</td>\n      <td>...</td>\n      <td>0.0</td>\n      <td>0.0</td>\n      <td>0.0</td>\n      <td>0.0</td>\n      <td>0.0</td>\n      <td>0.0</td>\n      <td>0.0</td>\n      <td>10.0</td>\n      <td>0.0</td>\n      <td>0.0</td>\n    </tr>\n    <tr>\n      <th>The Testament</th>\n      <td>0.0</td>\n      <td>0.0</td>\n      <td>0.0</td>\n      <td>0.0</td>\n      <td>0.0</td>\n      <td>0.0</td>\n      <td>0.0</td>\n      <td>0.0</td>\n      <td>0.0</td>\n      <td>0.0</td>\n      <td>...</td>\n      <td>0.0</td>\n      <td>0.0</td>\n      <td>0.0</td>\n      <td>0.0</td>\n      <td>0.0</td>\n      <td>0.0</td>\n      <td>0.0</td>\n      <td>0.0</td>\n      <td>0.0</td>\n      <td>0.0</td>\n    </tr>\n    <tr>\n      <th>Timeline</th>\n      <td>0.0</td>\n      <td>0.0</td>\n      <td>0.0</td>\n      <td>0.0</td>\n      <td>0.0</td>\n      <td>0.0</td>\n      <td>0.0</td>\n      <td>0.0</td>\n      <td>0.0</td>\n      <td>0.0</td>\n      <td>...</td>\n      <td>0.0</td>\n      <td>0.0</td>\n      <td>0.0</td>\n      <td>0.0</td>\n      <td>0.0</td>\n      <td>0.0</td>\n      <td>0.0</td>\n      <td>0.0</td>\n      <td>0.0</td>\n      <td>0.0</td>\n    </tr>\n    <tr>\n      <th>To Kill a Mockingbird</th>\n      <td>10.0</td>\n      <td>0.0</td>\n      <td>0.0</td>\n      <td>0.0</td>\n      <td>0.0</td>\n      <td>0.0</td>\n      <td>0.0</td>\n      <td>0.0</td>\n      <td>0.0</td>\n      <td>0.0</td>\n      <td>...</td>\n      <td>0.0</td>\n      <td>0.0</td>\n      <td>0.0</td>\n      <td>0.0</td>\n      <td>0.0</td>\n      <td>0.0</td>\n      <td>0.0</td>\n      <td>0.0</td>\n      <td>0.0</td>\n      <td>0.0</td>\n    </tr>\n    <tr>\n      <th>Tuesdays with Morrie: An Old Man, a Young Man, and Life's Greatest Lesson</th>\n      <td>0.0</td>\n      <td>0.0</td>\n      <td>0.0</td>\n      <td>0.0</td>\n      <td>0.0</td>\n      <td>0.0</td>\n      <td>0.0</td>\n      <td>0.0</td>\n      <td>0.0</td>\n      <td>0.0</td>\n      <td>...</td>\n      <td>0.0</td>\n      <td>0.0</td>\n      <td>0.0</td>\n      <td>0.0</td>\n      <td>0.0</td>\n      <td>0.0</td>\n      <td>0.0</td>\n      <td>0.0</td>\n      <td>0.0</td>\n      <td>0.0</td>\n    </tr>\n    <tr>\n      <th>Where the Heart Is (Oprah's Book Club (Paperback))</th>\n      <td>0.0</td>\n      <td>0.0</td>\n      <td>0.0</td>\n      <td>0.0</td>\n      <td>0.0</td>\n      <td>0.0</td>\n      <td>0.0</td>\n      <td>0.0</td>\n      <td>0.0</td>\n      <td>0.0</td>\n      <td>...</td>\n      <td>0.0</td>\n      <td>0.0</td>\n      <td>0.0</td>\n      <td>0.0</td>\n      <td>0.0</td>\n      <td>0.0</td>\n      <td>0.0</td>\n      <td>0.0</td>\n      <td>0.0</td>\n      <td>0.0</td>\n    </tr>\n    <tr>\n      <th>White Oleander : A Novel</th>\n      <td>0.0</td>\n      <td>0.0</td>\n      <td>0.0</td>\n      <td>0.0</td>\n      <td>0.0</td>\n      <td>0.0</td>\n      <td>0.0</td>\n      <td>0.0</td>\n      <td>0.0</td>\n      <td>0.0</td>\n      <td>...</td>\n      <td>0.0</td>\n      <td>0.0</td>\n      <td>0.0</td>\n      <td>0.0</td>\n      <td>0.0</td>\n      <td>0.0</td>\n      <td>0.0</td>\n      <td>0.0</td>\n      <td>0.0</td>\n      <td>0.0</td>\n    </tr>\n    <tr>\n      <th>White Oleander : A Novel (Oprah's Book Club)</th>\n      <td>0.0</td>\n      <td>0.0</td>\n      <td>0.0</td>\n      <td>0.0</td>\n      <td>0.0</td>\n      <td>0.0</td>\n      <td>0.0</td>\n      <td>0.0</td>\n      <td>0.0</td>\n      <td>0.0</td>\n      <td>...</td>\n      <td>0.0</td>\n      <td>0.0</td>\n      <td>0.0</td>\n      <td>0.0</td>\n      <td>0.0</td>\n      <td>0.0</td>\n      <td>0.0</td>\n      <td>0.0</td>\n      <td>7.0</td>\n      <td>0.0</td>\n    </tr>\n    <tr>\n      <th>Wicked: The Life and Times of the Wicked Witch of the West</th>\n      <td>0.0</td>\n      <td>0.0</td>\n      <td>0.0</td>\n      <td>0.0</td>\n      <td>0.0</td>\n      <td>0.0</td>\n      <td>8.0</td>\n      <td>0.0</td>\n      <td>0.0</td>\n      <td>0.0</td>\n      <td>...</td>\n      <td>0.0</td>\n      <td>0.0</td>\n      <td>0.0</td>\n      <td>0.0</td>\n      <td>0.0</td>\n      <td>0.0</td>\n      <td>0.0</td>\n      <td>0.0</td>\n      <td>0.0</td>\n      <td>0.0</td>\n    </tr>\n    <tr>\n      <th>Wild Animus</th>\n      <td>0.0</td>\n      <td>0.0</td>\n      <td>0.0</td>\n      <td>0.0</td>\n      <td>0.0</td>\n      <td>0.0</td>\n      <td>0.0</td>\n      <td>0.0</td>\n      <td>0.0</td>\n      <td>0.0</td>\n      <td>...</td>\n      <td>0.0</td>\n      <td>0.0</td>\n      <td>0.0</td>\n      <td>0.0</td>\n      <td>0.0</td>\n      <td>0.0</td>\n      <td>0.0</td>\n      <td>0.0</td>\n      <td>0.0</td>\n      <td>0.0</td>\n    </tr>\n  </tbody>\n</table>\n<p>56 rows × 983 columns</p>\n</div>"
     },
     "execution_count": 21,
     "metadata": {},
     "output_type": "execute_result"
    }
   ],
   "source": [
    "book_user_df = user_book_df.transpose()\n",
    "book_user_filled = book_user_df.fillna(0)\n",
    "book_user_filled"
   ],
   "metadata": {
    "collapsed": false,
    "ExecuteTime": {
     "end_time": "2023-10-26T06:38:44.675245400Z",
     "start_time": "2023-10-26T06:38:44.118366500Z"
    }
   },
   "id": "92c2d3632b2103fa"
  },
  {
   "cell_type": "code",
   "execution_count": 22,
   "outputs": [],
   "source": [
    "def print_obj_self_measure(obj_scores):\n",
    "    print(\n",
    "        f'Jaccard:\\t{get_jaccard_measure(obj_scores, obj_scores)}\\n'\n",
    "        f'Cos:\\t\\t{get_cos_measure(obj_scores, obj_scores)}\\n'\n",
    "        f'Pearson:\\t{get_pearson_measure(obj_scores, obj_scores)}\\n'\n",
    "    )"
   ],
   "metadata": {
    "collapsed": false,
    "ExecuteTime": {
     "end_time": "2023-10-26T06:38:44.704248900Z",
     "start_time": "2023-10-26T06:38:44.210761500Z"
    }
   },
   "id": "124a413d26056bf1"
  },
  {
   "cell_type": "code",
   "execution_count": 23,
   "outputs": [],
   "source": [
    "def get_top_books(dataframe, top_measure):\n",
    "    tmp_df = dataframe[dataframe.index.isin(top_measure.index)]\n",
    "    return tmp_df.loc[:,tmp_df.notna().sum() > 2]"
   ],
   "metadata": {
    "collapsed": false,
    "ExecuteTime": {
     "end_time": "2023-10-26T06:38:44.722250Z",
     "start_time": "2023-10-26T06:38:44.216761200Z"
    }
   },
   "id": "71361b9aa92c38ef"
  },
  {
   "cell_type": "code",
   "execution_count": 23,
   "outputs": [],
   "source": [],
   "metadata": {
    "collapsed": false,
    "ExecuteTime": {
     "end_time": "2023-10-26T06:38:44.723243700Z",
     "start_time": "2023-10-26T06:38:44.226353400Z"
    }
   },
   "id": "21da8c3732eb2b10"
  },
  {
   "cell_type": "markdown",
   "source": [
    "### По пользователю"
   ],
   "metadata": {
    "collapsed": false
   },
   "id": "a74f5f15e6553bf1"
  },
  {
   "cell_type": "code",
   "execution_count": 24,
   "outputs": [
    {
     "name": "stdout",
     "output_type": "stream",
     "text": [
      "6251 [ 0.  4. 10.  6.  8.  7.]\n",
      "6563 [ 0.  9.  8.  2. 10.  7.]\n",
      "6575 [1. 7. 0. 4. 5. 8. 6. 2. 9.]\n",
      "7125 [ 0.  4.  8.  7. 10.  6.]\n",
      "8454 [ 0.  8.  7.  9.  6. 10.]\n",
      "8801 [ 0. 10.  8.  6.  7.  9.]\n",
      "11224 [0. 7. 9. 6. 5. 1.]\n",
      "11676 [ 6.5         0.          8.          7.         10.          8.66666667\n",
      "  9.          6.          1.          5.5         7.5         4.\n",
      "  5.          8.5         9.5       ]\n",
      "16795 [ 8.   0.   9.  10.   7.   5.   6.   4.   8.5]\n",
      "17950 [ 0.  4. 10.  5.  9.  6.  8.]\n",
      "21014 [0. 8. 9. 5. 7. 4.]\n",
      "28177 [ 0. 10.  9.  5.  8.  6.]\n"
     ]
    }
   ],
   "source": [
    "for user_id in user_book_filled.index:\n",
    "    uniq = user_book_filled.loc[user_id].unique()\n",
    "    if len(uniq) > 5:\n",
    "        print(user_id, uniq)"
   ],
   "metadata": {
    "collapsed": false,
    "ExecuteTime": {
     "end_time": "2023-10-26T06:38:45.014582400Z",
     "start_time": "2023-10-26T06:38:44.249599900Z"
    }
   },
   "id": "7ef19a6ba559e151"
  },
  {
   "cell_type": "code",
   "execution_count": 25,
   "outputs": [],
   "source": [
    "user_id = 6563"
   ],
   "metadata": {
    "collapsed": false,
    "ExecuteTime": {
     "end_time": "2023-10-26T06:38:45.015585300Z",
     "start_time": "2023-10-26T06:38:44.333235500Z"
    }
   },
   "id": "f8dde7bd8d1053c3"
  },
  {
   "cell_type": "code",
   "execution_count": 26,
   "outputs": [],
   "source": [
    "user_scores = user_book_filled.loc[user_id].values"
   ],
   "metadata": {
    "collapsed": false,
    "ExecuteTime": {
     "end_time": "2023-10-26T06:38:45.015585300Z",
     "start_time": "2023-10-26T06:38:44.346083200Z"
    }
   },
   "id": "be79d200845153fe"
  },
  {
   "cell_type": "code",
   "execution_count": 27,
   "outputs": [
    {
     "name": "stdout",
     "output_type": "stream",
     "text": [
      "Jaccard:\t0.10891089108910891\n",
      "Cos:\t\t0.9999999999999999\n",
      "Pearson:\t0.9999999999999998\n"
     ]
    }
   ],
   "source": [
    "print_obj_self_measure(user_scores)"
   ],
   "metadata": {
    "collapsed": false,
    "ExecuteTime": {
     "end_time": "2023-10-26T06:38:45.015585300Z",
     "start_time": "2023-10-26T06:38:44.352246300Z"
    }
   },
   "id": "dccf2b0af198ca1a"
  },
  {
   "cell_type": "code",
   "execution_count": 28,
   "outputs": [],
   "source": [
    "user_book_filled['jaccard_measure'] = user_book_filled.apply(lambda raw: get_jaccard_measure(user_scores, raw.values), axis= 1)\n",
    "user_book_filled['cos_measure'] = user_book_filled.apply(lambda raw: get_cos_measure(user_scores, raw.values), axis= 1)\n",
    "user_book_filled['pearson_measure'] = user_book_filled.apply(lambda raw: get_pearson_measure(user_scores, raw.values), axis= 1)"
   ],
   "metadata": {
    "collapsed": false,
    "ExecuteTime": {
     "end_time": "2023-10-26T06:38:45.442916600Z",
     "start_time": "2023-10-26T06:38:44.365248700Z"
    }
   },
   "id": "fd31be098f9bc7ab"
  },
  {
   "cell_type": "code",
   "execution_count": 29,
   "outputs": [
    {
     "data": {
      "text/plain": "Book-Title\njaccard_measure    0.108911\ncos_measure        1.000000\npearson_measure    1.000000\nName: 6563, dtype: float64"
     },
     "execution_count": 29,
     "metadata": {},
     "output_type": "execute_result"
    }
   ],
   "source": [
    "user_book_filled.loc[user_id][['jaccard_measure', 'cos_measure', 'pearson_measure']]"
   ],
   "metadata": {
    "collapsed": false,
    "ExecuteTime": {
     "end_time": "2023-10-26T06:38:45.458217800Z",
     "start_time": "2023-10-26T06:38:44.744611300Z"
    }
   },
   "id": "2ad2945aa0362d9c"
  },
  {
   "cell_type": "code",
   "execution_count": 30,
   "outputs": [
    {
     "data": {
      "text/plain": "Book-Title  jaccard_measure\nUser-ID                    \n6563               0.108911\n11676              0.087379\n16795              0.056604\n25216              0.027523\n28177              0.027523",
      "text/html": "<div>\n<style scoped>\n    .dataframe tbody tr th:only-of-type {\n        vertical-align: middle;\n    }\n\n    .dataframe tbody tr th {\n        vertical-align: top;\n    }\n\n    .dataframe thead th {\n        text-align: right;\n    }\n</style>\n<table border=\"1\" class=\"dataframe\">\n  <thead>\n    <tr style=\"text-align: right;\">\n      <th>Book-Title</th>\n      <th>jaccard_measure</th>\n    </tr>\n    <tr>\n      <th>User-ID</th>\n      <th></th>\n    </tr>\n  </thead>\n  <tbody>\n    <tr>\n      <th>6563</th>\n      <td>0.108911</td>\n    </tr>\n    <tr>\n      <th>11676</th>\n      <td>0.087379</td>\n    </tr>\n    <tr>\n      <th>16795</th>\n      <td>0.056604</td>\n    </tr>\n    <tr>\n      <th>25216</th>\n      <td>0.027523</td>\n    </tr>\n    <tr>\n      <th>28177</th>\n      <td>0.027523</td>\n    </tr>\n  </tbody>\n</table>\n</div>"
     },
     "execution_count": 30,
     "metadata": {},
     "output_type": "execute_result"
    }
   ],
   "source": [
    "top_jaccard = user_book_filled.sort_values(\"jaccard_measure\", ascending=False)[['jaccard_measure']][:5]\n",
    "top_jaccard"
   ],
   "metadata": {
    "collapsed": false,
    "ExecuteTime": {
     "end_time": "2023-10-26T06:38:45.459172700Z",
     "start_time": "2023-10-26T06:38:44.753612400Z"
    }
   },
   "id": "dadefa38a6e911b0"
  },
  {
   "cell_type": "code",
   "execution_count": 31,
   "outputs": [
    {
     "data": {
      "text/plain": "Book-Title  Good in Bed  House of Sand and Fog  Life of Pi  \\\nUser-ID                                                      \n6563                9.0                    NaN         NaN   \n11676               8.0                    7.0         6.0   \n16795               9.0                    9.0        10.0   \n25216               NaN                    NaN         NaN   \n28177               NaN                   10.0         9.0   \n\nBook-Title  She's Come Undone (Oprah's Book Club)  Summer Sisters  The Client  \\\nUser-ID                                                                         \n6563                                          2.0             9.0         9.0   \n11676                                         NaN             7.0         7.5   \n16795                                        10.0             9.0         5.0   \n25216                                         6.0             NaN         NaN   \n28177                                         NaN             NaN         NaN   \n\nBook-Title  The Five People You Meet in Heaven  The Nanny Diaries: A Novel  \\\nUser-ID                                                                      \n6563                                      10.0                         7.0   \n11676                                      9.0                         7.5   \n16795                                      8.0                         9.0   \n25216                                      NaN                         7.0   \n28177                                      NaN                         8.0   \n\nBook-Title  The Reader  \\\nUser-ID                  \n6563               NaN   \n11676              8.5   \n16795              5.0   \n25216              NaN   \n28177              6.0   \n\nBook-Title  Tuesdays with Morrie: An Old Man, a Young Man, and Life's Greatest Lesson  \\\nUser-ID                                                                                 \n6563                                                     10.0                           \n11676                                                     9.0                           \n16795                                                     NaN                           \n25216                                                     NaN                           \n28177                                                     9.0                           \n\nBook-Title  Wicked: The Life and Times of the Wicked Witch of the West  \nUser-ID                                                                 \n6563                                                      8.0           \n11676                                                     9.0           \n16795                                                     NaN           \n25216                                                     8.0           \n28177                                                     8.0           ",
      "text/html": "<div>\n<style scoped>\n    .dataframe tbody tr th:only-of-type {\n        vertical-align: middle;\n    }\n\n    .dataframe tbody tr th {\n        vertical-align: top;\n    }\n\n    .dataframe thead th {\n        text-align: right;\n    }\n</style>\n<table border=\"1\" class=\"dataframe\">\n  <thead>\n    <tr style=\"text-align: right;\">\n      <th>Book-Title</th>\n      <th>Good in Bed</th>\n      <th>House of Sand and Fog</th>\n      <th>Life of Pi</th>\n      <th>She's Come Undone (Oprah's Book Club)</th>\n      <th>Summer Sisters</th>\n      <th>The Client</th>\n      <th>The Five People You Meet in Heaven</th>\n      <th>The Nanny Diaries: A Novel</th>\n      <th>The Reader</th>\n      <th>Tuesdays with Morrie: An Old Man, a Young Man, and Life's Greatest Lesson</th>\n      <th>Wicked: The Life and Times of the Wicked Witch of the West</th>\n    </tr>\n    <tr>\n      <th>User-ID</th>\n      <th></th>\n      <th></th>\n      <th></th>\n      <th></th>\n      <th></th>\n      <th></th>\n      <th></th>\n      <th></th>\n      <th></th>\n      <th></th>\n      <th></th>\n    </tr>\n  </thead>\n  <tbody>\n    <tr>\n      <th>6563</th>\n      <td>9.0</td>\n      <td>NaN</td>\n      <td>NaN</td>\n      <td>2.0</td>\n      <td>9.0</td>\n      <td>9.0</td>\n      <td>10.0</td>\n      <td>7.0</td>\n      <td>NaN</td>\n      <td>10.0</td>\n      <td>8.0</td>\n    </tr>\n    <tr>\n      <th>11676</th>\n      <td>8.0</td>\n      <td>7.0</td>\n      <td>6.0</td>\n      <td>NaN</td>\n      <td>7.0</td>\n      <td>7.5</td>\n      <td>9.0</td>\n      <td>7.5</td>\n      <td>8.5</td>\n      <td>9.0</td>\n      <td>9.0</td>\n    </tr>\n    <tr>\n      <th>16795</th>\n      <td>9.0</td>\n      <td>9.0</td>\n      <td>10.0</td>\n      <td>10.0</td>\n      <td>9.0</td>\n      <td>5.0</td>\n      <td>8.0</td>\n      <td>9.0</td>\n      <td>5.0</td>\n      <td>NaN</td>\n      <td>NaN</td>\n    </tr>\n    <tr>\n      <th>25216</th>\n      <td>NaN</td>\n      <td>NaN</td>\n      <td>NaN</td>\n      <td>6.0</td>\n      <td>NaN</td>\n      <td>NaN</td>\n      <td>NaN</td>\n      <td>7.0</td>\n      <td>NaN</td>\n      <td>NaN</td>\n      <td>8.0</td>\n    </tr>\n    <tr>\n      <th>28177</th>\n      <td>NaN</td>\n      <td>10.0</td>\n      <td>9.0</td>\n      <td>NaN</td>\n      <td>NaN</td>\n      <td>NaN</td>\n      <td>NaN</td>\n      <td>8.0</td>\n      <td>6.0</td>\n      <td>9.0</td>\n      <td>8.0</td>\n    </tr>\n  </tbody>\n</table>\n</div>"
     },
     "execution_count": 31,
     "metadata": {},
     "output_type": "execute_result"
    }
   ],
   "source": [
    "get_top_books(user_book_df, top_jaccard)"
   ],
   "metadata": {
    "collapsed": false,
    "ExecuteTime": {
     "end_time": "2023-10-26T06:38:45.460172700Z",
     "start_time": "2023-10-26T06:38:44.766814400Z"
    }
   },
   "id": "a3ece62891b26526"
  },
  {
   "cell_type": "code",
   "execution_count": 32,
   "outputs": [
    {
     "data": {
      "text/plain": "Book-Title  cos_measure\nUser-ID                \n6563           1.000000\n25996          0.464959\n20703          0.456561\n11676          0.451121\n26057          0.439625",
      "text/html": "<div>\n<style scoped>\n    .dataframe tbody tr th:only-of-type {\n        vertical-align: middle;\n    }\n\n    .dataframe tbody tr th {\n        vertical-align: top;\n    }\n\n    .dataframe thead th {\n        text-align: right;\n    }\n</style>\n<table border=\"1\" class=\"dataframe\">\n  <thead>\n    <tr style=\"text-align: right;\">\n      <th>Book-Title</th>\n      <th>cos_measure</th>\n    </tr>\n    <tr>\n      <th>User-ID</th>\n      <th></th>\n    </tr>\n  </thead>\n  <tbody>\n    <tr>\n      <th>6563</th>\n      <td>1.000000</td>\n    </tr>\n    <tr>\n      <th>25996</th>\n      <td>0.464959</td>\n    </tr>\n    <tr>\n      <th>20703</th>\n      <td>0.456561</td>\n    </tr>\n    <tr>\n      <th>11676</th>\n      <td>0.451121</td>\n    </tr>\n    <tr>\n      <th>26057</th>\n      <td>0.439625</td>\n    </tr>\n  </tbody>\n</table>\n</div>"
     },
     "execution_count": 32,
     "metadata": {},
     "output_type": "execute_result"
    }
   ],
   "source": [
    "top_cos = user_book_filled.sort_values(\"cos_measure\", ascending=False)[['cos_measure']][:5]\n",
    "top_cos"
   ],
   "metadata": {
    "collapsed": false,
    "ExecuteTime": {
     "end_time": "2023-10-26T06:38:45.461171800Z",
     "start_time": "2023-10-26T06:38:44.792868200Z"
    }
   },
   "id": "cd2d66659df6cc3e"
  },
  {
   "cell_type": "code",
   "execution_count": 33,
   "outputs": [
    {
     "data": {
      "text/plain": "Book-Title  The Bean Trees  The Five People You Meet in Heaven  \\\nUser-ID                                                          \n6563                   9.0                                10.0   \n11676                  NaN                                 9.0   \n20703                  NaN                                 8.0   \n25996                  9.0                                 6.0   \n26057                 10.0                                 NaN   \n\nBook-Title  The Nanny Diaries: A Novel  \\\nUser-ID                                  \n6563                               7.0   \n11676                              7.5   \n20703                              NaN   \n25996                              NaN   \n26057                             10.0   \n\nBook-Title  Tuesdays with Morrie: An Old Man, a Young Man, and Life's Greatest Lesson  \\\nUser-ID                                                                                 \n6563                                                     10.0                           \n11676                                                     9.0                           \n20703                                                     NaN                           \n25996                                                     NaN                           \n26057                                                    10.0                           \n\nBook-Title  Wicked: The Life and Times of the Wicked Witch of the West  \nUser-ID                                                                 \n6563                                                      8.0           \n11676                                                     9.0           \n20703                                                     6.0           \n25996                                                     NaN           \n26057                                                     NaN           ",
      "text/html": "<div>\n<style scoped>\n    .dataframe tbody tr th:only-of-type {\n        vertical-align: middle;\n    }\n\n    .dataframe tbody tr th {\n        vertical-align: top;\n    }\n\n    .dataframe thead th {\n        text-align: right;\n    }\n</style>\n<table border=\"1\" class=\"dataframe\">\n  <thead>\n    <tr style=\"text-align: right;\">\n      <th>Book-Title</th>\n      <th>The Bean Trees</th>\n      <th>The Five People You Meet in Heaven</th>\n      <th>The Nanny Diaries: A Novel</th>\n      <th>Tuesdays with Morrie: An Old Man, a Young Man, and Life's Greatest Lesson</th>\n      <th>Wicked: The Life and Times of the Wicked Witch of the West</th>\n    </tr>\n    <tr>\n      <th>User-ID</th>\n      <th></th>\n      <th></th>\n      <th></th>\n      <th></th>\n      <th></th>\n    </tr>\n  </thead>\n  <tbody>\n    <tr>\n      <th>6563</th>\n      <td>9.0</td>\n      <td>10.0</td>\n      <td>7.0</td>\n      <td>10.0</td>\n      <td>8.0</td>\n    </tr>\n    <tr>\n      <th>11676</th>\n      <td>NaN</td>\n      <td>9.0</td>\n      <td>7.5</td>\n      <td>9.0</td>\n      <td>9.0</td>\n    </tr>\n    <tr>\n      <th>20703</th>\n      <td>NaN</td>\n      <td>8.0</td>\n      <td>NaN</td>\n      <td>NaN</td>\n      <td>6.0</td>\n    </tr>\n    <tr>\n      <th>25996</th>\n      <td>9.0</td>\n      <td>6.0</td>\n      <td>NaN</td>\n      <td>NaN</td>\n      <td>NaN</td>\n    </tr>\n    <tr>\n      <th>26057</th>\n      <td>10.0</td>\n      <td>NaN</td>\n      <td>10.0</td>\n      <td>10.0</td>\n      <td>NaN</td>\n    </tr>\n  </tbody>\n</table>\n</div>"
     },
     "execution_count": 33,
     "metadata": {},
     "output_type": "execute_result"
    }
   ],
   "source": [
    "get_top_books(user_book_df, top_cos)"
   ],
   "metadata": {
    "collapsed": false,
    "ExecuteTime": {
     "end_time": "2023-10-26T06:38:45.461171800Z",
     "start_time": "2023-10-26T06:38:44.801869Z"
    }
   },
   "id": "3a404cc2388ac999"
  },
  {
   "cell_type": "code",
   "execution_count": 34,
   "outputs": [
    {
     "data": {
      "text/plain": "Book-Title  pearson_measure\nUser-ID                    \n6563               1.000000\n25996              0.434243\n20703              0.424071\n16009              0.400809\n26057              0.361691",
      "text/html": "<div>\n<style scoped>\n    .dataframe tbody tr th:only-of-type {\n        vertical-align: middle;\n    }\n\n    .dataframe tbody tr th {\n        vertical-align: top;\n    }\n\n    .dataframe thead th {\n        text-align: right;\n    }\n</style>\n<table border=\"1\" class=\"dataframe\">\n  <thead>\n    <tr style=\"text-align: right;\">\n      <th>Book-Title</th>\n      <th>pearson_measure</th>\n    </tr>\n    <tr>\n      <th>User-ID</th>\n      <th></th>\n    </tr>\n  </thead>\n  <tbody>\n    <tr>\n      <th>6563</th>\n      <td>1.000000</td>\n    </tr>\n    <tr>\n      <th>25996</th>\n      <td>0.434243</td>\n    </tr>\n    <tr>\n      <th>20703</th>\n      <td>0.424071</td>\n    </tr>\n    <tr>\n      <th>16009</th>\n      <td>0.400809</td>\n    </tr>\n    <tr>\n      <th>26057</th>\n      <td>0.361691</td>\n    </tr>\n  </tbody>\n</table>\n</div>"
     },
     "execution_count": 34,
     "metadata": {},
     "output_type": "execute_result"
    }
   ],
   "source": [
    "top_pearson = user_book_filled.sort_values(\"pearson_measure\", ascending=False)[['pearson_measure']][:5]\n",
    "top_pearson"
   ],
   "metadata": {
    "collapsed": false,
    "ExecuteTime": {
     "end_time": "2023-10-26T06:38:45.461171800Z",
     "start_time": "2023-10-26T06:38:44.822567700Z"
    }
   },
   "id": "86d8fcf58de4fc98"
  },
  {
   "cell_type": "code",
   "execution_count": 35,
   "outputs": [
    {
     "data": {
      "text/plain": "Book-Title  The Bean Trees  The Five People You Meet in Heaven  \\\nUser-ID                                                          \n6563                   9.0                                10.0   \n16009                  NaN                                 6.0   \n20703                  NaN                                 8.0   \n25996                  9.0                                 6.0   \n26057                 10.0                                 NaN   \n\nBook-Title  Wicked: The Life and Times of the Wicked Witch of the West  \nUser-ID                                                                 \n6563                                                      8.0           \n16009                                                     9.0           \n20703                                                     6.0           \n25996                                                     NaN           \n26057                                                     NaN           ",
      "text/html": "<div>\n<style scoped>\n    .dataframe tbody tr th:only-of-type {\n        vertical-align: middle;\n    }\n\n    .dataframe tbody tr th {\n        vertical-align: top;\n    }\n\n    .dataframe thead th {\n        text-align: right;\n    }\n</style>\n<table border=\"1\" class=\"dataframe\">\n  <thead>\n    <tr style=\"text-align: right;\">\n      <th>Book-Title</th>\n      <th>The Bean Trees</th>\n      <th>The Five People You Meet in Heaven</th>\n      <th>Wicked: The Life and Times of the Wicked Witch of the West</th>\n    </tr>\n    <tr>\n      <th>User-ID</th>\n      <th></th>\n      <th></th>\n      <th></th>\n    </tr>\n  </thead>\n  <tbody>\n    <tr>\n      <th>6563</th>\n      <td>9.0</td>\n      <td>10.0</td>\n      <td>8.0</td>\n    </tr>\n    <tr>\n      <th>16009</th>\n      <td>NaN</td>\n      <td>6.0</td>\n      <td>9.0</td>\n    </tr>\n    <tr>\n      <th>20703</th>\n      <td>NaN</td>\n      <td>8.0</td>\n      <td>6.0</td>\n    </tr>\n    <tr>\n      <th>25996</th>\n      <td>9.0</td>\n      <td>6.0</td>\n      <td>NaN</td>\n    </tr>\n    <tr>\n      <th>26057</th>\n      <td>10.0</td>\n      <td>NaN</td>\n      <td>NaN</td>\n    </tr>\n  </tbody>\n</table>\n</div>"
     },
     "execution_count": 35,
     "metadata": {},
     "output_type": "execute_result"
    }
   ],
   "source": [
    "get_top_books(user_book_df, top_pearson)"
   ],
   "metadata": {
    "collapsed": false,
    "ExecuteTime": {
     "end_time": "2023-10-26T06:38:45.462170Z",
     "start_time": "2023-10-26T06:38:44.835154500Z"
    }
   },
   "id": "ad7d0e0e98f6c6c2"
  },
  {
   "cell_type": "code",
   "execution_count": 35,
   "outputs": [],
   "source": [],
   "metadata": {
    "collapsed": false,
    "ExecuteTime": {
     "end_time": "2023-10-26T06:38:45.462170Z",
     "start_time": "2023-10-26T06:38:44.851181600Z"
    }
   },
   "id": "89d1677edbd488d1"
  },
  {
   "cell_type": "markdown",
   "source": [
    "### По объекту"
   ],
   "metadata": {
    "collapsed": false
   },
   "id": "9fb39d03a6cc2525"
  },
  {
   "cell_type": "code",
   "execution_count": 36,
   "outputs": [],
   "source": [
    "book_name=\"The Da Vinci Code\""
   ],
   "metadata": {
    "collapsed": false,
    "ExecuteTime": {
     "end_time": "2023-10-26T06:38:45.462170Z",
     "start_time": "2023-10-26T06:38:44.861236900Z"
    }
   },
   "id": "550ead529708421c"
  },
  {
   "cell_type": "code",
   "execution_count": 37,
   "outputs": [],
   "source": [
    "book_scores = book_user_filled.loc[book_name].values"
   ],
   "metadata": {
    "collapsed": false,
    "ExecuteTime": {
     "end_time": "2023-10-26T06:38:45.489671700Z",
     "start_time": "2023-10-26T06:38:44.867250900Z"
    }
   },
   "id": "6121de194ee39ac2"
  },
  {
   "cell_type": "code",
   "execution_count": 38,
   "outputs": [
    {
     "name": "stdout",
     "output_type": "stream",
     "text": [
      "Jaccard:\t0.026631853785900782\n",
      "Cos:\t\t0.9999999999999999\n",
      "Pearson:\t1.0000000000000002\n"
     ]
    }
   ],
   "source": [
    "print_obj_self_measure(book_scores)"
   ],
   "metadata": {
    "collapsed": false,
    "ExecuteTime": {
     "end_time": "2023-10-26T06:38:45.490670400Z",
     "start_time": "2023-10-26T06:38:44.877460400Z"
    }
   },
   "id": "f3ce2c065cc6ccf"
  },
  {
   "cell_type": "code",
   "execution_count": 39,
   "outputs": [],
   "source": [
    "book_user_filled['jaccard_measure'] = book_user_filled.apply(lambda col: get_jaccard_measure(book_scores, col.values), axis=1)\n",
    "book_user_filled['cos_measure'] = book_user_filled.apply(lambda col: get_cos_measure(book_scores, col.values), axis=1)\n",
    "book_user_filled['pearson_measure'] = book_user_filled.apply(lambda col: get_pearson_measure(book_scores, col.values), axis=1)"
   ],
   "metadata": {
    "collapsed": false,
    "ExecuteTime": {
     "end_time": "2023-10-26T06:38:45.561493500Z",
     "start_time": "2023-10-26T06:38:44.892594800Z"
    }
   },
   "id": "6abfb8bd411c0f6e"
  },
  {
   "cell_type": "code",
   "execution_count": 40,
   "outputs": [
    {
     "data": {
      "text/plain": "User-ID\njaccard_measure    0.026632\ncos_measure        1.000000\npearson_measure    1.000000\nName: The Da Vinci Code, dtype: float64"
     },
     "execution_count": 40,
     "metadata": {},
     "output_type": "execute_result"
    }
   ],
   "source": [
    "book_user_filled[['jaccard_measure', 'cos_measure', 'pearson_measure']].loc[book_name]"
   ],
   "metadata": {
    "collapsed": false,
    "ExecuteTime": {
     "end_time": "2023-10-26T06:38:45.598739900Z",
     "start_time": "2023-10-26T06:38:45.040948600Z"
    }
   },
   "id": "12dec2219066a5e1"
  },
  {
   "cell_type": "code",
   "execution_count": 41,
   "outputs": [
    {
     "data": {
      "text/plain": "User-ID                     jaccard_measure\nBook-Title                                 \nThe Da Vinci Code                  0.026632\nThe Lovely Bones: A Novel          0.005112\nGood in Bed                        0.003573\nAngels &amp; Demons                0.003061\nThe Nanny Diaries: A Novel         0.002550",
      "text/html": "<div>\n<style scoped>\n    .dataframe tbody tr th:only-of-type {\n        vertical-align: middle;\n    }\n\n    .dataframe tbody tr th {\n        vertical-align: top;\n    }\n\n    .dataframe thead th {\n        text-align: right;\n    }\n</style>\n<table border=\"1\" class=\"dataframe\">\n  <thead>\n    <tr style=\"text-align: right;\">\n      <th>User-ID</th>\n      <th>jaccard_measure</th>\n    </tr>\n    <tr>\n      <th>Book-Title</th>\n      <th></th>\n    </tr>\n  </thead>\n  <tbody>\n    <tr>\n      <th>The Da Vinci Code</th>\n      <td>0.026632</td>\n    </tr>\n    <tr>\n      <th>The Lovely Bones: A Novel</th>\n      <td>0.005112</td>\n    </tr>\n    <tr>\n      <th>Good in Bed</th>\n      <td>0.003573</td>\n    </tr>\n    <tr>\n      <th>Angels &amp;amp; Demons</th>\n      <td>0.003061</td>\n    </tr>\n    <tr>\n      <th>The Nanny Diaries: A Novel</th>\n      <td>0.002550</td>\n    </tr>\n  </tbody>\n</table>\n</div>"
     },
     "execution_count": 41,
     "metadata": {},
     "output_type": "execute_result"
    }
   ],
   "source": [
    "book_jaccard = book_user_filled.sort_values(\"jaccard_measure\", ascending=False)[['jaccard_measure']][:5]\n",
    "book_jaccard"
   ],
   "metadata": {
    "collapsed": false,
    "ExecuteTime": {
     "end_time": "2023-10-26T06:38:45.645162100Z",
     "start_time": "2023-10-26T06:38:45.048383700Z"
    }
   },
   "id": "247746338df766b9"
  },
  {
   "cell_type": "code",
   "execution_count": 42,
   "outputs": [
    {
     "data": {
      "text/plain": "User-ID                     5476   7283   10560  11224  11676  13273  15602  \\\nBook-Title                                                                    \nAngels &amp; Demons           NaN    NaN    8.0    7.0    8.0    8.0    NaN   \nGood in Bed                   NaN    8.0    8.0    NaN    8.0    NaN   10.0   \nThe Da Vinci Code            10.0    9.0   10.0    9.0    9.0    9.0    9.0   \nThe Lovely Bones: A Novel     4.0    NaN    8.0    9.0    5.0    8.0    9.0   \nThe Nanny Diaries: A Novel    7.0    9.0    NaN    NaN    7.5    NaN    7.0   \n\nUser-ID                     16795  \nBook-Title                         \nAngels &amp; Demons           NaN  \nGood in Bed                   9.0  \nThe Da Vinci Code            10.0  \nThe Lovely Bones: A Novel    10.0  \nThe Nanny Diaries: A Novel    9.0  ",
      "text/html": "<div>\n<style scoped>\n    .dataframe tbody tr th:only-of-type {\n        vertical-align: middle;\n    }\n\n    .dataframe tbody tr th {\n        vertical-align: top;\n    }\n\n    .dataframe thead th {\n        text-align: right;\n    }\n</style>\n<table border=\"1\" class=\"dataframe\">\n  <thead>\n    <tr style=\"text-align: right;\">\n      <th>User-ID</th>\n      <th>5476</th>\n      <th>7283</th>\n      <th>10560</th>\n      <th>11224</th>\n      <th>11676</th>\n      <th>13273</th>\n      <th>15602</th>\n      <th>16795</th>\n    </tr>\n    <tr>\n      <th>Book-Title</th>\n      <th></th>\n      <th></th>\n      <th></th>\n      <th></th>\n      <th></th>\n      <th></th>\n      <th></th>\n      <th></th>\n    </tr>\n  </thead>\n  <tbody>\n    <tr>\n      <th>Angels &amp;amp; Demons</th>\n      <td>NaN</td>\n      <td>NaN</td>\n      <td>8.0</td>\n      <td>7.0</td>\n      <td>8.0</td>\n      <td>8.0</td>\n      <td>NaN</td>\n      <td>NaN</td>\n    </tr>\n    <tr>\n      <th>Good in Bed</th>\n      <td>NaN</td>\n      <td>8.0</td>\n      <td>8.0</td>\n      <td>NaN</td>\n      <td>8.0</td>\n      <td>NaN</td>\n      <td>10.0</td>\n      <td>9.0</td>\n    </tr>\n    <tr>\n      <th>The Da Vinci Code</th>\n      <td>10.0</td>\n      <td>9.0</td>\n      <td>10.0</td>\n      <td>9.0</td>\n      <td>9.0</td>\n      <td>9.0</td>\n      <td>9.0</td>\n      <td>10.0</td>\n    </tr>\n    <tr>\n      <th>The Lovely Bones: A Novel</th>\n      <td>4.0</td>\n      <td>NaN</td>\n      <td>8.0</td>\n      <td>9.0</td>\n      <td>5.0</td>\n      <td>8.0</td>\n      <td>9.0</td>\n      <td>10.0</td>\n    </tr>\n    <tr>\n      <th>The Nanny Diaries: A Novel</th>\n      <td>7.0</td>\n      <td>9.0</td>\n      <td>NaN</td>\n      <td>NaN</td>\n      <td>7.5</td>\n      <td>NaN</td>\n      <td>7.0</td>\n      <td>9.0</td>\n    </tr>\n  </tbody>\n</table>\n</div>"
     },
     "execution_count": 42,
     "metadata": {},
     "output_type": "execute_result"
    }
   ],
   "source": [
    "get_top_books(book_user_df, book_jaccard)"
   ],
   "metadata": {
    "collapsed": false,
    "ExecuteTime": {
     "end_time": "2023-10-26T06:38:45.739085900Z",
     "start_time": "2023-10-26T06:38:45.063367600Z"
    }
   },
   "id": "a57f11b1ad380f10"
  },
  {
   "cell_type": "code",
   "execution_count": 43,
   "outputs": [
    {
     "data": {
      "text/plain": "User-ID                    cos_measure\nBook-Title                            \nThe Da Vinci Code             1.000000\nGood in Bed                   0.207855\nThe Lovely Bones: A Novel     0.161445\nAngels &amp; Demons           0.148543\nThe Reader                    0.133176",
      "text/html": "<div>\n<style scoped>\n    .dataframe tbody tr th:only-of-type {\n        vertical-align: middle;\n    }\n\n    .dataframe tbody tr th {\n        vertical-align: top;\n    }\n\n    .dataframe thead th {\n        text-align: right;\n    }\n</style>\n<table border=\"1\" class=\"dataframe\">\n  <thead>\n    <tr style=\"text-align: right;\">\n      <th>User-ID</th>\n      <th>cos_measure</th>\n    </tr>\n    <tr>\n      <th>Book-Title</th>\n      <th></th>\n    </tr>\n  </thead>\n  <tbody>\n    <tr>\n      <th>The Da Vinci Code</th>\n      <td>1.000000</td>\n    </tr>\n    <tr>\n      <th>Good in Bed</th>\n      <td>0.207855</td>\n    </tr>\n    <tr>\n      <th>The Lovely Bones: A Novel</th>\n      <td>0.161445</td>\n    </tr>\n    <tr>\n      <th>Angels &amp;amp; Demons</th>\n      <td>0.148543</td>\n    </tr>\n    <tr>\n      <th>The Reader</th>\n      <td>0.133176</td>\n    </tr>\n  </tbody>\n</table>\n</div>"
     },
     "execution_count": 43,
     "metadata": {},
     "output_type": "execute_result"
    }
   ],
   "source": [
    "book_cos = book_user_filled.sort_values(\"cos_measure\", ascending=False)[['cos_measure']][:5]\n",
    "book_cos"
   ],
   "metadata": {
    "collapsed": false,
    "ExecuteTime": {
     "end_time": "2023-10-26T06:38:45.760264200Z",
     "start_time": "2023-10-26T06:38:45.083364900Z"
    }
   },
   "id": "51c697751435ab36"
  },
  {
   "cell_type": "code",
   "execution_count": 44,
   "outputs": [
    {
     "data": {
      "text/plain": "User-ID                    638    7283   10560  11224  11676  13273  15602  \\\nBook-Title                                                                   \nAngels &amp; Demons          NaN    NaN    8.0    7.0    8.0    8.0    NaN   \nGood in Bed                  NaN    8.0    8.0    NaN    8.0    NaN   10.0   \nThe Da Vinci Code           10.0    9.0   10.0    9.0    9.0    9.0    9.0   \nThe Lovely Bones: A Novel   10.0    NaN    8.0    9.0    5.0    8.0    9.0   \nThe Reader                  10.0   10.0    NaN    NaN    8.5    NaN    NaN   \n\nUser-ID                    16795  \nBook-Title                        \nAngels &amp; Demons          NaN  \nGood in Bed                  9.0  \nThe Da Vinci Code           10.0  \nThe Lovely Bones: A Novel   10.0  \nThe Reader                   5.0  ",
      "text/html": "<div>\n<style scoped>\n    .dataframe tbody tr th:only-of-type {\n        vertical-align: middle;\n    }\n\n    .dataframe tbody tr th {\n        vertical-align: top;\n    }\n\n    .dataframe thead th {\n        text-align: right;\n    }\n</style>\n<table border=\"1\" class=\"dataframe\">\n  <thead>\n    <tr style=\"text-align: right;\">\n      <th>User-ID</th>\n      <th>638</th>\n      <th>7283</th>\n      <th>10560</th>\n      <th>11224</th>\n      <th>11676</th>\n      <th>13273</th>\n      <th>15602</th>\n      <th>16795</th>\n    </tr>\n    <tr>\n      <th>Book-Title</th>\n      <th></th>\n      <th></th>\n      <th></th>\n      <th></th>\n      <th></th>\n      <th></th>\n      <th></th>\n      <th></th>\n    </tr>\n  </thead>\n  <tbody>\n    <tr>\n      <th>Angels &amp;amp; Demons</th>\n      <td>NaN</td>\n      <td>NaN</td>\n      <td>8.0</td>\n      <td>7.0</td>\n      <td>8.0</td>\n      <td>8.0</td>\n      <td>NaN</td>\n      <td>NaN</td>\n    </tr>\n    <tr>\n      <th>Good in Bed</th>\n      <td>NaN</td>\n      <td>8.0</td>\n      <td>8.0</td>\n      <td>NaN</td>\n      <td>8.0</td>\n      <td>NaN</td>\n      <td>10.0</td>\n      <td>9.0</td>\n    </tr>\n    <tr>\n      <th>The Da Vinci Code</th>\n      <td>10.0</td>\n      <td>9.0</td>\n      <td>10.0</td>\n      <td>9.0</td>\n      <td>9.0</td>\n      <td>9.0</td>\n      <td>9.0</td>\n      <td>10.0</td>\n    </tr>\n    <tr>\n      <th>The Lovely Bones: A Novel</th>\n      <td>10.0</td>\n      <td>NaN</td>\n      <td>8.0</td>\n      <td>9.0</td>\n      <td>5.0</td>\n      <td>8.0</td>\n      <td>9.0</td>\n      <td>10.0</td>\n    </tr>\n    <tr>\n      <th>The Reader</th>\n      <td>10.0</td>\n      <td>10.0</td>\n      <td>NaN</td>\n      <td>NaN</td>\n      <td>8.5</td>\n      <td>NaN</td>\n      <td>NaN</td>\n      <td>5.0</td>\n    </tr>\n  </tbody>\n</table>\n</div>"
     },
     "execution_count": 44,
     "metadata": {},
     "output_type": "execute_result"
    }
   ],
   "source": [
    "get_top_books(book_user_df, book_cos)"
   ],
   "metadata": {
    "collapsed": false,
    "ExecuteTime": {
     "end_time": "2023-10-26T06:38:45.847089Z",
     "start_time": "2023-10-26T06:38:45.096199100Z"
    }
   },
   "id": "b899fa9fdebc0807"
  },
  {
   "cell_type": "code",
   "execution_count": 45,
   "outputs": [
    {
     "data": {
      "text/plain": "User-ID                    pearson_measure\nBook-Title                                \nThe Da Vinci Code                 1.000000\nGood in Bed                       0.175925\nAngels &amp; Demons               0.111290\nThe Lovely Bones: A Novel         0.106290\nThe Reader                        0.102919",
      "text/html": "<div>\n<style scoped>\n    .dataframe tbody tr th:only-of-type {\n        vertical-align: middle;\n    }\n\n    .dataframe tbody tr th {\n        vertical-align: top;\n    }\n\n    .dataframe thead th {\n        text-align: right;\n    }\n</style>\n<table border=\"1\" class=\"dataframe\">\n  <thead>\n    <tr style=\"text-align: right;\">\n      <th>User-ID</th>\n      <th>pearson_measure</th>\n    </tr>\n    <tr>\n      <th>Book-Title</th>\n      <th></th>\n    </tr>\n  </thead>\n  <tbody>\n    <tr>\n      <th>The Da Vinci Code</th>\n      <td>1.000000</td>\n    </tr>\n    <tr>\n      <th>Good in Bed</th>\n      <td>0.175925</td>\n    </tr>\n    <tr>\n      <th>Angels &amp;amp; Demons</th>\n      <td>0.111290</td>\n    </tr>\n    <tr>\n      <th>The Lovely Bones: A Novel</th>\n      <td>0.106290</td>\n    </tr>\n    <tr>\n      <th>The Reader</th>\n      <td>0.102919</td>\n    </tr>\n  </tbody>\n</table>\n</div>"
     },
     "execution_count": 45,
     "metadata": {},
     "output_type": "execute_result"
    }
   ],
   "source": [
    "book_pearson = book_user_filled.sort_values(\"pearson_measure\", ascending=False)[['pearson_measure']][:5]\n",
    "book_pearson"
   ],
   "metadata": {
    "collapsed": false,
    "ExecuteTime": {
     "end_time": "2023-10-26T06:38:45.957886700Z",
     "start_time": "2023-10-26T06:38:45.114244Z"
    }
   },
   "id": "af526f3a9b167563"
  },
  {
   "cell_type": "code",
   "execution_count": 46,
   "outputs": [
    {
     "data": {
      "text/plain": "User-ID                    638    7283   10560  11224  11676  13273  15602  \\\nBook-Title                                                                   \nAngels &amp; Demons          NaN    NaN    8.0    7.0    8.0    8.0    NaN   \nGood in Bed                  NaN    8.0    8.0    NaN    8.0    NaN   10.0   \nThe Da Vinci Code           10.0    9.0   10.0    9.0    9.0    9.0    9.0   \nThe Lovely Bones: A Novel   10.0    NaN    8.0    9.0    5.0    8.0    9.0   \nThe Reader                  10.0   10.0    NaN    NaN    8.5    NaN    NaN   \n\nUser-ID                    16795  \nBook-Title                        \nAngels &amp; Demons          NaN  \nGood in Bed                  9.0  \nThe Da Vinci Code           10.0  \nThe Lovely Bones: A Novel   10.0  \nThe Reader                   5.0  ",
      "text/html": "<div>\n<style scoped>\n    .dataframe tbody tr th:only-of-type {\n        vertical-align: middle;\n    }\n\n    .dataframe tbody tr th {\n        vertical-align: top;\n    }\n\n    .dataframe thead th {\n        text-align: right;\n    }\n</style>\n<table border=\"1\" class=\"dataframe\">\n  <thead>\n    <tr style=\"text-align: right;\">\n      <th>User-ID</th>\n      <th>638</th>\n      <th>7283</th>\n      <th>10560</th>\n      <th>11224</th>\n      <th>11676</th>\n      <th>13273</th>\n      <th>15602</th>\n      <th>16795</th>\n    </tr>\n    <tr>\n      <th>Book-Title</th>\n      <th></th>\n      <th></th>\n      <th></th>\n      <th></th>\n      <th></th>\n      <th></th>\n      <th></th>\n      <th></th>\n    </tr>\n  </thead>\n  <tbody>\n    <tr>\n      <th>Angels &amp;amp; Demons</th>\n      <td>NaN</td>\n      <td>NaN</td>\n      <td>8.0</td>\n      <td>7.0</td>\n      <td>8.0</td>\n      <td>8.0</td>\n      <td>NaN</td>\n      <td>NaN</td>\n    </tr>\n    <tr>\n      <th>Good in Bed</th>\n      <td>NaN</td>\n      <td>8.0</td>\n      <td>8.0</td>\n      <td>NaN</td>\n      <td>8.0</td>\n      <td>NaN</td>\n      <td>10.0</td>\n      <td>9.0</td>\n    </tr>\n    <tr>\n      <th>The Da Vinci Code</th>\n      <td>10.0</td>\n      <td>9.0</td>\n      <td>10.0</td>\n      <td>9.0</td>\n      <td>9.0</td>\n      <td>9.0</td>\n      <td>9.0</td>\n      <td>10.0</td>\n    </tr>\n    <tr>\n      <th>The Lovely Bones: A Novel</th>\n      <td>10.0</td>\n      <td>NaN</td>\n      <td>8.0</td>\n      <td>9.0</td>\n      <td>5.0</td>\n      <td>8.0</td>\n      <td>9.0</td>\n      <td>10.0</td>\n    </tr>\n    <tr>\n      <th>The Reader</th>\n      <td>10.0</td>\n      <td>10.0</td>\n      <td>NaN</td>\n      <td>NaN</td>\n      <td>8.5</td>\n      <td>NaN</td>\n      <td>NaN</td>\n      <td>5.0</td>\n    </tr>\n  </tbody>\n</table>\n</div>"
     },
     "execution_count": 46,
     "metadata": {},
     "output_type": "execute_result"
    }
   ],
   "source": [
    "get_top_books(book_user_df, book_pearson)"
   ],
   "metadata": {
    "collapsed": false,
    "ExecuteTime": {
     "end_time": "2023-10-26T06:38:45.960887Z",
     "start_time": "2023-10-26T06:38:45.133792600Z"
    }
   },
   "id": "9376f319bf7df1"
  },
  {
   "cell_type": "code",
   "execution_count": null,
   "outputs": [],
   "source": [],
   "metadata": {
    "collapsed": false
   },
   "id": "581f31199bc6f1e8"
  }
 ],
 "metadata": {
  "kernelspec": {
   "display_name": "Python 3",
   "language": "python",
   "name": "python3"
  },
  "language_info": {
   "codemirror_mode": {
    "name": "ipython",
    "version": 2
   },
   "file_extension": ".py",
   "mimetype": "text/x-python",
   "name": "python",
   "nbconvert_exporter": "python",
   "pygments_lexer": "ipython2",
   "version": "2.7.6"
  }
 },
 "nbformat": 4,
 "nbformat_minor": 5
}
